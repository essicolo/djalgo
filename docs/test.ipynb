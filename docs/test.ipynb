{
 "cells": [
  {
   "cell_type": "code",
   "execution_count": 5,
   "metadata": {},
   "outputs": [
    {
     "data": {
      "application/vnd.jupyter.widget-view+json": {
       "model_id": "0761fa76133947dea7d578f3c652f7d7",
       "version_major": 2,
       "version_minor": 1
      },
      "text/plain": [
       "MusicPlayer(tracks=[[(60, 0.5, 0), (62, 0.5, 0.5), (64, 0.5, 1), (65, 0.5, 1.5), (67, 0.5, 2), (69, 0.5, 2.5),…"
      ]
     },
     "execution_count": 5,
     "metadata": {},
     "output_type": "execute_result"
    }
   ],
   "source": [
    "import djalgo as dj\n",
    "\n",
    "instrument1 = [\n",
    "    (60, 0.5, 0),\n",
    "    (62, 0.5, 0.5),\n",
    "    (64, 0.5, 1),\n",
    "    (65, 0.5, 1.5),\n",
    "    (67, 0.5, 2),\n",
    "    (69, 0.5, 2.5),\n",
    "    (71, 0.5, 3),\n",
    "    (72, 0.5, 3.5),\n",
    "]\n",
    "\n",
    "instrument2 = [\n",
    "    (72, 0.5, 0),\n",
    "    (71, 0.5, 0.5),\n",
    "    (69, 0.5, 1),\n",
    "    (67, 0.5, 1.5),\n",
    "    (65, 0.5, 2),\n",
    "    (64, 0.5, 2.5),\n",
    "    (62, 0.5, 3),\n",
    "    (60, 0.5, 3.5),\n",
    "]\n",
    "\n",
    "player = dj.player.show(\n",
    "    tracks = [instrument1, instrument2],\n",
    "    initial_bpm = 120,\n",
    ")\n",
    "player"
   ]
  },
  {
   "cell_type": "code",
   "execution_count": 6,
   "metadata": {},
   "outputs": [
    {
     "data": {
      "application/vnd.jupyter.widget-view+json": {
       "model_id": "59744244e5d34ceca0577943f70a4643",
       "version_major": 2,
       "version_minor": 1
      },
      "text/plain": [
       "ABCjsWidget(abc='X:1\\nT:Fabulous\\nM:4/4\\nL:1/4\\nQ:1/4=120\\nK:C\\n%%score T1 T2\\nV:T1 clef=treble\\nC/2 D/2 E/2 F…"
      ]
     },
     "execution_count": 6,
     "metadata": {},
     "output_type": "execute_result"
    }
   ],
   "source": [
    "dj.score.show(tracks=[instrument1, instrument2], title='Fabulous')"
   ]
  },
  {
   "cell_type": "code",
   "execution_count": null,
   "metadata": {},
   "outputs": [],
   "source": []
  },
  {
   "cell_type": "code",
   "execution_count": 7,
   "metadata": {
    "scrolled": true
   },
   "outputs": [
    {
     "name": "stdout",
     "output_type": "stream",
     "text": [
      "[(60, 0.5, 0), (62, 0.5, 0.5), (64, 0.5, 1), (65, 0.5, 1.5), (67, 0.5, 2), (69, 0.5, 2.5), (71, 0.5, 3), (72, 0.5, 3.5)]\n",
      "X:1\n",
      "T:Untitled\n",
      "M:4/4\n",
      "L:1/4\n",
      "Q:1/4=120\n",
      "K:C\n",
      "%%score T1\n",
      "V:T1 clef=treble\n",
      "C/2 D/2 E/2 F/2 G/2 A/2 B/2 c/2 |\n"
     ]
    }
   ],
   "source": [
    "print(instrument1)\n",
    "print(dj.conversion.to_abc(instrument1))"
   ]
  },
  {
   "cell_type": "code",
   "execution_count": 4,
   "metadata": {},
   "outputs": [
    {
     "data": {
      "application/vnd.jupyter.widget-view+json": {
       "model_id": "9ad8c172d74345d3a99d36618ddab68f",
       "version_major": 2,
       "version_minor": 1
      },
      "text/plain": [
       "ABCjsWidget(abc='X:1\\nT:None\\nM:None\\nL:1/4\\nQ:1/4=120\\nK:None\\n%%score T1 T2\\nV:T1 clef=treble\\nC/2 D/2 E/2 F…"
      ]
     },
     "execution_count": 4,
     "metadata": {},
     "output_type": "execute_result"
    }
   ],
   "source": [
    "dj.score.ABCjsWidget(abc=dj.conversion.convert(notes=[instrument1, instrument2], to='abc'))"
   ]
  },
  {
   "cell_type": "code",
   "execution_count": null,
   "metadata": {},
   "outputs": [],
   "source": []
  }
 ],
 "metadata": {
  "kernelspec": {
   "display_name": "Python 3 (ipykernel)",
   "language": "python",
   "name": "python3"
  },
  "language_info": {
   "codemirror_mode": {
    "name": "ipython",
    "version": 3
   },
   "file_extension": ".py",
   "mimetype": "text/x-python",
   "name": "python",
   "nbconvert_exporter": "python",
   "pygments_lexer": "ipython3",
   "version": "3.11.10"
  }
 },
 "nbformat": 4,
 "nbformat_minor": 4
}
