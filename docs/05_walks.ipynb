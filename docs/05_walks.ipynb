{
 "cells": [
  {
   "cell_type": "markdown",
   "metadata": {},
   "source": [
    "# 5. Walks\n",
    "\n",
    "Random and kernel walks represent fascinating techniques that have found applications in various fields. Each step of a walk is a consequence of the previous state, creating coherent yet unpredictable progressions. Walks have been embraced by composers and sound artists to wander through new territories of algorithmic music. Iannis Xenakis, a composer and architect, is perhaps one of the most renowned composers to integrate random processes, including random walks, into his compositions. Works like [Mikka](https://www.youtube.com/watch?v=Ifxs3TBSSAs) and [Epeï](https://www.youtube.com/watch?v=8ZP3TbLtfq4) are seminal examples where randomized methods contribute to the structural foundation of the music. Karlheinz Stockhausen and his work with controlled randomness and serial techniques also touch upon concepts akin to random walks. His compositions, such as [Klavierstück XI](https://www.youtube.com/watch?v=mMDdihXI98A), employ a form of controlled chance that dictates the sequence of musical events, offering a multitude of possible paths through the piece.\n",
    "\n",
    "The application of random walks in music composition involves generating sequences of musical elements, usually pitches and sequences, where each element is selected based on a combination of random choice and a set of rules or conditions influenced by previous elements. This approach allows composers to explore new forms of musical structure and texture, creating pieces that can vary greatly with each performance or realization while maintaining an underlying coherence.\n",
    "\n",
    "In this section, we will also cover *kernel walks*, an innovative technique akin to random walks. This approach dig into well-known statistical objects named Gaussian processes to generate randomly oscillating paths. Most interestingly, kernel walks can be forced to pass through predefined points, and create melodies wandering around predefined progressions."
   ]
  },
  {
   "cell_type": "markdown",
   "metadata": {
    "editable": true,
    "slideshow": {
     "slide_type": ""
    },
    "tags": []
   },
   "source": [
    "## Random walks\n",
    "\n",
    "A random walk is a mathematical process where each step is a random choice relative to the one preceeding it. Mathematician call them Markov chains, named after mathematician Andrey Markov. The random choice can be as simple as a coin flip: if it goes tail, you take a diagional step left. Heads, a diagonal step on right. Repeat the process over and over and you obtain a random walk. On average, you should walk ahead, but in fact, you'll probably derive from a straight path. The concept of randomness was introduced in [Minimalism](04_minimalism.html), but we didn't really dig in its meaning. \n",
    "\n",
    "### Understanding randomness\n",
    "\n",
    "A mathematical function using a probability distribution is named a *stochastic* function. The concept of randomness is often misunderstood. It's not about everything being possible without constraints. When we talk about selecting a random number, the process is not as open-ended as it might seem. When you flip a coin, its either heads or tails (or, rarely, the edge...). \n",
    "\n",
    "Randomness is structured by probability distributions, a collection of mathematical functions structuring randomness and approximate processes underlying a reality too complex to be perfectly predictable. The coin toss is a binomial distribution: it's either true or false. Another familiar example is the Normal distribution, known for its bell-shaped curve. When we sample from this distribution, values near the mean (center of the curve) are more likely to occur than those far from it, say, more than 4 units away or less than -4 units from the mean. The Normal distribution is characterized by two parameters: the mean, which locates the center of the curve, and the standard deviation, which determines the width of the curve. The height of a population can have a mean and a standard deviation.\n",
    "\n",
    "There are numerous probability distributions, catering to different types of data. Continuous values, for instance, are often modelled using the Normal distribution, but also uniform distributions, where the likelihood of selecting any number within a specified range is exactly the same. This means that every number has an equal chance of being chosen, ensuring a flat distribution of probabilities across the entire range. Discrete data, such as categorical outcomes in music genres, can be represented by the multinomial distribution, which is described by a set of probabilities summing to 1. The Poisson distribution produces integer, useful for counting occurrences. Mathematicians have been working on probability distributions for centuries, and are still creating new ones, and exploring fascinating properties of existing ones.\n",
    "\n",
    "Understanding these distributions helps in contextualizing randomness, especially in creative domains like music, where generating random rhythms involves selecting from a defined range of possibilities according to a specific probability distribution. This structured approach to randomness allows for the generation of diverse and interesting rhythmic patterns within a coherent framework."
   ]
  },
  {
   "cell_type": "code",
   "execution_count": 1,
   "metadata": {
    "editable": true,
    "metadata": {},
    "scrolled": true,
    "slideshow": {
     "slide_type": ""
    },
    "tags": [
     "hidden"
    ]
   },
   "outputs": [],
   "source": [
    "import plotly.subplots as sp\n",
    "import plotly.graph_objects as go\n",
    "import numpy as np\n",
    "import scipy\n",
    "\n",
    "# Normal distribution\n",
    "x_norm = np.linspace(-4, 4, 100)\n",
    "y_norm = scipy.stats.norm.pdf(x_norm, 0, 1)  # normal distribution with 0 mean and 1 standard deviation\n",
    "\n",
    "# Uniform distribution\n",
    "x_unif = np.linspace(-4, 4, 100)\n",
    "y_unif = scipy.stats.uniform.pdf(x_unif, -1, 2) # uniform distribution from -1, spanning 2\n",
    "\n",
    "# Multinomial distribution\n",
    "n = 10\n",
    "categories = ['Folk', 'Classic', 'Punk rock', 'Jazz']\n",
    "p = [0.15, 0.30, 0.10, 0.45]\n",
    "\n",
    "# Poisson distribution\n",
    "mu = 3\n",
    "y_poisson = scipy.stats.poisson.pmf(np.arange(10), mu)  # distribution de Poisson\n",
    "\n",
    "# Figure\n",
    "fig = sp.make_subplots(rows=1, cols=4)\n",
    "fig.add_trace(go.Scatter(x=x_norm, y=y_norm, mode='lines'), row=1, col=1)\n",
    "fig.update_xaxes(title_text=\"Normal distribution\", row=1, col=1)\n",
    "fig.add_trace(go.Scatter(x=x_unif, y=y_unif, mode='lines'), row=1, col=2)\n",
    "fig.update_xaxes(title_text=\"Uniform distribution\", row=1, col=2)\n",
    "fig.add_trace(go.Bar(x=categories, y=p), row=1, col=3)\n",
    "fig.update_xaxes(title_text=\"Multinomial distribution\", row=1, col=3)\n",
    "fig.add_trace(go.Bar(x=np.arange(10), y=y_poisson), row=1, col=4)\n",
    "fig.update_xaxes(title_text=\"Poisson distribution\", row=1, col=4)\n",
    "fig.update_layout(showlegend=False, template='none')\n",
    "\n",
    "fig.write_image(\"_images/probability-distributions.png\")"
   ]
  },
  {
   "cell_type": "markdown",
   "metadata": {},
   "source": [
    "<img src=\"_images/probability-distributions.png\" alt=\"probability distributions\" />"
   ]
  },
  {
   "cell_type": "markdown",
   "metadata": {},
   "source": [
    "### Logic of the random walk\n",
    "\n",
    "Random walks are available in Djalgo in file `walk.py`. From there, there are two options to generate walks. The first one, `Chain`, is a classic random walk, and the second, `Kernel`, is Gaussian processes generator, which will be discussed later in this section.\n",
    "\n",
    "The random walk generator takes several of arguments. The `walk_range` argument takes a list of the minimum and maximum numbers to confine the walk (to create a *bounded* random walk). For instance, if you aim at restraining the walk between -10 and 10, you would enter `walk_range=[-10, 10]`. The `walk_probability` can take a list of numbers, for instance `[-1, 0, 1]` if you aim at generating steps of -1, 0 and 1. It can also take a [Scipy probability distribution](https://docs.scipy.org/doc/scipy/reference/stats.html) function, for instance `scipy.stats.norm(loc=0, scale=1)`, where `loc` and `scale` are the mean and the standard deviation. The `length` argument specifies the number of steps. The `round_to` argument, with default `None`, rounds stepping to a given decimal.\n",
    "\n",
    "Djalgo has the ability to randomly branch a walk. When a walk is branched, a new walk is created and wanders on it own. The probability to branch is specified from 0 to 1 in the `branching_probability` argument. Conversely, `merging_probability` is the probability to merge random walks when they collide. If `round_to` is not triggered on, there is virtually no chance that branches collide."
   ]
  },
  {
   "cell_type": "markdown",
   "metadata": {},
   "source": [
    "### Example\n",
    "\n"
   ]
  },
  {
   "cell_type": "markdown",
   "metadata": {},
   "source": [
    "I'd like to generate a random walk through pitches from `C2` to `C8`, starting at `C4`. MIDI pitch numbers can be recovered using Djalgo's abc_to_midi utility function."
   ]
  },
  {
   "cell_type": "code",
   "execution_count": 2,
   "metadata": {
    "metadata": {}
   },
   "outputs": [
    {
     "name": "stdout",
     "output_type": "stream",
     "text": [
      "C2: 36\n",
      "C4: 60\n",
      "C8: 108\n"
     ]
    }
   ],
   "source": [
    "import djalgo as dj\n",
    "print('C2:', dj.utils.abc_to_midi('C2'))\n",
    "print('C4:', dj.utils.abc_to_midi('C4'))\n",
    "print('C8:', dj.utils.abc_to_midi('C8'))"
   ]
  },
  {
   "cell_type": "markdown",
   "metadata": {},
   "source": [
    "The random walk will be conducted between numbers 36 to 108 through 20 steps, starting at 60. Through the walk, each step will branch with a probability of 0.1 and when branches fall to the same pitch, they will merge with a probability of 0.9."
   ]
  },
  {
   "cell_type": "code",
   "execution_count": 3,
   "metadata": {
    "metadata": {}
   },
   "outputs": [
    {
     "data": {
      "text/plain": [
       "<djalgo.walk.Chain at 0x1290de1d0>"
      ]
     },
     "execution_count": 3,
     "metadata": {},
     "output_type": "execute_result"
    }
   ],
   "source": [
    "rw = dj.walk.Chain(\n",
    "    walk_range=[36, 108], walk_start=60, walk_probability=scipy.stats.norm(loc=0, scale=2),\n",
    "    length=20, round_to = 0, branching_probability=0.1, merging_probability=0.9\n",
    ")\n",
    "rw"
   ]
  },
  {
   "cell_type": "markdown",
   "metadata": {},
   "source": [
    "The `rw` is a random walk object, which can be used to generate many random walks, although only one will be generated in this example."
   ]
  },
  {
   "cell_type": "code",
   "execution_count": 4,
   "metadata": {
    "metadata": {}
   },
   "outputs": [
    {
     "data": {
      "text/plain": [
       "9"
      ]
     },
     "execution_count": 4,
     "metadata": {},
     "output_type": "execute_result"
    }
   ],
   "source": [
    "rw_sequences = rw.generate(seed=6)\n",
    "len(rw_sequences)"
   ]
  },
  {
   "cell_type": "markdown",
   "metadata": {},
   "source": [
    "`rw_sequences` contains 5 branches. If you examine the object, you will see lists beginning with `None` values, which are generated when a new branch is created to make sure all branches are generated with the same length. At each step, if branching returns `True` with probability `branching_probability`, a new list is created, and the random walk becomes a list of lists, and all values of the new list happening before the branch are set to `None`. Each branch then has its own random walk, and can branch out. If two or more branch collide to the same values, and if merging if `True` according to probability `merging_probability`, lists are closed with `None` values to the following notes, except the branch with the lower index, on which the other branches are merged. The merged branch continues the random walk, and can branch again."
   ]
  },
  {
   "cell_type": "code",
   "execution_count": 5,
   "metadata": {
    "metadata": {}
   },
   "outputs": [],
   "source": [
    "import plotly.graph_objects as go\n",
    "fig = go.Figure()\n",
    "for i, seq in enumerate(rw_sequences):\n",
    "    fig.add_trace(go.Scatter(\n",
    "        x=[i for i, val in enumerate(seq) if val is not None],\n",
    "        y=[val for val in seq if val is not None],\n",
    "        mode='lines'\n",
    "    ))\n",
    "fig.update_layout(showlegend=False)\n",
    "fig.write_image(\"_images/chain-walk-example.png\")"
   ]
  },
  {
   "cell_type": "markdown",
   "metadata": {
    "editable": true,
    "slideshow": {
     "slide_type": ""
    },
    "tags": []
   },
   "source": [
    "<img src=\"_images/chain-walk-example.png\" alt=\"plot of the result of the chain-walk example\">"
   ]
  },
  {
   "cell_type": "markdown",
   "metadata": {},
   "source": [
    "We can map pitches to durations by creating a rhythm for each track."
   ]
  },
  {
   "cell_type": "code",
   "execution_count": 6,
   "metadata": {
    "metadata": {}
   },
   "outputs": [
    {
     "data": {
      "text/html": [
       "\n",
       "        <div id=\"midiPlayerDiv5580\"></div>\n",
       "        <link rel=\"stylesheet\" href=\"https://cuthbertLab.github.io/music21j/css/m21.css\">\n",
       "        \n",
       "        <script\n",
       "        src=\"https://cdnjs.cloudflare.com/ajax/libs/require.js/2.3.6/require.min.js\"\n",
       "        ></script>\n",
       "    \n",
       "        <script>\n",
       "        function midiPlayerDiv5580_play() {\n",
       "            const rq = require.config({\n",
       "                paths: {\n",
       "                    'music21': 'https://cuthbertLab.github.io/music21j/releases/music21.debug',\n",
       "                }\n",
       "            });\n",
       "            rq(['music21'], function(music21) {\n",
       "                mp = new music21.miditools.MidiPlayer();\n",
       "                mp.addPlayer(\"#midiPlayerDiv5580\");\n",
       "                mp.base64Load(\"data:audio/midi;base64,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\");\n",
       "            });\n",
       "        }\n",
       "        if (typeof require === 'undefined') {\n",
       "            setTimeout(midiPlayerDiv5580_play, 2000);\n",
       "        } else {\n",
       "            midiPlayerDiv5580_play();\n",
       "        }\n",
       "        </script>"
      ],
      "text/plain": [
       "<IPython.core.display.HTML object>"
      ]
     },
     "metadata": {},
     "output_type": "display_data"
    }
   ],
   "source": [
    "index_quarter_length = 1.0  # Length of a quarter note in the random walk index\n",
    "measure_length = 4  # Duration of each measure\n",
    "rw_notes = []\n",
    "rhythm_durations = [ # the same number of sets as len(rw_sequences)\n",
    "    [0.125, 0.25, 0.5, 1, 2],\n",
    "    [1, 2],\n",
    "    [1, 2],\n",
    "    [1, 1, 2],\n",
    "    [0.5, 1, 2],\n",
    "    [0.5, 1],\n",
    "    [0.5, 0.5, 1],\n",
    "    [0.25, 0.5, 1, 2],\n",
    "    [0.125, 0.25, 0.5, 1, 2]\n",
    "]\n",
    "for seq, random_dur in zip(rw_sequences, rhythm_durations): # zip to the shortest length\n",
    "    rhythm = dj.rhythm.Rhythm(measure_length=measure_length, durations=random_dur).random(seed=6)\n",
    "    dur = [r[0] for r in rhythm]\n",
    "    iso = dj.rhythm.isorhythm(pitches=seq, durations=dur)\n",
    "    rw_notes.append(iso)\n",
    "#dj.conversion.to_music21(rw_notes).show()\n",
    "dj.conversion.to_music21(rw_notes).show('midi')"
   ]
  },
  {
   "cell_type": "markdown",
   "metadata": {},
   "source": [
    "The notes wander on the chromatic scale. To provide a little structure to a walk, we can wander through indexes of a scale list rather than on notes."
   ]
  },
  {
   "cell_type": "code",
   "execution_count": 7,
   "metadata": {
    "editable": true,
    "metadata": {},
    "slideshow": {
     "slide_type": ""
    },
    "tags": []
   },
   "outputs": [
    {
     "data": {
      "text/plain": [
       "7"
      ]
     },
     "execution_count": 7,
     "metadata": {},
     "output_type": "execute_result"
    }
   ],
   "source": [
    "g_major = dj.harmony.Scale('G', 'major').generate()[39:53]\n",
    "# [dj.utils.midi_to_abc(p) for p in g_major] # used to adjust the range fro 39 to 53\n",
    "rw_index = dj.walk.Chain(\n",
    "    walk_range=[0, len(g_major)-1],\n",
    "    walk_start=7, # the seventh index on the scale\n",
    "    walk_probability=scipy.stats.norm(loc=0, scale=2),\n",
    "    length=30, round_to = 0, branching_probability=0.05, merging_probability=0.9\n",
    ").generate(seed=1)\n",
    "len(rw_index)"
   ]
  },
  {
   "cell_type": "markdown",
   "metadata": {},
   "source": [
    "Seven tracks have been generated. I can generate different rhythms from draws from a single list. I set the seed at the beginning of the block, and not in the `.random()` method to make sure that rhythms are not the same for all tracks, but remains the same each time I run the block. Setting seed is very useful to assures that random processes provide the same results, hence avoid losing an interesting pattern because it was random and can't be recovered."
   ]
  },
  {
   "cell_type": "code",
   "execution_count": 8,
   "metadata": {
    "metadata": {}
   },
   "outputs": [
    {
     "data": {
      "text/html": [
       "\n",
       "        <div id=\"midiPlayerDiv8311\"></div>\n",
       "        <link rel=\"stylesheet\" href=\"https://cuthbertLab.github.io/music21j/css/m21.css\">\n",
       "        \n",
       "        <script\n",
       "        src=\"https://cdnjs.cloudflare.com/ajax/libs/require.js/2.3.6/require.min.js\"\n",
       "        ></script>\n",
       "    \n",
       "        <script>\n",
       "        function midiPlayerDiv8311_play() {\n",
       "            const rq = require.config({\n",
       "                paths: {\n",
       "                    'music21': 'https://cuthbertLab.github.io/music21j/releases/music21.debug',\n",
       "                }\n",
       "            });\n",
       "            rq(['music21'], function(music21) {\n",
       "                mp = new music21.miditools.MidiPlayer();\n",
       "                mp.addPlayer(\"#midiPlayerDiv8311\");\n",
       "                mp.base64Load(\"data:audio/midi;base64,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\");\n",
       "            });\n",
       "        }\n",
       "        if (typeof require === 'undefined') {\n",
       "            setTimeout(midiPlayerDiv8311_play, 2000);\n",
       "        } else {\n",
       "            midiPlayerDiv8311_play();\n",
       "        }\n",
       "        </script>"
      ],
      "text/plain": [
       "<IPython.core.display.HTML object>"
      ]
     },
     "metadata": {},
     "output_type": "display_data"
    }
   ],
   "source": [
    "import random\n",
    "random.seed(123)\n",
    "measure_length = 3\n",
    "rw_notes_tuned = []\n",
    "for seq in rw_index:\n",
    "    rhythm = dj.rhythm.Rhythm(measure_length=measure_length, durations=[0.5, 1, 2]).random()\n",
    "    d = [r[0] for r in rhythm]\n",
    "    p = [g_major[int(index)] for index in seq if index is not None]\n",
    "    iso = dj.rhythm.isorhythm(\n",
    "        pitches=p,\n",
    "        durations=d\n",
    "    )\n",
    "    rw_notes_tuned.append(iso)\n",
    "dj.conversion.to_music21(rw_notes_tuned).show('midi')"
   ]
  },
  {
   "attachments": {},
   "cell_type": "markdown",
   "metadata": {
    "editable": true,
    "slideshow": {
     "slide_type": ""
    },
    "tags": []
   },
   "source": [
    "## Gaussian Processes\n",
    "\n",
    "A normal distribution is a mathematically elegant way of describing the average and variance (or standard deviation, an index of diversity) among a population. We can stack as many normal distributions as the amount of variables describing a population, for example age, height and weight of people in Canada. When we think that our variables are linked to one another, like height, weight and age, we can merge normal distributions together in a single multivariate normal distribution. Such distribution is described by a vector of 3 means and a 3×3 covariance matrix, a squared matrix with variances on the diagonal and pairwise covariances between variables elsewhere, describing the strength of the link between variables. There is no limit on the amount of variables in the multivariate normal. For example, day after day, you measure air temperature hourly, at 7:00, 8:00, 9:00, etc. You will have one normal distribution of temperature at 7:00 for all days of the week, one at 8:00, etc. Since the temperature at hours closed to each other are likely correlated, you might use a multivariate normal. And because the correlation between temperatures will slowly vanish for distant measurements, you could use a function to describe the correlation. Such function will reveal to be useful if you narrow the time steps. For instance, if you record the temperature at each second, you will have a large amount of variables, thus a long mean vector and an extended covariance matrix. To go even further, since time is continuous, our multivariate normal will contain an infinity of dimensions. A multivariate normal distribution with infinite number of dimensions is called a Gaussian process.\n",
    "\n",
    "To allow infinite dimensions, and compute probabilities at any dimension, the mean vector and the covariance matrix must be described by functions. The mean function is usually ruled out of the equation since it can be dealt by setting it to constant zero, then offsetting the end result by the mean, for instance a pitch of 60, the midi number representing the center C on the keyboard of a piano. This is why Gaussian processes are mostly described by the covariance function, also called the *kernel*. Samples from a normal or a multivariate normal distribution are points. Samples from a Gaussian process, because they are continuous, are functions.\n",
    "\n",
    "These functions can be used just as we used random walks. So why bothering with abstract mathematical concepts if you could just use a random walk function? Because Gaussian processes carry very interesting properties. You might indeed have heard of Gaussian processes as a machine learning method. This means that they can be fitted to data. To perform such fitting task, the Scikit-Learn library should be installed though.\n",
    "\n",
    "In this section, I will introduce you to the use of unfitted and fitted Gaussian processes to generate music."
   ]
  },
  {
   "attachments": {},
   "cell_type": "markdown",
   "metadata": {
    "editable": true,
    "slideshow": {
     "slide_type": ""
    },
    "tags": []
   },
   "source": [
    "### *Unfitted* Gaussian Processes\n",
    "\n",
    "Unfitted Gaussian processes are only described by their kernel. Random samples from a kernel will create a pattern for music to follow. As any translational music practice, many music attributes can be generated. However, I will keep my focus on notes."
   ]
  },
  {
   "cell_type": "markdown",
   "metadata": {
    "editable": true,
    "slideshow": {
     "slide_type": ""
    },
    "tags": []
   },
   "source": [
    "For unfitted GPs, the covariance function is created but Djalgo's `rbf_kernel` function, as known as the kernel, with two properties.\n",
    "\n",
    "- The `length_scale` parameter describes the inertia of the covariance. Larger lengths create longer waves.\n",
    "- The multiplier of the kernel, often refered as $\\alpha$ in textbooks, describes the `amplitude` of the wave.\n",
    "\n",
    "The following plot was generated from `djalgo.walk.Kernel`."
   ]
  },
  {
   "cell_type": "code",
   "execution_count": 9,
   "metadata": {
    "editable": true,
    "metadata": {},
    "slideshow": {
     "slide_type": ""
    },
    "tags": [
     "\"hide-input\""
    ]
   },
   "outputs": [],
   "source": [
    "# Building a dict filled with kernel responses for varying amplitude and length scale\n",
    "length = 100\n",
    "n_samples = 3\n",
    "kernel_walks = {'d': [], 'sample': [], 'x': [], 'y': []}\n",
    "for ls in [0.1, 1., 10., 100.]:\n",
    "    for amp in [0.1, 1., 10.]:\n",
    "        for s in range(n_samples):\n",
    "            kernel_walks['d'].extend(['ls: ' + str(ls) + ', a: ' + str(amp)]*length)\n",
    "            kernel_walks['sample'].extend(['sample: ' + str(s)]*length)\n",
    "            kernel_walks['x'].extend(list(range(length)))\n",
    "            kernel_walks['y'].extend(\n",
    "                dj.walk.Kernel(\n",
    "                    walk_around=0.0,\n",
    "                    length=length,\n",
    "                    length_scale=ls,\n",
    "                    amplitude=amp\n",
    "                ).generate()[0]\n",
    "            )\n",
    "\n",
    "import plotly.express as px\n",
    "fig = (\n",
    "    px.line(kernel_walks, x='x', y='y', color='sample', facet_col='d', facet_col_wrap=3)\n",
    "    .update_layout(autosize=False, width=800, height=800)\n",
    ")\n",
    "fig.write_image(\"_images/kernels-example.png\")"
   ]
  },
  {
   "cell_type": "markdown",
   "metadata": {
    "editable": true,
    "slideshow": {
     "slide_type": ""
    },
    "tags": []
   },
   "source": [
    "<img src='_images/kernels-example.png' alt='plot of the effects of amplitude and length scale on kernel response'>"
   ]
  },
  {
   "cell_type": "markdown",
   "metadata": {
    "editable": true,
    "slideshow": {
     "slide_type": ""
    },
    "tags": []
   },
   "source": [
    "Just like random walks, the signal of a Gaussian process can be transformed to really anything: pitches, scale indices, durations, MIDI channel, etc. Let's use it here to generate scale indices from the following list."
   ]
  },
  {
   "cell_type": "code",
   "execution_count": 10,
   "metadata": {
    "editable": true,
    "metadata": {},
    "slideshow": {
     "slide_type": ""
    },
    "tags": []
   },
   "outputs": [
    {
     "name": "stdout",
     "output_type": "stream",
     "text": [
      "['B3', 'D4', 'E4', 'F4', 'F#4', 'A4', 'B4', 'D5', 'E5', 'F5', 'F#5', 'A5', 'B5']\n"
     ]
    }
   ],
   "source": [
    "b_blues_scale = dj.harmony.Scale('B', [0, 3, 5, 6, 7, 10, 12]).generate()[29:42]\n",
    "print([dj.utils.midi_to_abc(p) for p in b_blues_scale]) # used to adjust the range fro 28 to 42\n",
    "scale_length = len(b_blues_scale)"
   ]
  },
  {
   "cell_type": "markdown",
   "metadata": {
    "editable": true,
    "slideshow": {
     "slide_type": ""
    },
    "tags": []
   },
   "source": [
    "The next block does three things. First, the `dj.walk.Kernel` generates a number of `ntracks` samples from a Gaussian process. As for the second part, because the numbers generated are indexes and not pitches, the `for` loops, needs them to be integer values between (included) 0 to the rank of the last index of the scale we want to pick pitches from. Finally, the tracks are plotted. Plots are useful to calibrate `amplitude` and `length_scale`. Different combinations of `amplitude` and `length_scale` were tried to obtain signals that are sufficiently wavy in the x direction (length scale) and ranging through the indexes allowed in the scale list. "
   ]
  },
  {
   "cell_type": "code",
   "execution_count": 11,
   "metadata": {
    "editable": true,
    "metadata": {},
    "slideshow": {
     "slide_type": ""
    },
    "tags": []
   },
   "outputs": [],
   "source": [
    "# Extract 3 samples of length 8 from a GP\n",
    "length = 8\n",
    "ntracks = 3\n",
    "blues_tracks_i = dj.walk.Kernel(\n",
    "    walk_around=4, # sixth index\n",
    "    length=length,\n",
    "    length_scale=1.0,\n",
    "    amplitude=5.0\n",
    ").generate(nsamples=ntracks, seed=1)\n",
    "\n",
    "# blues_tracks_i are list indexes. I must make sure that indexes are integer and between the range og the scale list\n",
    "for t in range(ntracks):\n",
    "    for i in range(length):\n",
    "        blues_tracks_i[t][i] = int(round(blues_tracks_i[t][i]))\n",
    "        if blues_tracks_i[t][i] > scale_length-1:\n",
    "            blues_tracks_i[t][i] = scale_length-1\n",
    "        elif blues_tracks_i[t][i] < 0:\n",
    "            blues_tracks_i[t][i] = 0\n",
    "\n",
    "# Plot the tracks\n",
    "import plotly.graph_objects as go\n",
    "fig = go.Figure()\n",
    "for i,track in enumerate(blues_tracks_i):\n",
    "    fig.add_trace(go.Scatter(x=list(range(length)), y=track, mode='lines', name='Signal ' + str(i)))\n",
    "fig.update_layout(\n",
    "    xaxis=dict(title='Time (quarter notes)'), yaxis=dict(title='Scale index'),\n",
    "    autosize=False, width=800, height=400\n",
    ")\n",
    "fig.write_image(\"_images/gp-blues-tracks.png\")"
   ]
  },
  {
   "cell_type": "markdown",
   "metadata": {
    "editable": true,
    "slideshow": {
     "slide_type": ""
    },
    "tags": []
   },
   "source": [
    "<img src=\"_images/gp-blues-tracks.png\" alt=\"plot of blues tracks\">"
   ]
  },
  {
   "cell_type": "markdown",
   "metadata": {
    "editable": true,
    "slideshow": {
     "slide_type": ""
    },
    "tags": []
   },
   "source": [
    "The following comprehensive list extracts the pitches from the scale for each track to create chords.\n",
    "\n",
    "> I use intensively inline for loops. I founded them very confusing at first, but I have never been able to do without it since I understood how they worked."
   ]
  },
  {
   "cell_type": "code",
   "execution_count": 12,
   "metadata": {
    "editable": true,
    "metadata": {},
    "slideshow": {
     "slide_type": ""
    },
    "tags": []
   },
   "outputs": [
    {
     "data": {
      "text/plain": [
       "[[66, 76, 66],\n",
       " [59, 69, 71],\n",
       " [59, 64, 74],\n",
       " [64, 59, 66],\n",
       " [59, 64, 65],\n",
       " [59, 69, 66],\n",
       " [59, 66, 65],\n",
       " [59, 64, 66]]"
      ]
     },
     "execution_count": 12,
     "metadata": {},
     "output_type": "execute_result"
    }
   ],
   "source": [
    "blues_track_chords = [[b_blues_scale[blues_tracks_i[t][i]] for t in range(ntracks)] for i in range(length)]\n",
    "blues_track_chords"
   ]
  },
  {
   "cell_type": "markdown",
   "metadata": {},
   "source": [
    "The first chord plays pitch 66 twice. We could create a function to scan and remove them, but here it's simpler to manually alter the pitch to None."
   ]
  },
  {
   "cell_type": "code",
   "execution_count": 13,
   "metadata": {
    "metadata": {}
   },
   "outputs": [],
   "source": [
    "blues_track_chords[0][2] = None"
   ]
  },
  {
   "cell_type": "markdown",
   "metadata": {
    "editable": true,
    "slideshow": {
     "slide_type": ""
    },
    "tags": []
   },
   "source": [
    "Rhythms are generated randomly."
   ]
  },
  {
   "cell_type": "code",
   "execution_count": 14,
   "metadata": {
    "editable": true,
    "metadata": {},
    "slideshow": {
     "slide_type": ""
    },
    "tags": []
   },
   "outputs": [
    {
     "name": "stdout",
     "output_type": "stream",
     "text": [
      "[(0.25, 0.0), (1, 0.25), (1, 1.25), (0.5, 2.25), (0.5, 2.75), (0.25, 3.25), (0.5, 3.5)]\n"
     ]
    }
   ],
   "source": [
    "blues_rhythm = dj.rhythm.Rhythm(durations=(0.25, 0.5, 1, 2, 4), measure_length=4).random(seed=2)\n",
    "print(blues_rhythm)"
   ]
  },
  {
   "cell_type": "markdown",
   "metadata": {
    "editable": true,
    "slideshow": {
     "slide_type": ""
    },
    "tags": []
   },
   "source": [
    "Finally, isorhythms are applied to generateone track of chords."
   ]
  },
  {
   "cell_type": "code",
   "execution_count": 15,
   "metadata": {
    "editable": true,
    "metadata": {},
    "slideshow": {
     "slide_type": ""
    },
    "tags": []
   },
   "outputs": [
    {
     "data": {
      "image/png": "[encoded data removed]",
      "text/plain": [
       "<IPython.core.display.Image object>"
      ]
     },
     "metadata": {
      "image/png": {
       "height": 396,
       "width": 732
      }
     },
     "output_type": "display_data"
    },
    {
     "data": {
      "text/html": [
       "\n",
       "        <div id=\"midiPlayerDiv9546\"></div>\n",
       "        <link rel=\"stylesheet\" href=\"https://cuthbertLab.github.io/music21j/css/m21.css\">\n",
       "        \n",
       "        <script\n",
       "        src=\"https://cdnjs.cloudflare.com/ajax/libs/require.js/2.3.6/require.min.js\"\n",
       "        ></script>\n",
       "    \n",
       "        <script>\n",
       "        function midiPlayerDiv9546_play() {\n",
       "            const rq = require.config({\n",
       "                paths: {\n",
       "                    'music21': 'https://cuthbertLab.github.io/music21j/releases/music21.debug',\n",
       "                }\n",
       "            });\n",
       "            rq(['music21'], function(music21) {\n",
       "                mp = new music21.miditools.MidiPlayer();\n",
       "                mp.addPlayer(\"#midiPlayerDiv9546\");\n",
       "                mp.base64Load(\"data:audio/midi;base64,TVRoZAAAAAYAAQACJ2BNVHJrAAAAFAD/UQMHoSAA/1gEBAIYCM5g/y8ATVRyawAABU4A/wMAAOAAQM5gkEJaAJBMWpNYgEIAAIBMAACQO1oAkEVaAJBHWs5ggDsAAIBFAACARwAAkDtaAJBAWgCQSlrOYIA7AACAQAAAgEoAAJBAWgCQO1oAkEJapzCAQAAAgDsAAIBCAACQO1oAkEBaAJBBWqcwgDsAAIBAAACAQQAAkDtaAJBFWgCQQlqTWIA7AACARQAAgEIAAJA7WgCQQloAkEFapzCAOwAAgEIAAIBBAACQO1oAkEBaAJBCWpNYgDsAAIBAAACAQgAAkEJaAJBMWs5ggEIAAIBMAACQO1oAkEVaAJBHWs5ggDsAAIBFAACARwAAkDtaAJBAWgCQSlqnMIA7AACAQAAAgEoAAJBAWgCQO1oAkEJapzCAQAAAgDsAAIBCAACQO1oAkEBaAJBBWpNYgDsAAIBAAACAQQAAkDtaAJBFWgCQQlqnMIA7AACARQAAgEIAAJA7WgCQQloAkEFak1iAOwAAgEIAAIBBAACQO1oAkEBaAJBCWs5ggDsAAIBAAACAQgAAkEJaAJBMWs5ggEIAAIBMAACQO1oAkEVaAJBHWqcwgDsAAIBFAACARwAAkDtaAJBAWgCQSlqnMIA7AACAQAAAgEoAAJBAWgCQO1oAkEJak1iAQAAAgDsAAIBCAACQO1oAkEBaAJBBWqcwgDsAAIBAAACAQQAAkDtaAJBFWgCQQlqTWIA7AACARQAAgEIAAJA7WgCQQloAkEFazmCAOwAAgEIAAIBBAACQO1oAkEBaAJBCWs5ggDsAAIBAAACAQgAAkEJaAJBMWqcwgEIAAIBMAACQO1oAkEVaAJBHWqcwgDsAAIBFAACARwAAkDtaAJBAWgCQSlqTWIA7AACAQAAAgEoAAJBAWgCQO1oAkEJapzCAQAAAgDsAAIBCAACQO1oAkEBaAJBBWpNYgDsAAIBAAACAQQAAkDtaAJBFWgCQQlrOYIA7AACARQAAgEIAAJA7WgCQQloAkEFazmCAOwAAgEIAAIBBAACQO1oAkEBaAJBCWqcwgDsAAIBAAACAQgAAkEJaAJBMWqcwgEIAAIBMAACQO1oAkEVaAJBHWpNYgDsAAIBFAACARwAAkDtaAJBAWgCQSlqnMIA7AACAQAAAgEoAAJBAWgCQO1oAkEJak1iAQAAAgDsAAIBCAACQO1oAkEBaAJBBWs5ggDsAAIBAAACAQQAAkDtaAJBFWgCQQlrOYIA7AACARQAAgEIAAJA7WgCQQloAkEFapzCAOwAAgEIAAIBBAACQO1oAkEBaAJBCWqcwgDsAAIBAAACAQgAAkEJaAJBMWpNYgEIAAIBMAACQO1oAkEVaAJBHWqcwgDsAAIBFAACARwAAkDtaAJBAWgCQSlqTWIA7AACAQAAAgEoAAJBAWgCQO1oAkEJazmCAQAAAgDsAAIBCAACQO1oAkEBaAJBBWs5ggDsAAIBAAACAQQAAkDtaAJBFWgCQQlqnMIA7AACARQAAgEIAAJA7WgCQQloAkEFapzCAOwAAgEIAAIBBAACQO1oAkEBaAJBCWpNYgDsAAIBAAACAQgAAkEJaAJBMWqcwgEIAAIBMAACQO1oAkEVaAJBHWpNYgDsAAIBFAACARwAAkDtaAJBAWgCQSlrOYIA7AACAQAAAgEoAAJBAWgCQO1oAkEJazmCAQAAAgDsAAIBCAACQO1oAkEBaAJBBWqcwgDsAAIBAAACAQQAAkDtaAJBFWgCQQlqnMIA7AACARQAAgEIAAJA7WgCQQloAkEFak1iAOwAAgEIAAIBBAACQO1oAkEBaAJBCWqcwgDsAAIBAAACAQgDOYP8vAA==\");\n",
       "            });\n",
       "        }\n",
       "        if (typeof require === 'undefined') {\n",
       "            setTimeout(midiPlayerDiv9546_play, 2000);\n",
       "        } else {\n",
       "            midiPlayerDiv9546_play();\n",
       "        }\n",
       "        </script>"
      ],
      "text/plain": [
       "<IPython.core.display.HTML object>"
      ]
     },
     "metadata": {},
     "output_type": "display_data"
    }
   ],
   "source": [
    "blues_track = dj.rhythm.isorhythm(pitches=blues_track_chords, durations=[r[0] for r in blues_rhythm])\n",
    "blues_track_m21 = dj.conversion.convert(blues_track, to='music21')\n",
    "blues_track_m21.show()\n",
    "blues_track_m21.show('midi')"
   ]
  },
  {
   "attachments": {},
   "cell_type": "markdown",
   "metadata": {
    "editable": true,
    "slideshow": {
     "slide_type": ""
    },
    "tags": []
   },
   "source": [
    "### *Fitted* Gaussian Processes\n",
    "\n",
    "One very interesting aspect of multivariate normal distributions is that they can be conditioned at will. Let's recover our multivariate normal describing age, height and weight. The distribution of heights and weights *given* that age is between 32 years old is still a multivariate normal, but now in 2D rather than 3D. Just like we can condition multivariate normal, we can condition Gaussian processes with known data. When a Gaussian process is fitted on, for instance, temperature, the fundamental question you ask as the modeller is what function the temperature might have followed. A fitted Gaussian process can generate as many of such functions as you require, so you end up with a distribution of functions. The question can be asked similarly for a musical score: what variations be extracted from a constrained pattern? Djalgo doesn't require Scikit-Learn to work, but its installation is required for fitted Gaussian processes.\n",
    "\n",
    "```\n",
    "!pip install scikit-learn\n",
    "```\n",
    "\n",
    "An interest question to ask: what variations be extracted from Pachelbel's progression?"
   ]
  },
  {
   "cell_type": "code",
   "execution_count": 16,
   "metadata": {
    "editable": true,
    "metadata": {},
    "slideshow": {
     "slide_type": ""
    },
    "tags": []
   },
   "outputs": [
    {
     "data": {
      "image/png": "[encoded data removed]",
      "text/plain": [
       "<IPython.core.display.Image object>"
      ]
     },
     "metadata": {
      "image/png": {
       "height": 69,
       "width": 697
      }
     },
     "output_type": "display_data"
    },
    {
     "data": {
      "text/html": [
       "\n",
       "        <div id=\"midiPlayerDiv9839\"></div>\n",
       "        <link rel=\"stylesheet\" href=\"https://cuthbertLab.github.io/music21j/css/m21.css\">\n",
       "        \n",
       "        <script\n",
       "        src=\"https://cdnjs.cloudflare.com/ajax/libs/require.js/2.3.6/require.min.js\"\n",
       "        ></script>\n",
       "    \n",
       "        <script>\n",
       "        function midiPlayerDiv9839_play() {\n",
       "            const rq = require.config({\n",
       "                paths: {\n",
       "                    'music21': 'https://cuthbertLab.github.io/music21j/releases/music21.debug',\n",
       "                }\n",
       "            });\n",
       "            rq(['music21'], function(music21) {\n",
       "                mp = new music21.miditools.MidiPlayer();\n",
       "                mp.addPlayer(\"#midiPlayerDiv9839\");\n",
       "                mp.base64Load(\"data:audio/midi;base64,TVRoZAAAAAYAAQACJ2BNVHJrAAAAFAD/UQMHoSAA/1gEBAIYCM5g/y8ATVRyawAAAPgA/wMAAOAAQM5gkD5aAJBCWgCQRVqBnUCAPgAAgEIAAIBFAACQOVoAkD1aAJBAWoGdQIA5AACAPQAAgEAAAJA7WgCQPloAkEJagZ1AgDsAAIA+AACAQgAAkDZaAJA5WgCQPVqBnUCANgAAgDkAAIA9AACQN1oAkDtaAJA+WoGdQIA3AACAOwAAgD4AAJAyWgCQNloAkDlagZ1AgDIAAIA2AACAOQAAkDdaAJA7WgCQPlqBnUCANwAAgDsAAIA+AACQOVoAkD1aAJBAWoGdQIA5AACAPQAAgEAAAJA+WgCQQloAkEVagZ1AgD4AAIBCAACARQDOYP8vAA==\");\n",
       "            });\n",
       "        }\n",
       "        if (typeof require === 'undefined') {\n",
       "            setTimeout(midiPlayerDiv9839_play, 2000);\n",
       "        } else {\n",
       "            midiPlayerDiv9839_play();\n",
       "        }\n",
       "        </script>"
      ],
      "text/plain": [
       "<IPython.core.display.HTML object>"
      ]
     },
     "metadata": {},
     "output_type": "display_data"
    }
   ],
   "source": [
    "# Define the scale\n",
    "d_major = dj.harmony.Scale('D', 'major').generate()\n",
    "\n",
    "# Find the pitches\n",
    "pachelbel_progression_abc = ['D4', 'A3', 'B3', 'F#3', 'G3', 'D3', 'G3', 'A3', 'D4'] # looping, so I include final D4\n",
    "pachelbel_progression_p = [dj.utils.abc_to_midi(p) for p in pachelbel_progression_abc]\n",
    "\n",
    "# Find the chors in d_major\n",
    "pachelbel_progression_c = []\n",
    "for p in pachelbel_progression_p:\n",
    "    pachelbel_progression_c.append([p, d_major[d_major.index(p) + 2], d_major[d_major.index(p) + 4]])\n",
    "\n",
    "# Assemble it to Djalgo's format, then export to Music21\n",
    "pachelbel_durations = [2] * len(pachelbel_progression_c)\n",
    "pachelbel_progression_iso = dj.rhythm.isorhythm(pitches=pachelbel_progression_c, durations=pachelbel_durations)\n",
    "pachelbel_progression_m21 = dj.conversion.convert(pachelbel_progression_iso, to='music21')\n",
    "pachelbel_progression_m21.show()\n",
    "pachelbel_progression_m21.show('midi')"
   ]
  },
  {
   "cell_type": "markdown",
   "metadata": {},
   "source": [
    "```{Note}\n",
    "The code under `# Find the chors in d_major` is really helpful to add *voicing* to a progression.\n",
    "```"
   ]
  },
  {
   "cell_type": "markdown",
   "metadata": {
    "editable": true,
    "slideshow": {
     "slide_type": ""
    },
    "tags": []
   },
   "source": [
    "We printed the chords, but our constrained will really be pitch indexes of the fundamentals. To model this, we add a `data` argument to our `djalgo.walk.Kernel` object in the form of a Numpy array with time (offset) in the first column, and pitch index in the second"
   ]
  },
  {
   "cell_type": "code",
   "execution_count": 17,
   "metadata": {
    "editable": true,
    "metadata": {},
    "slideshow": {
     "slide_type": ""
    },
    "tags": []
   },
   "outputs": [
    {
     "data": {
      "text/plain": [
       "array([[ 0, 36],\n",
       "       [ 2, 33],\n",
       "       [ 4, 34],\n",
       "       [ 6, 31],\n",
       "       [ 8, 32],\n",
       "       [10, 29],\n",
       "       [12, 32],\n",
       "       [14, 33],\n",
       "       [16, 36]])"
      ]
     },
     "execution_count": 17,
     "metadata": {},
     "output_type": "execute_result"
    }
   ],
   "source": [
    "import numpy as np\n",
    "data = np.array([\n",
    "    [note[2] for note in pachelbel_progression_iso],\n",
    "    [d_major.index(note[0][0]) for note in pachelbel_progression_iso]\n",
    "]).T\n",
    "data"
   ]
  },
  {
   "cell_type": "markdown",
   "metadata": {
    "editable": true,
    "slideshow": {
     "slide_type": ""
    },
    "tags": []
   },
   "source": [
    "When data are provided, Djalgo interpolates a number of `length` data points on the range of the data, fits the model, then export results in time and model predictions."
   ]
  },
  {
   "cell_type": "code",
   "execution_count": 27,
   "metadata": {
    "editable": true,
    "metadata": {},
    "slideshow": {
     "slide_type": ""
    },
    "tags": []
   },
   "outputs": [],
   "source": [
    "ntracks = 3\n",
    "length = 100\n",
    "pachelbel_tracks_pt = dj.walk.Kernel(\n",
    "    length=length,\n",
    "    length_scale=0.5,\n",
    "    amplitude=1\n",
    ").generate(data=data, nsamples=ntracks, seed=10)\n",
    "pachelbel_tracks_t = pachelbel_tracks_pt[0]\n",
    "pachelbel_tracks_p = pachelbel_tracks_pt[1]"
   ]
  },
  {
   "cell_type": "code",
   "execution_count": 28,
   "metadata": {
    "editable": true,
    "metadata": {},
    "slideshow": {
     "slide_type": ""
    },
    "tags": []
   },
   "outputs": [],
   "source": [
    "fig = go.Figure()\n",
    "for i,track in enumerate(pachelbel_tracks_p):\n",
    "    fig.add_trace(go.Scatter(x=pachelbel_tracks_t, y=track, mode='lines', name='Signal ' + str(i)))\n",
    "fig.add_trace(go.Scatter(x=data[:, 0], y=data[:, 1], mode='markers', name='data'))\n",
    "fig.write_image(\"_images/pachelbel-tracks.png\")"
   ]
  },
  {
   "cell_type": "markdown",
   "metadata": {},
   "source": [
    "<img src=\"_images/pachelbel-tracks.png\" alt=\"plot of the pachelbel tracks\">"
   ]
  },
  {
   "cell_type": "markdown",
   "metadata": {},
   "source": [
    "If you are interested in Scikit-learn, and would like more flexibility, this is what Djalgo does under the hood.\n",
    "\n",
    "```\n",
    "    from sklearn.gaussian_process import GaussianProcessRegressor\n",
    "    from sklearn.gaussian_process.kernels import RBF\n",
    "    x = np.linspace(0, self.data[:, 0].max(), self.length)[:, np.newaxis]\n",
    "    kernel = self.amplitude * RBF(length_scale=self.length_scale) # , length_scale_bounds = (self.length_scale*0.9, self.length_scale*1.1)\n",
    "    gp = GaussianProcessRegressor(kernel=kernel, normalize_y=True, n_restarts_optimizer=10)\n",
    "    gp.fit(data[:, 0].reshape(-1, 1), data[:, 1].reshape(-1, 1))\n",
    "    sequence = [\n",
    "        x.flatten().tolist(),\n",
    "        gp.sample_y(x, n_samples=nsamples).T.tolist()\n",
    "    ]\n",
    "```"
   ]
  },
  {
   "cell_type": "markdown",
   "metadata": {},
   "source": [
    "We can extract the exact index value at every time using linear interpolation with Numpy."
   ]
  },
  {
   "cell_type": "code",
   "execution_count": 29,
   "metadata": {
    "metadata": {}
   },
   "outputs": [
    {
     "data": {
      "text/plain": [
       "35.240185022580484"
      ]
     },
     "execution_count": 29,
     "metadata": {},
     "output_type": "execute_result"
    }
   ],
   "source": [
    "np.interp(3.5, pachelbel_tracks_t, pachelbel_tracks_p[0])"
   ]
  },
  {
   "cell_type": "markdown",
   "metadata": {},
   "source": [
    "So, for each track, let's create a random rhythm, interpolate indexes to the offsets, find the indexes on the `d_major` scale, and assemble the tracks."
   ]
  },
  {
   "cell_type": "code",
   "execution_count": 30,
   "metadata": {
    "metadata": {}
   },
   "outputs": [],
   "source": [
    "import random\n",
    "random.seed(10)\n",
    "tracks = []\n",
    "for i in range(ntracks):\n",
    "    rythm = dj.rhythm.Rhythm(durations=[0.25, 0.5, 1, 2], measure_length=8).random() * 2\n",
    "    pitch_index = np.interp(\n",
    "        x=[r[1] for r in rythm],\n",
    "        xp=pachelbel_tracks_t,\n",
    "        fp=pachelbel_tracks_p[i]\n",
    "    )\n",
    "    pitch_index = np.round(pitch_index).astype(int).tolist()\n",
    "    notes = []\n",
    "    for j,r in zip(pitch_index, rythm):\n",
    "        notes.append((\n",
    "            d_major[j], r[0], r[1]\n",
    "        ))\n",
    "    tracks.append(notes)"
   ]
  },
  {
   "cell_type": "markdown",
   "metadata": {},
   "source": [
    "We can offset the tracks to create a cannon. The result is a reinterpretation of Pachelbel's Cannon in D-major."
   ]
  },
  {
   "cell_type": "code",
   "execution_count": 31,
   "metadata": {
    "editable": true,
    "metadata": {},
    "slideshow": {
     "slide_type": ""
    },
    "tags": []
   },
   "outputs": [
    {
     "data": {
      "text/html": [
       "\n",
       "        <div id=\"midiPlayerDiv15211\"></div>\n",
       "        <link rel=\"stylesheet\" href=\"https://cuthbertLab.github.io/music21j/css/m21.css\">\n",
       "        \n",
       "        <script\n",
       "        src=\"https://cdnjs.cloudflare.com/ajax/libs/require.js/2.3.6/require.min.js\"\n",
       "        ></script>\n",
       "    \n",
       "        <script>\n",
       "        function midiPlayerDiv15211_play() {\n",
       "            const rq = require.config({\n",
       "                paths: {\n",
       "                    'music21': 'https://cuthbertLab.github.io/music21j/releases/music21.debug',\n",
       "                }\n",
       "            });\n",
       "            rq(['music21'], function(music21) {\n",
       "                mp = new music21.miditools.MidiPlayer();\n",
       "                mp.addPlayer(\"#midiPlayerDiv15211\");\n",
       "                mp.base64Load(\"data:audio/midi;base64,TVRoZAAAAAYAAQAFJ2BNVHJrAAAAFAD/UQMHoSAA/1gEBAIYCM5g/y8ATVRyawAAAPoA/wMAAOAAQM5gkD5apzCAPgAAkD5ak1iAPgAAkD1ak1iAPQAAkD1azmCAPQAAkDlapzCAOQAAkDlapzCAOQAAkD1apzCAPQAAkD1ak1iAPQAAkD1azmCAPQAAkDRak1iANAAAkDJapzCAMgAAkDJagZ1AgDIAAJA3WqcwgDcAAJA+WqcwgD4AAJA+WpNYgD4AAJA9WpNYgD0AAJA9Ws5ggD0AAJA5WqcwgDkAAJA5WqcwgDkAAJA9WqcwgD0AAJA9WpNYgD0AAJA9Ws5ggD0AAJA0WpNYgDQAAJAyWqcwgDIAAJAyWoGdQIAyAACQN1qnMIA3AM5g/y8ATVRyawAAAUAA/wMAAOAAQM5gkD5azmCAPgAAkD5ak1iAPgAAkD1apzCAPQAAkDtapzCAOwAAkDlapzCAOQAAkDlapzCAOQAAkDtak1iAOwAAkDtapzCAOwAAkDtapzCAOwAAkDlak1iAOQAAkDdak1iANwAAkDdapzCANwAAkDZapzCANgAAkDZazmCANgAAkDlak1iAOQAAkDtapzCAOwAAkDlak1iAOQAAkD5azmCAPgAAkD5ak1iAPgAAkD1apzCAPQAAkDtapzCAOwAAkDlapzCAOQAAkDlapzCAOQAAkDtak1iAOwAAkDtapzCAOwAAkDtapzCAOwAAkDlak1iAOQAAkDdak1iANwAAkDdapzCANwAAkDZapzCANgAAkDZazmCANgAAkDlak1iAOQAAkDtapzCAOwAAkDlak1iAOQDOYP8vAE1UcmsAAACSAP8DAADgAEDOYJA+WoGdQIA+AACQOVqBnUCAOQAAkDtak1iAOwAAkDtagZ1AgDsAAJA2WpNYgDYAAJA2WqcwgDYAAJA2Ws5ggDYAAJA+WoGdQIA+AACQOVqBnUCAOQAAkDtak1iAOwAAkDtagZ1AgDsAAJA2WpNYgDYAAJA2WqcwgDYAAJA2Ws5ggDYAzmD/LwBNVHJrAAAA+AD/AwAA4ABAzmCQPloAkEJaAJBFWoGdQIA+AACAQgAAgEUAAJA5WgCQPVoAkEBagZ1AgDkAAIA9AACAQAAAkDtaAJA+WgCQQlqBnUCAOwAAgD4AAIBCAACQNloAkDlaAJA9WoGdQIA2AACAOQAAgD0AAJA3WgCQO1oAkD5agZ1AgDcAAIA7AACAPgAAkDJaAJA2WgCQOVqBnUCAMgAAgDYAAIA5AACQN1oAkDtaAJA+WoGdQIA3AACAOwAAgD4AAJA5WgCQPVoAkEBagZ1AgDkAAIA9AACAQAAAkD5aAJBCWgCQRVqBnUCAPgAAgEIAAIBFAM5g/y8A\");\n",
       "            });\n",
       "        }\n",
       "        if (typeof require === 'undefined') {\n",
       "            setTimeout(midiPlayerDiv15211_play, 2000);\n",
       "        } else {\n",
       "            midiPlayerDiv15211_play();\n",
       "        }\n",
       "        </script>"
      ],
      "text/plain": [
       "<IPython.core.display.HTML object>"
      ]
     },
     "metadata": {},
     "output_type": "display_data"
    }
   ],
   "source": [
    "tracks[0] = dj.utils.offset_list_of_notes(tracks[0], by=1)\n",
    "tracks[1] = dj.utils.offset_list_of_notes(tracks[1], by=2)\n",
    "tracks[2] = dj.utils.offset_list_of_notes(tracks[2], by=3)\n",
    "tracks.append(pachelbel_progression_iso)\n",
    "dj.conversion.convert(tracks, to='music21').show('midi')"
   ]
  }
 ],
 "metadata": {
  "kernelspec": {
   "display_name": "musicbook",
   "language": "python",
   "name": "musicbook"
  },
  "language_info": {
   "codemirror_mode": {
    "name": "ipython",
    "version": 3
   },
   "file_extension": ".py",
   "mimetype": "text/x-python",
   "name": "python",
   "nbconvert_exporter": "python",
   "pygments_lexer": "ipython3",
   "version": "3.11.9"
  },
  "vscode": {
   "interpreter": {
    "hash": "22c1fdf23b544c5c6875eb367892c5e35fbf88d803b528cbf2f0c08d0f8dde5a"
   }
  }
 },
 "nbformat": 4,
 "nbformat_minor": 4
}
