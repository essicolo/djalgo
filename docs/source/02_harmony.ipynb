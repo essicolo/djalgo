{
 "cells": [
  {
   "cell_type": "markdown",
   "metadata": {
    "editable": true,
    "slideshow": {
     "slide_type": ""
    },
    "tags": []
   },
   "source": [
    "# 2. Harmonies"
   ]
  },
  {
   "cell_type": "markdown",
   "metadata": {},
   "source": [
    "## 2.1 Python basics\n",
    "\n",
    "### 2.1.1 Lists in First Class\n",
    "\n",
    "We will cover some ways of working with music files in Python: \n",
    "\n",
    "- [Music21](https://web.mit.edu/music21/) is dedicated to music theory and notation\n",
    "- [Pretty-Midi](https://craffel.github.io/pretty-midi/) is made to interact with MIDI files\n",
    "\n",
    "> [Miditoolkit](https://github.com/YatingMusic/miditoolkit) and [SCAMP](http://scamp.marcevanstein.com/) are not supported yet.\n",
    "\n",
    "Although I will favor Music21 on this site to display our scores and export to MIDI, and Pretty-midi for more complex MIDI processes, but you can really choose the tool you prefer. This is because most of Djalgo's outputs are generic Python objects like lists and tuples, which are simple and powerful ways to store information in Python. The content of a Python list is defined in square brackets, and each item is separated with a comma. In the next code cell, I assign a list to a variable."
   ]
  },
  {
   "cell_type": "code",
   "execution_count": 1,
   "metadata": {},
   "outputs": [
    {
     "data": {
      "text/plain": [
       "[1, 'a', 10, 'crocodile']"
      ]
     },
     "execution_count": 1,
     "metadata": {},
     "output_type": "execute_result"
    }
   ],
   "source": [
    "a = [1, 'a', 10, 'crocodile']\n",
    "a"
   ]
  },
  {
   "cell_type": "markdown",
   "metadata": {},
   "source": [
    "### 2.1.2 Music as a signal of information\n",
    "\n",
    "Djalgo is not about sound, but music. Sounds are very complex signals that can be generated from musical specifications such as notes. If you are more interested by shaping sounds, check out SCAMP, Sonic-Pi and SuperCollider, among many others. Rather than sounds, Djalgo generates numerical values representing notes. A note, at its most essential information, is a combinaision of a pitch, a duration, and when it starts in time. Another way of defining a note is its pitch, its start time and its end time. Since end time is start time plus duration, and duration is end time minus start time, both approaches contain the same information.\n",
    "\n",
    "Djalgo numerically considers a note as a (pitch, duration, offset) tuple. Pitches are expressed in MIDI notation, a highly normed and complex way for music encoding, which spans from 0, corresponding to C2 (8.178 Hz), to 127, corresponding to G9 (12543.854 Hz). Durations, as well as offsets, or start times, are expressed in any unit desired, but, really, quarter lenghts should be used. A quarter length is the duration of a metronome tick. The metronome tick oscillates in beats per minute, a speed that allows quarter lengths to be placed in time.\n",
    "\n",
    "In Python, tuples are immmutable lists: once it is defined, it can't be altered. The tuple `(72, 2.0, 1.0)` defines a note with pitch C4 with a duration of two quarter lengths starting at 1.0 quarter length from thew begining of the track. Pitches defined by `None` are rests. \n",
    "\n",
    "A rhythm is simply a note without the pitch. It is defined with a tuple of `(duration, offset)`. Speaking of definitions, a track is a sequence of notes stored in a list. And multiple tracks form a piece, which becomes a list of lists.\n",
    "\n",
    "Let's define two tracks."
   ]
  },
  {
   "cell_type": "code",
   "execution_count": 2,
   "metadata": {},
   "outputs": [],
   "source": [
    "twinkle_1 = [\n",
    "    (60, 1.0, 0.0),  # C (twin)\n",
    "    (60, 1.0, 1.0),  # C (kle)\n",
    "    (67, 1.0, 2.0),  # G (twin)\n",
    "    (67, 1.0, 3.0),  # G (kle)\n",
    "    (69, 1.0, 4.0),  # A (lit)\n",
    "    (69, 1.0, 5.0),  # A (tle)\n",
    "    (67, 2.0, 6.0)  # G (star)\n",
    "]\n",
    "\n",
    "twinkle_2 = [\n",
    "    (65, 1.0, 8.0),  # F (how)\n",
    "    (65, 1.0, 9.0),  # F (I)\n",
    "    (64, 1.0, 10.0), # E (won)\n",
    "    (64, 1.0, 11.0), # E (der)\n",
    "    (62, 1.0, 12.0), # D (what)\n",
    "    (62, 1.0, 13.0), # D (you)\n",
    "    (60, 2.0, 14.0)  # C (are)\n",
    "]"
   ]
  },
  {
   "cell_type": "markdown",
   "metadata": {},
   "source": [
    "To merge two lists *horizontally*, i.e. in the time direction, you can use the `+` opetator."
   ]
  },
  {
   "cell_type": "code",
   "execution_count": 3,
   "metadata": {},
   "outputs": [
    {
     "data": {
      "text/plain": [
       "[(60, 1.0, 0.0),\n",
       " (60, 1.0, 1.0),\n",
       " (67, 1.0, 2.0),\n",
       " (67, 1.0, 3.0),\n",
       " (69, 1.0, 4.0),\n",
       " (69, 1.0, 5.0),\n",
       " (67, 2.0, 6.0),\n",
       " (65, 1.0, 8.0),\n",
       " (65, 1.0, 9.0),\n",
       " (64, 1.0, 10.0),\n",
       " (64, 1.0, 11.0),\n",
       " (62, 1.0, 12.0),\n",
       " (62, 1.0, 13.0),\n",
       " (60, 2.0, 14.0)]"
      ]
     },
     "execution_count": 3,
     "metadata": {},
     "output_type": "execute_result"
    }
   ],
   "source": [
    "twinkle = twinkle_1 + twinkle_2\n",
    "twinkle"
   ]
  },
  {
   "cell_type": "markdown",
   "metadata": {},
   "source": [
    "Stack them *vertically* creates a piece of two tracks."
   ]
  },
  {
   "cell_type": "code",
   "execution_count": 4,
   "metadata": {},
   "outputs": [
    {
     "data": {
      "text/plain": [
       "[[(60, 1.0, 0.0),\n",
       "  (60, 1.0, 1.0),\n",
       "  (67, 1.0, 2.0),\n",
       "  (67, 1.0, 3.0),\n",
       "  (69, 1.0, 4.0),\n",
       "  (69, 1.0, 5.0),\n",
       "  (67, 2.0, 6.0)],\n",
       " [(65, 1.0, 8.0),\n",
       "  (65, 1.0, 9.0),\n",
       "  (64, 1.0, 10.0),\n",
       "  (64, 1.0, 11.0),\n",
       "  (62, 1.0, 12.0),\n",
       "  (62, 1.0, 13.0),\n",
       "  (60, 2.0, 14.0)]]"
      ]
     },
     "execution_count": 4,
     "metadata": {},
     "output_type": "execute_result"
    }
   ],
   "source": [
    "twinkle = [twinkle_1, twinkle_2]\n",
    "twinkle"
   ]
  },
  {
   "cell_type": "markdown",
   "metadata": {},
   "source": [
    "## 2.2 Leverage Djalgo for music composition\n",
    "\n",
    "### 2.2.1 Scales\n",
    "\n",
    "We haven't used Djalgo yet. We just played with basic Python where I wrote the song *Twinkle, Twinkle Little Star* in C-major. C-major is a scale, i.e. a subset of the chromatic scale (all pitches) designed to fit together. Djalgo can generate pitch lists allowed for a given scale. We'll need to load Djalgo in our session to access to its functionnalities. I use the alias `dj` to make the code shorter."
   ]
  },
  {
   "cell_type": "code",
   "execution_count": 5,
   "metadata": {},
   "outputs": [],
   "source": [
    "import djalgo as dj"
   ]
  },
  {
   "cell_type": "markdown",
   "metadata": {},
   "source": [
    "Scales are accessible from the *harmony* module. You have to define the tonic and the type, then `.generate()` will process the scale, returning all available MIDI pitches in the scale. The `object.method()` way of programming (object-oriented programming) is just like defining a frog and make it jump, as\n",
    "\n",
    "```\n",
    "frog = animal(order='anura')\n",
    "frog.jump()\n",
    "frog.swim()\n",
    "```\n",
    "\n",
    "In the following code block, I seek for the scale function in Djalgo, define it, then tell it to generate the scale."
   ]
  },
  {
   "cell_type": "code",
   "execution_count": 6,
   "metadata": {},
   "outputs": [
    {
     "name": "stdout",
     "output_type": "stream",
     "text": [
      "[0, 2, 4, 5, 7, 9, 11, 12, 14, 16, 17, 19, 21, 23, 24, 26, 28, 29, 31, 33, 35, 36, 38, 40, 41, 43, 45, 47, 48, 50, 52, 53, 55, 57, 59, 60, 62, 64, 65, 67, 69, 71, 72, 74, 76, 77, 79, 81, 83, 84, 86, 88, 89, 91, 93, 95, 96, 98, 100, 101, 103, 105, 107, 108, 110, 112, 113, 115, 117, 119, 120, 122, 124, 125, 127]\n"
     ]
    }
   ],
   "source": [
    "c_major = dj.harmony.Scale(tonic='C', mode='major').generate()\n",
    "print(c_major)"
   ]
  },
  {
   "cell_type": "markdown",
   "metadata": {},
   "source": [
    "Scales are defined as intervals from the chromatic scale. You might have heard that a major scale is *whole-step, whole-step, half-step, whole-step, whole-step, whole-step, half-step*. In Python, from a list of 12 pitches in the chromatic scale, you would take the first pitch (index 0), the third (index 2), and so on. Djalgo predefines the major scale, the minor, diminished, pentatonic and so on."
   ]
  },
  {
   "cell_type": "code",
   "execution_count": 7,
   "metadata": {},
   "outputs": [
    {
     "name": "stdout",
     "output_type": "stream",
     "text": [
      "{'major': [0, 2, 4, 5, 7, 9, 11], 'minor': [0, 2, 3, 5, 7, 8, 10], 'diminished': [0, 2, 3, 5, 6, 8, 9, 11], 'major pentatonic': [0, 2, 4, 7, 9], 'minor pentatonic': [0, 3, 5, 7, 10], 'chromatic': [0, 1, 2, 3, 4, 5, 6, 7, 8, 9, 10, 11], 'lydian': [0, 2, 4, 6, 7, 9, 11], 'mixolydian': [0, 2, 4, 5, 7, 9, 10], 'dorian': [0, 2, 3, 5, 7, 9, 10], 'phrygian': [0, 1, 3, 5, 7, 8, 10], 'locrian': [0, 1, 3, 5, 6, 8, 10], 'harmonic minor': [0, 2, 3, 5, 7, 8, 11], 'melodic minor ascending': [0, 2, 3, 5, 7, 9, 11], 'melodic minor descending': [0, 2, 3, 5, 7, 8, 10]}\n"
     ]
    }
   ],
   "source": [
    "print(dj.harmony.Scale.scale_intervals)"
   ]
  },
  {
   "cell_type": "markdown",
   "metadata": {},
   "source": [
    "As any list, you can extract a subset by index. In Python, `c_major[35:43]` means you aim at extracting index 35 to *excluding* index 43, i.e. indexes 35 to 42. The resulting list is C4 to C5."
   ]
  },
  {
   "cell_type": "code",
   "execution_count": 8,
   "metadata": {},
   "outputs": [
    {
     "data": {
      "text/plain": [
       "[60, 62, 64, 65, 67, 69, 71, 72]"
      ]
     },
     "execution_count": 8,
     "metadata": {},
     "output_type": "execute_result"
    }
   ],
   "source": [
    "c_major_sub = c_major[35:43] # C4 to C5\n",
    "c_major_sub"
   ]
  },
  {
   "cell_type": "markdown",
   "metadata": {},
   "source": [
    "To convert a list of pitches to the Djalgo notation, we could use afor loop. The explainations are in code comments, which are placed after the `#` sign."
   ]
  },
  {
   "cell_type": "code",
   "execution_count": 9,
   "metadata": {},
   "outputs": [
    {
     "name": "stdout",
     "output_type": "stream",
     "text": [
      "[(60, 1, 0), (62, 1, 1), (64, 1, 2), (65, 1, 3), (67, 1, 4), (69, 1, 5), (71, 1, 6), (72, 1, 7)]\n"
     ]
    }
   ],
   "source": [
    "# Initialize an empty list to store the notes\n",
    "c_major_sub_notes = []\n",
    "\n",
    "# Initialize the offset, the first being 0\n",
    "offset = 0\n",
    "\n",
    "# Iterate over the pitches in the scale subset we assigned earlier\n",
    "for pitch in c_major_sub:\n",
    "    # Append the pitch, duration, and offset to the notes list\n",
    "    c_major_sub_notes.append((pitch, 1, offset))\n",
    "    # Increment the offset by 1\n",
    "    offset = offset + 1 \n",
    "\n",
    "print(c_major_sub_notes)"
   ]
  },
  {
   "cell_type": "markdown",
   "metadata": {},
   "source": [
    "We now have a track, and can convert it to a Music21 object with the conversion utility, then render it with Music21's `.show()` method."
   ]
  },
  {
   "cell_type": "code",
   "execution_count": 10,
   "metadata": {},
   "outputs": [
    {
     "data": {
      "application/vnd.jupyter.widget-view+json": {
       "model_id": "c1845b01086f447a80fb589caffeb614",
       "version_major": 2,
       "version_minor": 1
      },
      "text/plain": [
       "ABCjsWidget(abc=\"X:1\\nT:C Major Scale\\nM:4/4\\nL:1/4\\nQ:1/4=120\\nK:C-major\\n%%score T1\\nV:T1 clef=treble\\nC D E…"
      ]
     },
     "execution_count": 10,
     "metadata": {},
     "output_type": "execute_result"
    }
   ],
   "source": [
    "#dj.conversion.convert(c_major_sub_notes, to='music21').show() # example for music21 and MuseScore\n",
    "dj.score.show(c_major_sub_notes, title='C Major Scale', key='C-major')"
   ]
  },
  {
   "cell_type": "markdown",
   "metadata": {},
   "source": [
    "### Chords\n",
    "\n",
    "A chord is multiple pitches played together, generally three. In Djalgo, chords are written as a list of pitches in the note format."
   ]
  },
  {
   "cell_type": "code",
   "execution_count": 11,
   "metadata": {},
   "outputs": [
    {
     "data": {
      "application/vnd.jupyter.widget-view+json": {
       "model_id": "72e73b0c6e2d4f56b0dd3b4d8d98f258",
       "version_major": 2,
       "version_minor": 1
      },
      "text/plain": [
       "ABCjsWidget(abc='X:1\\nT:None\\nM:4/4\\nL:1/4\\nQ:1/4=120\\nK:C\\n%%score T1\\nV:T1 clef=treble\\n[C E G] |')"
      ]
     },
     "execution_count": 11,
     "metadata": {},
     "output_type": "execute_result"
    }
   ],
   "source": [
    "c_major_chord = ([60, 64, 67], 1, 0)\n",
    "dj.score.show([c_major_chord])"
   ]
  },
  {
   "cell_type": "markdown",
   "metadata": {},
   "source": [
    ":::{tip}\n",
    "The `.show()` method renders a score by default, but you have access to other rendering options, such as `.show('midi')`.\n",
    ":::"
   ]
  },
  {
   "cell_type": "markdown",
   "metadata": {},
   "source": [
    "### Ornaments\n",
    "\n",
    "We used the Djalgo package, but still haven't seen how it can help to generate music. Let's start with ornaments, which alter a list of notes to create a richer score. Djalgo has six types of ornaments: grace note, trill, mordent, arpeggio, turn and slide."
   ]
  },
  {
   "cell_type": "markdown",
   "metadata": {},
   "source": [
    "**Grace note** adds a note randomly drawned from the list given in `grace_pitches` at the place given by `note_index`."
   ]
  },
  {
   "cell_type": "code",
   "execution_count": 12,
   "metadata": {},
   "outputs": [
    {
     "data": {
      "application/vnd.jupyter.widget-view+json": {
       "model_id": "63a74f7c4be24dc3a0ab011beb4f6047",
       "version_major": 2,
       "version_minor": 1
      },
      "text/plain": [
       "ABCjsWidget(abc=\"X:1\\nT:Grace note\\nM:4/4\\nL:1/4\\nQ:1/4=120\\nK:C\\n%%score T1\\nV:T1 clef=treble\\nC D E F C'/2 G…"
      ]
     },
     "execution_count": 12,
     "metadata": {},
     "output_type": "execute_result"
    }
   ],
   "source": [
    "_ornam = dj.harmony.Ornament(\n",
    "    type='grace_note',\n",
    "    grace_note_type='appoggiatura',\n",
    "    grace_pitches=[72]\n",
    ").generate(\n",
    "    notes=c_major_sub_notes,\n",
    "    note_index=4\n",
    ")\n",
    "dj.score.show(_ornam, title=\"Grace note\")"
   ]
  },
  {
   "cell_type": "markdown",
   "metadata": {},
   "source": [
    "**Trill** gets the degree given by `by` from the note at `note_index` and oscillates at rate of `trill_rate` between the note and its degree."
   ]
  },
  {
   "cell_type": "code",
   "execution_count": 13,
   "metadata": {},
   "outputs": [
    {
     "data": {
      "application/vnd.jupyter.widget-view+json": {
       "model_id": "adee0fb75f324a7fbd3791d0f82f30f2",
       "version_major": 2,
       "version_minor": 1
      },
      "text/plain": [
       "ABCjsWidget(abc=\"X:1\\nT:Trill\\nM:4/4\\nL:1/4\\nQ:1/4=120\\nK:C\\n%%score T1\\nV:T1 clef=treble\\nC D E F G/8 A/8 G/8…"
      ]
     },
     "execution_count": 13,
     "metadata": {},
     "output_type": "execute_result"
    }
   ],
   "source": [
    "_ornam = dj.harmony.Ornament(\n",
    "    type='trill',\n",
    "    trill_rate=0.125,\n",
    "    by=1,\n",
    "    tonic='C',\n",
    "    mode='major'\n",
    ").generate(\n",
    "    notes=c_major_sub_notes,\n",
    "    note_index=4\n",
    ")\n",
    "dj.score.show(_ornam, title=\"Trill\")"
   ]
  },
  {
   "cell_type": "markdown",
   "metadata": {},
   "source": [
    "**Mordent** rapidly alternates between the original pitch and one step defined `by`."
   ]
  },
  {
   "cell_type": "code",
   "execution_count": 14,
   "metadata": {},
   "outputs": [
    {
     "data": {
      "application/vnd.jupyter.widget-view+json": {
       "model_id": "62c10ea754854c51a52287670cb9ab10",
       "version_major": 2,
       "version_minor": 1
      },
      "text/plain": [
       "ABCjsWidget(abc=\"X:1\\nT:Mordent\\nM:4/4\\nL:1/4\\nQ:1/4=120\\nK:C\\n%%score T1\\nV:T1 clef=treble\\nC D E F G1/4 F1/4…"
      ]
     },
     "execution_count": 14,
     "metadata": {},
     "output_type": "execute_result"
    }
   ],
   "source": [
    "_ornam = dj.harmony.Ornament(\n",
    "    type='mordent',\n",
    "    by=-1,\n",
    "    tonic='C',\n",
    "    mode='major'\n",
    ").generate(\n",
    "    notes=c_major_sub_notes,\n",
    "    note_index=4\n",
    ")\n",
    "dj.score.show(_ornam, title=\"Mordent\")"
   ]
  },
  {
   "cell_type": "markdown",
   "metadata": {},
   "source": [
    "**Arpeggio** transforms a note to an arpeggio given by a list of degrees."
   ]
  },
  {
   "cell_type": "code",
   "execution_count": 15,
   "metadata": {},
   "outputs": [
    {
     "data": {
      "application/vnd.jupyter.widget-view+json": {
       "model_id": "b8bf4c6b69d841d4a52514063ae39c01",
       "version_major": 2,
       "version_minor": 1
      },
      "text/plain": [
       "ABCjsWidget(abc=\"X:1\\nT:Arpeggio\\nM:4/4\\nL:1/4\\nQ:1/4=120\\nK:C\\n%%score T1\\nV:T1 clef=treble\\nC D E F G/4 D'/4…"
      ]
     },
     "execution_count": 15,
     "metadata": {},
     "output_type": "execute_result"
    }
   ],
   "source": [
    "_ornam = dj.harmony.Ornament(\n",
    "    type='arpeggio',\n",
    "    tonic='C',\n",
    "    mode='major',\n",
    "    arpeggio_degrees=[0, 4, 2, 5]\n",
    ").generate(\n",
    "    notes=c_major_sub_notes,\n",
    "    note_index=4\n",
    ")\n",
    "dj.score.show(_ornam, title=\"Arpeggio\")"
   ]
  },
  {
   "cell_type": "markdown",
   "metadata": {},
   "source": [
    "**Turn** is a transition of four notes betweem `note_index` and the next note."
   ]
  },
  {
   "cell_type": "code",
   "execution_count": 16,
   "metadata": {},
   "outputs": [
    {
     "data": {
      "application/vnd.jupyter.widget-view+json": {
       "model_id": "7f1b5bcc1e8a4951a68491a43fafcab9",
       "version_major": 2,
       "version_minor": 1
      },
      "text/plain": [
       "ABCjsWidget(abc=\"X:1\\nT:Turn\\nM:4/4\\nL:1/4\\nQ:1/4=120\\nK:C\\n%%score T1\\nV:T1 clef=treble\\nC D E F A/4 G/4 F/4 …"
      ]
     },
     "execution_count": 16,
     "metadata": {},
     "output_type": "execute_result"
    }
   ],
   "source": [
    "_ornam = dj.harmony.Ornament(\n",
    "    type='turn',\n",
    "    tonic='C',\n",
    "    mode='major'\n",
    ").generate(\n",
    "    notes=c_major_sub_notes,\n",
    "    note_index=4\n",
    ")\n",
    "dj.score.show(_ornam, title=\"Turn\")"
   ]
  },
  {
   "cell_type": "markdown",
   "metadata": {},
   "source": [
    "**Silde** is a glissando. However, in Djalgo, glissandos should be defined at the instrument level with your prefered package (`Instrument` in Pretty-midi and `Stream` in Music21). Instead of sliding, slide in djalgo transits on the chromatic scale from a note to the next."
   ]
  },
  {
   "cell_type": "code",
   "execution_count": 17,
   "metadata": {},
   "outputs": [
    {
     "data": {
      "application/vnd.jupyter.widget-view+json": {
       "model_id": "5bf30394fe9f4eaa8601d820cd538e14",
       "version_major": 2,
       "version_minor": 1
      },
      "text/plain": [
       "ABCjsWidget(abc='X:1\\nT:Slide\\nM:4/4\\nL:1/4\\nQ:1/4=120\\nK:C\\n%%score T1\\nV:T1 clef=treble\\nC2/4 D2/4 E2/4 ^F2/…"
      ]
     },
     "execution_count": 17,
     "metadata": {},
     "output_type": "execute_result"
    }
   ],
   "source": [
    "_ornam = dj.harmony.Ornament(\n",
    "    type='slide',\n",
    "    slide_length=6\n",
    ").generate(\n",
    "    notes=[(60, 4, 0), (72, 4, 4)],\n",
    "    note_index=0\n",
    ")\n",
    "dj.score.show(_ornam, title=\"Slide\")"
   ]
  },
  {
   "cell_type": "markdown",
   "metadata": {},
   "source": [
    "### Voice\n",
    "\n",
    "Voicing creates chords from pitch lists. These are just lists, but iterating through them can generate either chords and arpeggios."
   ]
  },
  {
   "cell_type": "code",
   "execution_count": 18,
   "metadata": {},
   "outputs": [
    {
     "data": {
      "application/vnd.jupyter.widget-view+json": {
       "model_id": "215fb3f0254041c4b84f5f964e1c5fff",
       "version_major": 2,
       "version_minor": 1
      },
      "text/plain": [
       "ABCjsWidget(abc=\"X:1\\nT:Voicing\\nM:4/4\\nL:1/4\\nQ:1/4=120\\nK:C\\n%%score T1 T2\\nV:T1 clef=treble\\nC D E F G A B …"
      ]
     },
     "execution_count": 18,
     "metadata": {},
     "output_type": "execute_result"
    }
   ],
   "source": [
    "pitch_chords = dj.harmony.Voice(\n",
    "    tonic = 'C',\n",
    "    mode = 'major',\n",
    "    degrees=[0, 2, 4] # triads\n",
    ").generate(notes=c_major_sub)\n",
    "dj.score.show([c_major_sub, pitch_chords], title=\"Voicing\")"
   ]
  },
  {
   "cell_type": "markdown",
   "metadata": {},
   "source": [
    "### Progression\n",
    "\n",
    "Ever heard of the circle of fifths? It can be used to create progressions with chords that fit together. Why not using it to generate random progressions from different circles, the circle of fifths (`'P5'`) being the most popular. The radius argument is the spread of the chords in the circle across [major chords, minor chords, diminished chords], usually `[3, 3, 1]`."
   ]
  },
  {
   "cell_type": "code",
   "execution_count": 19,
   "metadata": {},
   "outputs": [
    {
     "data": {
      "application/vnd.jupyter.widget-view+json": {
       "model_id": "6a4f084dc328448c981449f90bd84b2a",
       "version_major": 2,
       "version_minor": 1
      },
      "text/plain": [
       "ABCjsWidget(abc='X:1\\nT:Random progression 1\\nM:4/4\\nL:1/4\\nQ:1/4=120\\nK:C\\n%%score T1\\nV:T1 clef=treble\\n[e, …"
      ]
     },
     "execution_count": 19,
     "metadata": {},
     "output_type": "execute_result"
    }
   ],
   "source": [
    "progression = dj.harmony.Progression(\n",
    "    tonic_pitch='D3',\n",
    "    circle_of='P5',\n",
    "    radius=[3, 3, 1]\n",
    ").generate(length=8, seed=5) # a seed is any random integer that allows you to reproduce the same outcomes from arandom process\n",
    "progression_notes = []\n",
    "offset = 0\n",
    "for chord in progression:\n",
    "    progression_notes.append((chord, 1, offset))\n",
    "    offset = offset + 1 \n",
    "dj.score.show(progression_notes, title=\"Random progression 1\")"
   ]
  },
  {
   "cell_type": "markdown",
   "metadata": {},
   "source": [
    "### Rhythms\n",
    "\n",
    "For now, all note durations was set to 1 quarter length, and offsets were set accordingly. A combination of durations and offsets is called a rhythm in Djalgo. Rhythms can be set by hand, but to leverage Djalgo, we can generate them randomly. The `random` method from the `rhythm` module draws numbers from a `durations` list until they sum up to the `measure_length`."
   ]
  },
  {
   "cell_type": "code",
   "execution_count": 20,
   "metadata": {},
   "outputs": [
    {
     "data": {
      "text/plain": [
       "[(0.5, 0.0),\n",
       " (0.5, 0.5),\n",
       " (2, 1.0),\n",
       " (2, 3.0),\n",
       " (0.5, 5.0),\n",
       " (1, 5.5),\n",
       " (0.5, 6.5),\n",
       " (1, 7.0)]"
      ]
     },
     "execution_count": 20,
     "metadata": {},
     "output_type": "execute_result"
    }
   ],
   "source": [
    "random_rhythm = dj.rhythm.Rhythm(\n",
    "    measure_length=8,\n",
    "    durations = [0.5, 1, 2]\n",
    ").random(seed=3)\n",
    "random_rhythm"
   ]
  },
  {
   "cell_type": "markdown",
   "metadata": {},
   "source": [
    "A random progression of the same length can be generated (`len(a)` take the length of the list `a`), mapped to the rhythm, and transformed to a Music21 stream to create a score or a midi.\n"
   ]
  },
  {
   "cell_type": "code",
   "execution_count": 21,
   "metadata": {},
   "outputs": [
    {
     "data": {
      "application/vnd.jupyter.widget-view+json": {
       "model_id": "d9ae0f4479844ca2a487d2479af98ed6",
       "version_major": 2,
       "version_minor": 1
      },
      "text/plain": [
       "ABCjsWidget(abc='X:1\\nT:Random progression 2\\nM:4/4\\nL:1/4\\nQ:1/4=120\\nK:C\\n%%score T1\\nV:T1 clef=treble\\n[d, …"
      ]
     },
     "execution_count": 21,
     "metadata": {},
     "output_type": "execute_result"
    }
   ],
   "source": [
    "progression = dj.harmony.Progression(\n",
    "    tonic_pitch='C3',\n",
    "    circle_of='P5',\n",
    "    radius=[3, 3, 1]\n",
    ").generate(length=len(random_rhythm), seed=5)\n",
    "random_progression = [(p, d, o) for p, (d, o) in zip(progression, random_rhythm)]\n",
    "dj.score.show(random_progression, title=\"Random progression 2\")"
   ]
  },
  {
   "cell_type": "markdown",
   "metadata": {},
   "source": [
    "## Wrap up\n",
    "\n",
    "Let's take our twinkle song."
   ]
  },
  {
   "cell_type": "code",
   "execution_count": 22,
   "metadata": {},
   "outputs": [
    {
     "data": {
      "application/vnd.jupyter.widget-view+json": {
       "model_id": "f7b003b5311b4bcea0858bc052140855",
       "version_major": 2,
       "version_minor": 1
      },
      "text/plain": [
       "ABCjsWidget(abc='X:1\\nT:Twinkle Twinkle Little Star\\nM:4/4\\nL:1/4\\nQ:1/4=120\\nK:C\\n%%score T1\\nV:T1 clef=trebl…"
      ]
     },
     "execution_count": 22,
     "metadata": {},
     "output_type": "execute_result"
    }
   ],
   "source": [
    "twinkle = twinkle_1 + twinkle_2\n",
    "dj.score.show(twinkle, title=\"Twinkle Twinkle Little Star\")"
   ]
  },
  {
   "cell_type": "markdown",
   "metadata": {},
   "source": [
    "We will add a voice to index 0 and index 7."
   ]
  },
  {
   "cell_type": "code",
   "execution_count": 23,
   "metadata": {},
   "outputs": [
    {
     "data": {
      "application/vnd.jupyter.widget-view+json": {
       "model_id": "823cef81f6f24d38a5f0d4c746efc4c5",
       "version_major": 2,
       "version_minor": 1
      },
      "text/plain": [
       "ABCjsWidget(abc=\"X:1\\nT:Twinkle Twinkle Little Star with chords\\nM:4/4\\nL:1/4\\nQ:1/4=120\\nK:C\\n%%score T1 T2\\n…"
      ]
     },
     "execution_count": 23,
     "metadata": {},
     "output_type": "execute_result"
    }
   ],
   "source": [
    "twinkle_chords = dj.harmony.Voice(\n",
    "    tonic = 'C',\n",
    "    mode = 'major',\n",
    "    degrees=[0, 2, 4] # triads\n",
    ").generate(notes=twinkle)\n",
    "twinkle_chords = [twinkle_chords[0], twinkle_chords[7]]\n",
    "dj.score.show([twinkle, twinkle_chords], title=\"Twinkle Twinkle Little Star with chords\")"
   ]
  },
  {
   "cell_type": "markdown",
   "metadata": {},
   "source": [
    "Some ornaments..."
   ]
  },
  {
   "cell_type": "code",
   "execution_count": 24,
   "metadata": {},
   "outputs": [
    {
     "data": {
      "application/vnd.jupyter.widget-view+json": {
       "model_id": "35ae50c6b71b4bf6811bdee9be1f5320",
       "version_major": 2,
       "version_minor": 1
      },
      "text/plain": [
       "ABCjsWidget(abc='X:1\\nT:Twinkle, with ornaments\\nM:4/4\\nL:1/4\\nQ:1/4=120\\nK:C\\n%%score T1\\nV:T1 clef=treble\\nC…"
      ]
     },
     "execution_count": 24,
     "metadata": {},
     "output_type": "execute_result"
    }
   ],
   "source": [
    "twinkle = dj.harmony.Ornament(\n",
    "    type='trill',\n",
    "    trill_rate=0.25,\n",
    "    by=1,\n",
    "    tonic='C',\n",
    "    mode='major'\n",
    ").generate(\n",
    "    notes=twinkle,\n",
    "    note_index=6\n",
    ")\n",
    "\n",
    "twinkle = dj.harmony.Ornament(\n",
    "    type='mordent',\n",
    "    trill_rate=0.25,\n",
    "    by=1,\n",
    "    tonic='C',\n",
    "    mode='major'\n",
    ").generate(\n",
    "    notes=twinkle,\n",
    "    note_index=len(twinkle) - 1\n",
    ")\n",
    "\n",
    "dj.score.show(twinkle, title=\"Twinkle, with ornaments\")"
   ]
  },
  {
   "cell_type": "markdown",
   "metadata": {},
   "source": [
    "To avoid an abrupt ending, let's alter the last duration to 4.667, so that the last note of the mordent ends up its measure and lasts another measure."
   ]
  },
  {
   "cell_type": "code",
   "execution_count": 25,
   "metadata": {},
   "outputs": [],
   "source": [
    "twinkle[-1] = (twinkle[-1][0], 4.667, twinkle[-1][2])"
   ]
  },
  {
   "cell_type": "markdown",
   "metadata": {},
   "source": [
    "And let's hear our masterpiece!"
   ]
  },
  {
   "cell_type": "code",
   "execution_count": 26,
   "metadata": {},
   "outputs": [
    {
     "data": {
      "application/vnd.jupyter.widget-view+json": {
       "model_id": "b8d390e9d7c847809c8e97d3fe47fd0f",
       "version_major": 2,
       "version_minor": 1
      },
      "text/plain": [
       "MusicPlayer(tracks=[[(60, 1.0, 0.0), (60, 1.0, 1.0), (67, 1.0, 2.0), (67, 1.0, 3.0), (69, 1.0, 4.0), (69, 1.0,…"
      ]
     },
     "execution_count": 26,
     "metadata": {},
     "output_type": "execute_result"
    }
   ],
   "source": [
    "dj.player.show(twinkle)"
   ]
  },
  {
   "cell_type": "markdown",
   "metadata": {},
   "source": [
    "Another way to hear it is using the (wonderful) SCAMP library. Make sure its installed with `pip install djalgo[musician]`."
   ]
  },
  {
   "cell_type": "code",
   "execution_count": 27,
   "metadata": {},
   "outputs": [
    {
     "name": "stderr",
     "output_type": "stream",
     "text": [
      "WARNING:root:python-rtmidi was not found; streaming midi input / output will not be available.\n",
      "WARNING:root:pynput was not found; mouse and keyboard input will not be available.\n"
     ]
    },
    {
     "name": "stdout",
     "output_type": "stream",
     "text": [
      "Using preset Flute Gold for flute\n"
     ]
    }
   ],
   "source": [
    "import scamp # \n",
    "s = scamp.Session(tempo=120)\n",
    "instrument = s.new_part('flute')\n",
    "for i,n in enumerate(twinkle):\n",
    "    # play either a note or a chord\n",
    "    if isinstance(n[0], list):\n",
    "        instrument.play_chord(n[0], 1, n[1])\n",
    "    else:\n",
    "        instrument.play_note(n[0], 1, n[1])\n",
    "    # the following is not necessary here, it just assures that rests are respected\n",
    "    #if i < (len(twinkle)-1):\n",
    "    #    scamp.wait(twinkle[i+1][2]-(n[1] + n[2]))\n",
    "s.wait_for_children_to_finish() # end the SCAMP session in notebooks"
   ]
  },
  {
   "cell_type": "markdown",
   "metadata": {},
   "source": [
    "Exporting your music to midi depends on the object you have converted your music to. Again, make sure you have them installed (`pip install djalgo[musician]`)."
   ]
  },
  {
   "cell_type": "code",
   "execution_count": 28,
   "metadata": {},
   "outputs": [],
   "source": [
    "dj.conversion.convert(twinkle, to='music21').write('midi', '../_midi-output/twinkle_m21.mid') # with music21\n",
    "dj.conversion.convert(twinkle, to='pretty_midi').write('../_midi-output/twinkle_pm.mid') # with pretty-midi"
   ]
  },
  {
   "cell_type": "markdown",
   "metadata": {
    "editable": true,
    "slideshow": {
     "slide_type": ""
    },
    "tags": []
   },
   "source": [
    "You should now be able to modify a piece, decorate it, and export it. Next step:\n",
    "\n",
    "↳ [Loops](03_loops.html)"
   ]
  }
 ],
 "metadata": {
  "kernelspec": {
   "display_name": "Python 3 (ipykernel)",
   "language": "python",
   "name": "python3"
  },
  "language_info": {
   "codemirror_mode": {
    "name": "ipython",
    "version": 3
   },
   "file_extension": ".py",
   "mimetype": "text/x-python",
   "name": "python",
   "nbconvert_exporter": "python",
   "pygments_lexer": "ipython3",
   "version": "3.11.10"
  }
 },
 "nbformat": 4,
 "nbformat_minor": 4
}
