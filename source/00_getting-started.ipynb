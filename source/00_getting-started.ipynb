{
 "cells": [
  {
   "cell_type": "markdown",
   "metadata": {},
   "source": [
    "# Getting started\n",
    "\n",
    "Djalgo is a Python toolkit for music composition. Crafted for musicians and developers alike, Djalgo offers a versatile collection of tools for generating and manipulating musical notes and sequences. Without relying directly on MIDI files, it employs a MIDI-compatible format, enabling users to define each note through a trio of attributes: pitch (in MIDI notation), duration, and offset. Whether you're scripting a symphony, experimenting with algorithms to create melodies, or exploring the mathematical beauty of music, Djalgo makes the art of digital composition accessible and engaging. The name Djalgo was chosen after musician [Django Reinhardt](https://en.wikipedia.org/wiki/Django_Reinhardt), an a mix of *DJ* (disk jockey) and *algorithm*.\n",
    "\n",
    "To install it, run\n",
    "\n",
    "```{code-block} bash\n",
    "pip install git+https://github.com/essicolo/djalgo.git\n",
    "```\n",
    "\n",
    "Djalgo comes battery excluded. Although optional, the following packages are needed to cover all functionalities in Djalgo.\n",
    "\n",
    "- `pip install jupyterlab` to interact with your code in a notebook\n",
    "- Musecore and `pip install music21` to render scores in the notebook\n",
    "- `pip install pretty-midi` to fine-tune and export your music to midi objects\n",
    "- `pip install tensorflow` to train an AI on your music"
   ]
  },
  {
   "cell_type": "markdown",
   "metadata": {},
   "source": []
  }
 ],
 "metadata": {
  "kernelspec": {
   "display_name": "musicbook",
   "language": "python",
   "name": "musicbook"
  },
  "language_info": {
   "codemirror_mode": {
    "name": "ipython",
    "version": 3
   },
   "file_extension": ".py",
   "mimetype": "text/x-python",
   "name": "python",
   "nbconvert_exporter": "python",
   "pygments_lexer": "ipython3",
   "version": "3.11.7"
  }
 },
 "nbformat": 4,
 "nbformat_minor": 4
}
