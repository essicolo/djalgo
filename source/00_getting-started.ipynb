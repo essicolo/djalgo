{
 "cells": [
  {
   "cell_type": "markdown",
   "metadata": {},
   "source": [
    "# Getting started\n",
    "\n",
    "To install Djalgo, run\n",
    "\n",
    "```{code-block} bash\n",
    "pip install git+https://github.com/essicolo/djalgo.git\n",
    "```\n",
    "\n",
    "Djalgo comes battery excluded. Although optional, the following packages are needed to cover all functionalities in Djalgo.\n",
    "\n",
    "- `pip install jupyterlab` to interact with your code in a notebook\n",
    "- Musecore and `pip install music21` to render scores in the notebook\n",
    "- `pip install pretty-midi` to fine-tune and export your music to midi objects\n",
    "- `pip install tensorflow` to train an AI on your music\n",
    "\n",
    "More to come..."
   ]
  },
  {
   "cell_type": "markdown",
   "metadata": {},
   "source": []
  }
 ],
 "metadata": {
  "kernelspec": {
   "display_name": "musicbook",
   "language": "python",
   "name": "musicbook"
  },
  "language_info": {
   "codemirror_mode": {
    "name": "ipython",
    "version": 3
   },
   "file_extension": ".py",
   "mimetype": "text/x-python",
   "name": "python",
   "nbconvert_exporter": "python",
   "pygments_lexer": "ipython3",
   "version": "3.11.7"
  }
 },
 "nbformat": 4,
 "nbformat_minor": 4
}
