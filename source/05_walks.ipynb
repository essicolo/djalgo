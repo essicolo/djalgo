{
 "cells": [
  {
   "cell_type": "markdown",
   "metadata": {},
   "source": [
    "# Take a Walk on the Py side\n",
    "\n",
    "Random and kernel walks represent fascinating techniques that have found applications in various fields, including music composition. Such stochastic processes allow for the generation of sequences where each step is a consequence of the previous step, creating coherent yet unpredictable progressions. Such methods have been embraced by composers and sound artists to wander through new territories of algorithmic and generative music, where the unpredictability and structure of these mathematical models can lead to innovative musical expressions. **Iannis Xenakis** is perhaps one of the most renowned composers to integrate stochastic processes, including random walks, into his compositions. Xenakis, a Greek-French composer and architect, utilized mathematical models to compose music that explores the interplay between order and randomness. Works like [Mikka](https://www.youtube.com/watch?v=Ifxs3TBSSAs) and [Epeï](https://www.youtube.com/watch?v=8ZP3TbLtfq4) are seminal examples where stochastic methods contribute to the structural foundation of the music. **Karlheinz Stockhausen** and his work with controlled randomness and serial techniques also touch upon concepts akin to random walks. His compositions, such as [Klavierstück XI](https://www.youtube.com/watch?v=mMDdihXI98A), employ a form of controlled chance that dictates the sequence of musical events, offering a multitude of possible paths through the piece.\n",
    "\n",
    "The application of random walks and kernel walks in music composition involves generating sequences of musical elements, usually pitches and sequences, where each element is selected based on a combination of random choice and a set of rules or conditions influenced by previous elements. This approach allows composers to explore new forms of musical structure and texture, creating pieces that can vary greatly with each performance or realization while maintaining an underlying coherence."
   ]
  },
  {
   "cell_type": "markdown",
   "metadata": {},
   "source": [
    "## Random walks\n",
    "\n",
    "A random walk is a mathematical process where each step is a random choice relative to the one preceeding it. Mathematician call them Markov chains, named after mathematician Andrey Markov. The random choice can be as simple as a coin flip: if it goes tail, you take a diagional step left. Heads, a diagonal step on right. Repeat the process over and over and you obtain a random walk. On average, you should walk ahead, but in fact, you'll probably derive from a straight path. The concept of randomness was introduced in [Minimalism](04_minimalism.html), but we didn't really dig in its meaning. \n",
    "\n",
    "### Understanding randomness\n",
    "\n",
    "A mathematical function using a probability distribution is named a *stochastic* function. The concept of randomness is often misunderstood. It's not about everything being possible without constraints. When we talk about selecting a random number, the process is not as open-ended as it might seem. When you flip a coin, its either heads or tails (or, rarely, the edge...). \n",
    "\n",
    "Randomness is structured by probability distributions, a collection of mathematical functions structuring randonmess and approximate processes underlying a reality too complex to be perfectly predictable. The coin toss is a binomial distribution: it's either true or false. Another familiar example is the Normal distribution, known for its bell-shaped curve. When we sample from this distribution, values near the mean (center of the curve) are more likely to occur than those far from it, say, more than 4 units away or less than -4 units from the mean. The Normal distribution is characterized by two parameters: the mean, which locates the center of the curve, and the standard deviation, which determines the width of the curve. The height of a population can have a mean and a standard deviation.\n",
    "\n",
    "There are numerous probability distributions, catering to different types of data. Continuous values, for instance, are often modeled using the Normal distribution, but also uniform distributions, where the likelihood of selecting any number within a specified range is exactly the same. This means that every number has an equal chance of being chosen, ensuring a flat distribution of probabilities across the entire range. Discrete data, such as categorical outcomes in music genres, can be represented by the multinomial distribution, which is described by a set of probabilities summing to 1. The Poisson distribution produces integer, useful for counting occurrences. Mathematicians have been working on probability distributions for centuries, and are still creating new ones, and exploring facinating properties of existing ones.\n",
    "\n",
    "Understanding these distributions helps in contextualizing randomness, especially in creative domains like music, where generating random rhythms involves selecting from a defined range of possibilities according to a specific probability distribution. This structured approach to randomness allows for the generation of diverse and interesting rhythmic patterns within a coherent framework."
   ]
  },
  {
   "cell_type": "code",
   "execution_count": 1,
   "metadata": {
    "tags": [
     "\"hide-input\""
    ]
   },
   "outputs": [],
   "source": [
    "import plotly.subplots as sp\n",
    "import plotly.graph_objects as go\n",
    "import numpy as np\n",
    "import scipy\n",
    "\n",
    "# Normal distribution\n",
    "x_norm = np.linspace(-4, 4, 100)\n",
    "y_norm = scipy.stats.norm.pdf(x_norm, 0, 1)  # normal distribution with 0 mean and 1 standard deviation\n",
    "\n",
    "# Uniform distribution\n",
    "x_unif = np.linspace(-4, 4, 100)\n",
    "y_unif = scipy.stats.uniform.pdf(x_unif, -1, 2) # uniform distribution from -1, spanning 2\n",
    "\n",
    "# Multinomial distribution\n",
    "n = 10\n",
    "categories = ['Folk', 'Classic', 'Punk rock', 'Jazz']\n",
    "p = [0.15, 0.30, 0.10, 0.45]\n",
    "\n",
    "# Poisson distribution\n",
    "mu = 3\n",
    "y_poisson = scipy.stats.poisson.pmf(np.arange(10), mu)  # distribution de Poisson\n",
    "\n",
    "# Figure\n",
    "fig = sp.make_subplots(rows=1, cols=4)\n",
    "fig.add_trace(go.Scatter(x=x_norm, y=y_norm, mode='lines'), row=1, col=1)\n",
    "fig.update_xaxes(title_text=\"Normal distribution\", row=1, col=1)\n",
    "fig.add_trace(go.Scatter(x=x_unif, y=y_unif, mode='lines'), row=1, col=2)\n",
    "fig.update_xaxes(title_text=\"Uniform distribution\", row=1, col=2)\n",
    "fig.add_trace(go.Bar(x=categories, y=p), row=1, col=3)\n",
    "fig.update_xaxes(title_text=\"Multinomial distribution\", row=1, col=3)\n",
    "fig.add_trace(go.Bar(x=np.arange(10), y=y_poisson), row=1, col=4)\n",
    "fig.update_xaxes(title_text=\"Poisson distribution\", row=1, col=4)\n",
    "fig.update_layout(showlegend=False, template='none')\n",
    "\n",
    "fig.write_image(\"_images/probability-distributions.png\")\n"
   ]
  },
  {
   "cell_type": "markdown",
   "metadata": {},
   "source": [
    "<img src=\"_images/probability-distributions.png\" alt=\"probability distributions\" />"
   ]
  },
  {
   "cell_type": "markdown",
   "metadata": {},
   "source": [
    "### Logic of the random walk\n",
    "\n",
    "Random walks are available in Djalgo in file `walk.py`. From there, there are two options to generate walks. The first one, `Chain`, is a classic random walk, and the second, `Kernel`, is Gaussian processes generator, which will be discussed later in this section.\n",
    "\n",
    "The random walk generator takes several of arguments. The `walk_range` argument takes a list of the minimum and maximum numbers to confine the walk (to create a *bounded* random walk). For instance, if you aim at restraining the walk between -10 and 10, you would enter `walk_range=[-10, 10]`. The `walk_probability` can take a list of numbers, for instance `[-1, 0, 1]` if you aim at generating steps of -1, 0 and 1. It can also take a [Scipy probability distribution](https://docs.scipy.org/doc/scipy/reference/stats.html) function, for instance `scipy.stats.norm(loc=0, scale=1)`, where `loc` and `scale` are the mean and the standard deviation. The `length` argument specifies the number of steps. The `round_to` argument, with default `None`, rounds stepping to a given decimal.\n",
    "\n",
    "Djalgo has the hability to randomly branch a walk. When a walk is branched, a new walk is created and wanders on it own. The probability to branch is specified from 0 to 1 in the `branching_probability` argument. Conversely, `merging_probability` is the probability to merge random walks when they collide. If `round_to` is not triggered on, there is virtually no chance that branches collide."
   ]
  },
  {
   "cell_type": "markdown",
   "metadata": {},
   "source": [
    "### Example\n",
    "\n"
   ]
  },
  {
   "cell_type": "markdown",
   "metadata": {},
   "source": [
    "I'd like to generate a random walk through pitches from `C2` to `C8`, starting at `C4`. MIDI pitch numbers can be recovered using Djalgo's abc_to_midi utility function."
   ]
  },
  {
   "cell_type": "code",
   "execution_count": 2,
   "metadata": {},
   "outputs": [
    {
     "name": "stdout",
     "output_type": "stream",
     "text": [
      "C2: 36\n",
      "C4: 60\n",
      "C8: 108\n"
     ]
    }
   ],
   "source": [
    "import djalgo as dj\n",
    "print('C2:', dj.utils.abc_to_midi('C2'))\n",
    "print('C4:', dj.utils.abc_to_midi('C4'))\n",
    "print('C8:', dj.utils.abc_to_midi('C8'))"
   ]
  },
  {
   "cell_type": "markdown",
   "metadata": {},
   "source": [
    "The random walk will be conducted between numbers 36 to 108 through 20 steps, starting at 60. Through the walk, each step will branch with a probability of 0.1 and when branches goes to the same pitch, they will merge with a probability of 0.9."
   ]
  },
  {
   "cell_type": "code",
   "execution_count": 3,
   "metadata": {},
   "outputs": [
    {
     "data": {
      "text/plain": [
       "<djalgo.walk.Chain at 0x128784110>"
      ]
     },
     "execution_count": 3,
     "metadata": {},
     "output_type": "execute_result"
    }
   ],
   "source": [
    "rw = dj.walk.Chain(\n",
    "    walk_range=[36, 108], walk_start=60, walk_probability=scipy.stats.norm(loc=0, scale=2),\n",
    "    length=20, round_to = 0, branching_probability=0.1, merging_probability=0.9\n",
    ")\n",
    "rw"
   ]
  },
  {
   "cell_type": "markdown",
   "metadata": {},
   "source": [
    "The `rw` is a random walk object, which can be used to generate many random walks, although only one will be generated in this example."
   ]
  },
  {
   "cell_type": "code",
   "execution_count": 4,
   "metadata": {},
   "outputs": [
    {
     "data": {
      "text/plain": [
       "9"
      ]
     },
     "execution_count": 4,
     "metadata": {},
     "output_type": "execute_result"
    }
   ],
   "source": [
    "rw_sequences = rw.generate(seed=6)\n",
    "len(rw_sequences)"
   ]
  },
  {
   "cell_type": "markdown",
   "metadata": {},
   "source": [
    "`rw_sequences` contains 5 branches. If you examine the object, you will see lists begining with `None` values, which are generated when a new branch is created to make sure all branches are generated with the same length. At each step, if branching returns `True` with probability `branching_probability`, a new list is created, and the random walk becomes a list of lists, and all values of the new list happening before the branch are set to `None`. Each branch then has its own random walk, and can branch out. If two or more branch collide to the same values, and if merging if `True` according to probability `merging_probability`, lists are closed with `None` values to the following notes, except the branch with the lower index, on which the other branches are merged. The merged branch continues the random walk, and can branch again."
   ]
  },
  {
   "cell_type": "code",
   "execution_count": 5,
   "metadata": {},
   "outputs": [],
   "source": [
    "import plotly.graph_objects as go\n",
    "fig = go.Figure()\n",
    "for i, seq in enumerate(rw_sequences):\n",
    "    fig.add_trace(go.Scatter(\n",
    "        x=[i for i, val in enumerate(seq) if val is not None],\n",
    "        y=[val for val in seq if val is not None],\n",
    "        mode='lines'\n",
    "    ))\n",
    "fig.update_layout(showlegend=False)\n",
    "fig.write_image(\"_images/chain-walk-example.png\")"
   ]
  },
  {
   "cell_type": "markdown",
   "metadata": {},
   "source": [
    "<img src=\"_images/chain-walk-example.png\" alt=\"plot of the result of the chain-walk example\">"
   ]
  },
  {
   "cell_type": "markdown",
   "metadata": {},
   "source": [
    "We can map pitches to durations by creating a rhythm for each track."
   ]
  },
  {
   "cell_type": "code",
   "execution_count": 7,
   "metadata": {},
   "outputs": [
    {
     "data": {
      "text/html": [
       "\n",
       "        <div id=\"midiPlayerDiv10922\"></div>\n",
       "        <link rel=\"stylesheet\" href=\"https://cuthbertLab.github.io/music21j/css/m21.css\">\n",
       "        \n",
       "        <script\n",
       "        src=\"https://cdnjs.cloudflare.com/ajax/libs/require.js/2.3.6/require.min.js\"\n",
       "        ></script>\n",
       "    \n",
       "        <script>\n",
       "        function midiPlayerDiv10922_play() {\n",
       "            const rq = require.config({\n",
       "                paths: {\n",
       "                    'music21': 'https://cuthbertLab.github.io/music21j/releases/music21.debug',\n",
       "                }\n",
       "            });\n",
       "            rq(['music21'], function(music21) {\n",
       "                mp = new music21.miditools.MidiPlayer();\n",
       "                mp.addPlayer(\"#midiPlayerDiv10922\");\n",
       "                mp.base64Load(\"data:audio/midi;base64,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\");\n",
       "            });\n",
       "        }\n",
       "        if (typeof require === 'undefined') {\n",
       "            setTimeout(midiPlayerDiv10922_play, 2000);\n",
       "        } else {\n",
       "            midiPlayerDiv10922_play();\n",
       "        }\n",
       "        </script>"
      ],
      "text/plain": [
       "<IPython.core.display.HTML object>"
      ]
     },
     "metadata": {},
     "output_type": "display_data"
    }
   ],
   "source": [
    "index_quarter_length = 1.0  # Length of a quarter note in the random walk index\n",
    "measure_length = 4  # Duration of each measure\n",
    "rw_notes = []\n",
    "rhythm_durations = [ # the same number of sets as len(rw_sequences)\n",
    "    [0.125, 0.25, 0.5, 1, 2],\n",
    "    [1, 2],\n",
    "    [1, 2],\n",
    "    [1, 1, 2],\n",
    "    [0.5, 1, 2],\n",
    "    [0.5, 1],\n",
    "    [0.5, 0.5, 1],\n",
    "    [0.25, 0.5, 1, 2],\n",
    "    [0.125, 0.25, 0.5, 1, 2]\n",
    "]\n",
    "for seq, random_dur in zip(rw_sequences, rhythm_durations): # zip to the shortest length\n",
    "    rhythm = dj.rhythm.Rhythm(measure_length=measure_length, durations=random_dur).random(seed=6)\n",
    "    dur = [r[0] for r in rhythm]\n",
    "    iso = dj.rhythm.isorhythm(pitches=seq, durations=dur)\n",
    "    rw_notes.append(iso)\n",
    "dj.conversion.to_music21(rw_notes).show('midi')"
   ]
  },
  {
   "cell_type": "markdown",
   "metadata": {},
   "source": [
    "The result is on the chromatic scale. To provide a little structure to a walk, we can wander through indexes of a scale list rather that on notes."
   ]
  },
  {
   "cell_type": "code",
   "execution_count": 60,
   "metadata": {},
   "outputs": [],
   "source": [
    "g_major = dj.harmony.Scale('G', 'major').generate()[39:53]\n",
    "# [dj.utils.midi_to_abc(p) for p in g_major] # used to adjust the range fro 39 to 53\n",
    "rw_index = dj.walk.Chain(\n",
    "    walk_range=[0, len(g_major)-1], walk_start=7, walk_probability=scipy.stats.norm(loc=0, scale=2),\n",
    "    length=20, round_to = 0, branching_probability=0.1, merging_probability=0.9\n",
    ").generate(seed=1)"
   ]
  },
  {
   "cell_type": "markdown",
   "metadata": {},
   "source": []
  },
  {
   "cell_type": "code",
   "execution_count": 63,
   "metadata": {},
   "outputs": [
    {
     "data": {
      "text/html": [
       "\n",
       "        <div id=\"midiPlayerDiv28113\"></div>\n",
       "        <link rel=\"stylesheet\" href=\"https://cuthbertLab.github.io/music21j/css/m21.css\">\n",
       "        \n",
       "        <script\n",
       "        src=\"https://cdnjs.cloudflare.com/ajax/libs/require.js/2.3.6/require.min.js\"\n",
       "        ></script>\n",
       "    \n",
       "        <script>\n",
       "        function midiPlayerDiv28113_play() {\n",
       "            const rq = require.config({\n",
       "                paths: {\n",
       "                    'music21': 'https://cuthbertLab.github.io/music21j/releases/music21.debug',\n",
       "                }\n",
       "            });\n",
       "            rq(['music21'], function(music21) {\n",
       "                mp = new music21.miditools.MidiPlayer();\n",
       "                mp.addPlayer(\"#midiPlayerDiv28113\");\n",
       "                mp.base64Load(\"data:audio/midi;base64,TVRoZAAAAAYAAQAIJ2BNVHJrAAAAFAD/UQMHoSAA/1gEBAIYCM5g/y8ATVRyawAAAMIA/wMAAOAAQM5gkE9apzCATwAAkFRapzCAVAAAkFNazmCAUwAAkFFazmCAUQAAkE5apzCATgAAkFFapzCAUQAAkEhazmCASAAAkEVazmCARQAAkEVapzCARQAAkENapzCAQwAAkENazmCAQwAAkEVazmCARQAAkEhapzCASAAAkEdapzCARwAAkEhazmCASAAAkEdazmCARwAAkEdapzCARwAAkExapzCATAAAkEhazmCASAAAkEdazmCARwDOYP8vAE1UcmsAAAIqAP8DAADgAEDOYJBRWqcwgFEAAJBWWqcwgFYAAJBYWs5ggFgAAJBaWs5ggFoAAJBYWqcwgFgAAJBYWqcwgFgAAJBUWs5ggFQAAJBWWs5ggFYAAJBWWqcwgFYAAJBUWqcwgFQAAJBRWs5ggFEAAJBOWs5ggE4AAJBPWqcwgE8AAJBOWqcwgE4AAJBOWs5ggE4AAJBRWs5ggFEAAJBWWqcwgFYAAJBYWqcwgFgAAJBaWs5ggFoAAJBYWs5ggFgAAJBYWqcwgFgAAJBUWqcwgFQAAJBWWs5ggFYAAJBWWs5ggFYAAJBUWqcwgFQAAJBRWqcwgFEAAJBOWs5ggE4AAJBPWs5ggE8AAJBOWqcwgE4AAJBOWqcwgE4AAJBRWs5ggFEAAJBWWs5ggFYAAJBYWqcwgFgAAJBaWqcwgFoAAJBYWs5ggFgAAJBYWs5ggFgAAJBUWqcwgFQAAJBWWqcwgFYAAJBWWs5ggFYAAJBUWs5ggFQAAJBRWqcwgFEAAJBOWqcwgE4AAJBPWs5ggE8AAJBOWs5ggE4AAJBOWqcwgE4AAJBRWqcwgFEAAJBWWs5ggFYAAJBYWs5ggFgAAJBaWqcwgFoAAJBYWqcwgFgAAJBYWs5ggFgAAJBUWs5ggFQAAJBWWqcwgFYAAJBWWqcwgFYAAJBUWs5ggFQAAJBRWs5ggFEAAJBOWqcwgE4AAJBPWqcwgE8AAJBOWs5ggE4AAJBOWs5ggE4AzmD/LwBNVHJrAAAAMgD/AwAA4ABAzmCQRVqnMIBFAACQQ1qnMIBDAACQR1rOYIBHAACQQ1rOYIBDAM5g/y8ATVRyawAAADIA/wMAAOAAQM5gkENapzCAQwAAkENapzCAQwAAkENazmCAQwAAkENazmCAQwDOYP8vAE1UcmsAAAAyAP8DAADgAEDOYJBDWqcwgEMAAJBHWqcwgEcAAJBKWs5ggEoAAJBHWs5ggEcAzmD/LwBNVHJrAAAAVgD/AwAA4ABAzmCQSlqnMIBKAACQSFqnMIBIAACQR1rOYIBHAACQRVrOYIBFAACQRVqnMIBFAACQRVqnMIBFAACQSlrOYIBKAACQUVrOYIBRAM5g/y8ATVRyawAAAHoA/wMAAOAAQM5gkEVapzCARQAAkEVapzCARQAAkEVazmCARQAAkEVazmCARQAAkEVapzCARQAAkEVapzCARQAAkEVazmCARQAAkEVazmCARQAAkEVapzCARQAAkEVapzCARQAAkEVazmCARQAAkEVazmCARQDOYP8vAA==\");\n",
       "            });\n",
       "        }\n",
       "        if (typeof require === 'undefined') {\n",
       "            setTimeout(midiPlayerDiv28113_play, 2000);\n",
       "        } else {\n",
       "            midiPlayerDiv28113_play();\n",
       "        }\n",
       "        </script>"
      ],
      "text/plain": [
       "<IPython.core.display.HTML object>"
      ]
     },
     "metadata": {},
     "output_type": "display_data"
    }
   ],
   "source": [
    "measure_length = 3\n",
    "rw_notes_tuned = []\n",
    "for seq in rw_index:\n",
    "    rhythm = dj.rhythm.Rhythm(measure_length=measure_length, durations=[0.5, 1, 2]).random(seed=1)\n",
    "    d = [r[0] for r in rhythm]\n",
    "    p = [g_major[int(index)] for index in seq if index is not None]\n",
    "    iso = dj.rhythm.isorhythm(\n",
    "        pitches=p,\n",
    "        durations=d\n",
    "    )\n",
    "    rw_notes_tuned.append(iso)\n",
    "dj.conversion.to_music21(rw_notes_tuned).show('midi')"
   ]
  },
  {
   "attachments": {},
   "cell_type": "markdown",
   "metadata": {},
   "source": [
    "## Gaussian processes\n",
    "\n",
    "A normal distribution is a mathematically elegant way of describing the average and variance (diversity) among a population. We can have as many normal distributions as the amount of variables describing a population, for example age, height and weight of people in Canada. When we think that our variables are linked one another, like height, weight and age, we can stack normal distributions together in a single multivariate normal distribution. Such distribution is described by a vector of 3 means and a 3×3 covariance matrix, a squared matrix with variances on the diagonal and pairwise covariances between variables elsewhere, describing the strength of the link between variables. There is no limit on the amount of variables in the multivariate normal. For example, day after day, you measure air temperature hourly, at 7:00, 8:00, 9:00, etc. You will have one normal distribution of temperature on Mondays, one on Tuesdays, etc. Since the temperature at hours closed to each other are likely correlated, you might use a multivariate normal. And because the correlation between temperatures will slowly vanish for distant measurements, you could use a function to describe the correlation. Such function will reveal to be useful if you narrow the time steps. For instance, if you record the temperature at each second, you will have a large amount of variables, thus a long mean vector and an extended covariance matrix. To go even further, since time is continuous, our multivariate normal will contain an infinity of dimensions. A multivariate normal distribution with infinite number of dimensions is called a Gaussian process.\n",
    "\n",
    "To allow infinite dimensions, and compute probabilities at any dimension, the mean vector and the covariance matrix must be described by functions. The mean function is usually ruled out of the equation since it can be dealt offsetting the outcome by setting it to constant zero. A Gaussian musical signal can be a wave generating numbers to add to 60, the midi number representing the center C on the keyboard of a piano. This is why Gaussian processes are mostly described by the covariance function, also called the *kernel*. Samples from a normal or a multivariate normal distribution are points. Samples from a Gaussian process, because they are continuous, are functions.\n",
    "\n",
    "These functions can be used just as we used random walks. So why bothering with abstract mathematical concepts if you could just use a random walk function? Because Gaussian processes carry very interesting properties. You might indeed have heard of Gaussian processes as a machine learning method. They are indeed. This means that they can be fitted to data.\n",
    "\n",
    "In this section, I will introduce you to the use of unfitted and fitted Gaussian processes to generate music."
   ]
  },
  {
   "attachments": {},
   "cell_type": "markdown",
   "metadata": {},
   "source": [
    "### Music from unfitted Gaussian processes\n",
    "\n",
    "Unfitted Gaussian processes are only described by their kernel. Random samples from a kernel will create a pattern for music to follow. As any translational music practice, many music attributes can be generated. However, I will keep my focus on notes."
   ]
  },
  {
   "cell_type": "markdown",
   "metadata": {},
   "source": [
    "In the following code block, the `RBF` class creates the covariance function, as known as the kernel, with two properties. The `length_scale` parameter describes the inertia of the covariance. Larger lengths create longer waves. The multiplier of the kernel, often refered as $\\alpha$ in textbooks, describes the amplitude of the wave. The `GaussianProcessRegressor` class is instanciated for a realisation of the `RBF` kernel. The outcome is a plot showing the effect of the length and $\\alpha$."
   ]
  },
  {
   "cell_type": "code",
   "execution_count": null,
   "metadata": {},
   "outputs": [
    {
     "data": {
      "application/vnd.plotly.v1+json": {
       "config": {
        "plotlyServerURL": "https://plot.ly"
       },
       "data": [
        {
         "hovertemplate": "length=0.1<br>alpha=1.0<br>x=%{x}<br>y=%{y}<extra></extra>",
         "legendgroup": "",
         "line": {
          "color": "#636efa",
          "dash": "solid"
         },
         "marker": {
          "symbol": "circle"
         },
         "mode": "lines",
         "name": "",
         "showlegend": false,
         "type": "scattergl",
         "x": [
          0,
          0.05025125628140704,
          0.10050251256281408,
          0.15075376884422112,
          0.20100502512562815,
          0.2512562814070352,
          0.30150753768844224,
          0.35175879396984927,
          0.4020100502512563,
          0.45226130653266333,
          0.5025125628140704,
          0.5527638190954774,
          0.6030150753768845,
          0.6532663316582915,
          0.7035175879396985,
          0.7537688442211056,
          0.8040201005025126,
          0.8542713567839196,
          0.9045226130653267,
          0.9547738693467337,
          1.0050251256281408,
          1.0552763819095479,
          1.105527638190955,
          1.155778894472362,
          1.206030150753769,
          1.256281407035176,
          1.306532663316583,
          1.35678391959799,
          1.407035175879397,
          1.4572864321608041,
          1.5075376884422111,
          1.5577889447236182,
          1.6080402010050252,
          1.6582914572864322,
          1.7085427135678393,
          1.7587939698492463,
          1.8090452261306533,
          1.8592964824120604,
          1.9095477386934674,
          1.9597989949748744,
          2.0100502512562817,
          2.0603015075376887,
          2.1105527638190957,
          2.1608040201005028,
          2.21105527638191,
          2.261306532663317,
          2.311557788944724,
          2.361809045226131,
          2.412060301507538,
          2.462311557788945,
          2.512562814070352,
          2.562814070351759,
          2.613065326633166,
          2.663316582914573,
          2.71356783919598,
          2.763819095477387,
          2.814070351758794,
          2.864321608040201,
          2.9145728643216082,
          2.9648241206030153,
          3.0150753768844223,
          3.0653266331658293,
          3.1155778894472363,
          3.1658291457286434,
          3.2160804020100504,
          3.2663316582914574,
          3.3165829145728645,
          3.3668341708542715,
          3.4170854271356785,
          3.4673366834170856,
          3.5175879396984926,
          3.5678391959798996,
          3.6180904522613067,
          3.6683417085427137,
          3.7185929648241207,
          3.7688442211055277,
          3.819095477386935,
          3.869346733668342,
          3.919597989949749,
          3.969849246231156,
          4.020100502512563,
          4.07035175879397,
          4.120603015075377,
          4.170854271356784,
          4.2211055276381915,
          4.2713567839195985,
          4.3216080402010055,
          4.371859296482413,
          4.42211055276382,
          4.472361809045227,
          4.522613065326634,
          4.572864321608041,
          4.623115577889448,
          4.673366834170855,
          4.723618090452262,
          4.773869346733669,
          4.824120603015076,
          4.874371859296483,
          4.92462311557789,
          4.974874371859297,
          5.025125628140704,
          5.075376884422111,
          5.125628140703518,
          5.175879396984925,
          5.226130653266332,
          5.276381909547739,
          5.326633165829146,
          5.376884422110553,
          5.42713567839196,
          5.477386934673367,
          5.527638190954774,
          5.577889447236181,
          5.628140703517588,
          5.678391959798995,
          5.728643216080402,
          5.778894472361809,
          5.8291457286432165,
          5.8793969849246235,
          5.9296482412060305,
          5.9798994974874375,
          6.030150753768845,
          6.080402010050252,
          6.130653266331659,
          6.180904522613066,
          6.231155778894473,
          6.28140703517588,
          6.331658291457287,
          6.381909547738694,
          6.432160804020101,
          6.482412060301508,
          6.532663316582915,
          6.582914572864322,
          6.633165829145729,
          6.683417085427136,
          6.733668341708543,
          6.78391959798995,
          6.834170854271357,
          6.884422110552764,
          6.934673366834171,
          6.984924623115578,
          7.035175879396985,
          7.085427135678392,
          7.135678391959799,
          7.185929648241206,
          7.236180904522613,
          7.28643216080402,
          7.336683417085427,
          7.386934673366834,
          7.437185929648241,
          7.4874371859296485,
          7.5376884422110555,
          7.5879396984924625,
          7.63819095477387,
          7.688442211055277,
          7.738693467336684,
          7.788944723618091,
          7.839195979899498,
          7.889447236180905,
          7.939698492462312,
          7.989949748743719,
          8.040201005025127,
          8.090452261306533,
          8.14070351758794,
          8.190954773869347,
          8.241206030150755,
          8.291457286432161,
          8.341708542713569,
          8.391959798994975,
          8.442211055276383,
          8.492462311557789,
          8.542713567839197,
          8.592964824120603,
          8.643216080402011,
          8.693467336683417,
          8.743718592964825,
          8.793969849246231,
          8.84422110552764,
          8.894472361809045,
          8.944723618090453,
          8.99497487437186,
          9.045226130653267,
          9.095477386934673,
          9.145728643216081,
          9.195979899497488,
          9.246231155778895,
          9.296482412060302,
          9.34673366834171,
          9.396984924623116,
          9.447236180904524,
          9.49748743718593,
          9.547738693467338,
          9.597989949748744,
          9.648241206030152,
          9.698492462311558,
          9.748743718592966,
          9.798994974874372,
          9.84924623115578,
          9.899497487437186,
          9.949748743718594,
          10
         ],
         "xaxis": "x7",
         "y": [
          -3.453860396130345,
          -3.211124064185523,
          -2.4472955596182113,
          -1.4264850932586306,
          -0.25211797764593274,
          0.8271725085970012,
          1.5109913245268265,
          1.822237254660513,
          1.8835537113280065,
          1.7194505434254097,
          1.4382740809693917,
          1.1917537527504147,
          0.952309632015235,
          0.6900302253787474,
          0.4575849014055441,
          0.10403029591537466,
          -0.5267756949126032,
          -0.9929342038584444,
          -0.860443623354358,
          -0.5427799168697836,
          -0.41375834702303194,
          -0.12948491195261375,
          0.5123181829708493,
          1.0313286194980162,
          1.09019736414547,
          1.113659459800288,
          1.443218246888351,
          1.638603679095402,
          1.3812494859711928,
          0.9872204975602719,
          0.6987136136893572,
          0.6090966597737356,
          0.8299018233727922,
          0.9725440419479121,
          0.34455747573633644,
          -0.8857219962103869,
          -1.6914456371585174,
          -1.676749897103081,
          -1.4442896619680623,
          -1.3272196386976047,
          -1.010361777170995,
          -0.5193494095768169,
          -0.30567338540246847,
          -0.4215941058445562,
          -0.5433057477695208,
          -0.42766440140502104,
          -0.2432283380799423,
          -0.36611519694718264,
          -0.5484874487497501,
          -0.33260427497665784,
          0.1824484859928822,
          0.6493929225553249,
          0.7214002119311334,
          0.2794367166218919,
          -0.30678330756821437,
          -0.6384163631062534,
          -0.6735368875485308,
          -0.4734969262845046,
          -0.15018779906567767,
          0.15551601307445218,
          0.49238627067242713,
          0.8336444459592209,
          0.9755279988061084,
          0.7807060764922714,
          0.29072092703564517,
          -0.13621892055894785,
          -0.17939765048787856,
          0.05590613584760552,
          0.43248922984955307,
          1.0778025335046997,
          1.9948537343752444,
          2.557758226034108,
          2.069079393020302,
          0.8535911899625604,
          -0.14727372918572681,
          -0.42454675855182195,
          0.029690184821375164,
          0.8883679103804618,
          1.5746367292688994,
          1.7268631215277217,
          1.5196019174272664,
          1.1334222383538226,
          0.3716027575668996,
          -0.6292526665062954,
          -1.1599560282968582,
          -0.7612503423760765,
          0.2784935033164569,
          1.1992440608241342,
          1.6484149098786998,
          1.9099313440332204,
          2.171855956575354,
          2.340576548157776,
          2.3121242616546875,
          1.9189155757067349,
          1.0890191393719055,
          0.25041975859356264,
          -0.18961209794401643,
          -0.5576364205163027,
          -1.0523897526507313,
          -1.0755572815492063,
          -0.46277604397764055,
          0.11106147180425371,
          0.4284092591381377,
          0.9202862001351966,
          1.6076735967080558,
          1.8792452256009466,
          1.2301389966546648,
          -0.05539441070429363,
          -0.9494136150065501,
          -0.808000141717976,
          -0.19949549582773743,
          -0.04426877999869685,
          -0.39842278068454373,
          -0.8244100864089938,
          -1.2142486308669167,
          -1.3515218872891694,
          -0.9086722771918957,
          -0.22167186049290785,
          0.09375773804043781,
          0.017810068595763017,
          0.019267895374546064,
          0.19247266990668113,
          0.24069244117264407,
          0.2472582078438127,
          0.37380764096497354,
          0.35277373075761287,
          0.16573631869067865,
          0.32349509155331035,
          0.8933833988390973,
          1.152050671037515,
          0.48649619618273654,
          -0.6698332274030655,
          -1.2244411674582811,
          -0.9762174938028056,
          -0.6981767989893274,
          -0.791032649229627,
          -0.9509735467352227,
          -0.7787712047366787,
          -0.3996776105198251,
          -0.29122291599304023,
          -0.4814674069672784,
          -0.638703265421233,
          -0.645535759292686,
          -0.5451950241416804,
          -0.32202330158365117,
          0.11166971679541474,
          0.6782572080111259,
          1.06445469491324,
          1.1201540462068091,
          0.9841316001391808,
          0.7423577859749143,
          0.4749534525464093,
          0.3919081848125237,
          0.43127964563229043,
          0.36129209774012727,
          0.2404379859170381,
          0.11562080722860156,
          -0.1309532638933375,
          -0.25120751582047246,
          0.21180209000657274,
          1.14484090324913,
          1.8057302273064333,
          1.689606998773227,
          1.125881330450129,
          0.8132190236750984,
          1.0915619286618037,
          1.710784024575638,
          2.048694081535278,
          1.8589689572052672,
          1.5910858231177871,
          1.6566045141835521,
          1.8491373694072242,
          1.6574230784401864,
          1.1190537180652056,
          0.6318510652400016,
          0.24957525747746515,
          -0.09720876513673121,
          -0.32375020691563233,
          -0.33820410466035367,
          -0.2289320659075167,
          -0.06987157551544759,
          0.3189410067547545,
          0.7933181164923767,
          0.8556869392802422,
          0.7816180758171498,
          1.273363257247848,
          2.0005419840354595,
          2.1695339404778453,
          1.9679386879547076,
          1.9799566999862417,
          2.0259896465756766,
          1.6718425678634743,
          1.1008200306509426,
          0.7269430897704641,
          0.5403546081948004,
          0.3421418244480031,
          0.2306081241776512,
          0.5424052833085634,
          1.2106955355964706,
          1.5297859277712145
         ],
         "yaxis": "y7"
        },
        {
         "hovertemplate": "length=0.1<br>alpha=5.0<br>x=%{x}<br>y=%{y}<extra></extra>",
         "legendgroup": "",
         "line": {
          "color": "#636efa",
          "dash": "solid"
         },
         "marker": {
          "symbol": "circle"
         },
         "mode": "lines",
         "name": "",
         "showlegend": false,
         "type": "scattergl",
         "x": [
          0,
          0.05025125628140704,
          0.10050251256281408,
          0.15075376884422112,
          0.20100502512562815,
          0.2512562814070352,
          0.30150753768844224,
          0.35175879396984927,
          0.4020100502512563,
          0.45226130653266333,
          0.5025125628140704,
          0.5527638190954774,
          0.6030150753768845,
          0.6532663316582915,
          0.7035175879396985,
          0.7537688442211056,
          0.8040201005025126,
          0.8542713567839196,
          0.9045226130653267,
          0.9547738693467337,
          1.0050251256281408,
          1.0552763819095479,
          1.105527638190955,
          1.155778894472362,
          1.206030150753769,
          1.256281407035176,
          1.306532663316583,
          1.35678391959799,
          1.407035175879397,
          1.4572864321608041,
          1.5075376884422111,
          1.5577889447236182,
          1.6080402010050252,
          1.6582914572864322,
          1.7085427135678393,
          1.7587939698492463,
          1.8090452261306533,
          1.8592964824120604,
          1.9095477386934674,
          1.9597989949748744,
          2.0100502512562817,
          2.0603015075376887,
          2.1105527638190957,
          2.1608040201005028,
          2.21105527638191,
          2.261306532663317,
          2.311557788944724,
          2.361809045226131,
          2.412060301507538,
          2.462311557788945,
          2.512562814070352,
          2.562814070351759,
          2.613065326633166,
          2.663316582914573,
          2.71356783919598,
          2.763819095477387,
          2.814070351758794,
          2.864321608040201,
          2.9145728643216082,
          2.9648241206030153,
          3.0150753768844223,
          3.0653266331658293,
          3.1155778894472363,
          3.1658291457286434,
          3.2160804020100504,
          3.2663316582914574,
          3.3165829145728645,
          3.3668341708542715,
          3.4170854271356785,
          3.4673366834170856,
          3.5175879396984926,
          3.5678391959798996,
          3.6180904522613067,
          3.6683417085427137,
          3.7185929648241207,
          3.7688442211055277,
          3.819095477386935,
          3.869346733668342,
          3.919597989949749,
          3.969849246231156,
          4.020100502512563,
          4.07035175879397,
          4.120603015075377,
          4.170854271356784,
          4.2211055276381915,
          4.2713567839195985,
          4.3216080402010055,
          4.371859296482413,
          4.42211055276382,
          4.472361809045227,
          4.522613065326634,
          4.572864321608041,
          4.623115577889448,
          4.673366834170855,
          4.723618090452262,
          4.773869346733669,
          4.824120603015076,
          4.874371859296483,
          4.92462311557789,
          4.974874371859297,
          5.025125628140704,
          5.075376884422111,
          5.125628140703518,
          5.175879396984925,
          5.226130653266332,
          5.276381909547739,
          5.326633165829146,
          5.376884422110553,
          5.42713567839196,
          5.477386934673367,
          5.527638190954774,
          5.577889447236181,
          5.628140703517588,
          5.678391959798995,
          5.728643216080402,
          5.778894472361809,
          5.8291457286432165,
          5.8793969849246235,
          5.9296482412060305,
          5.9798994974874375,
          6.030150753768845,
          6.080402010050252,
          6.130653266331659,
          6.180904522613066,
          6.231155778894473,
          6.28140703517588,
          6.331658291457287,
          6.381909547738694,
          6.432160804020101,
          6.482412060301508,
          6.532663316582915,
          6.582914572864322,
          6.633165829145729,
          6.683417085427136,
          6.733668341708543,
          6.78391959798995,
          6.834170854271357,
          6.884422110552764,
          6.934673366834171,
          6.984924623115578,
          7.035175879396985,
          7.085427135678392,
          7.135678391959799,
          7.185929648241206,
          7.236180904522613,
          7.28643216080402,
          7.336683417085427,
          7.386934673366834,
          7.437185929648241,
          7.4874371859296485,
          7.5376884422110555,
          7.5879396984924625,
          7.63819095477387,
          7.688442211055277,
          7.738693467336684,
          7.788944723618091,
          7.839195979899498,
          7.889447236180905,
          7.939698492462312,
          7.989949748743719,
          8.040201005025127,
          8.090452261306533,
          8.14070351758794,
          8.190954773869347,
          8.241206030150755,
          8.291457286432161,
          8.341708542713569,
          8.391959798994975,
          8.442211055276383,
          8.492462311557789,
          8.542713567839197,
          8.592964824120603,
          8.643216080402011,
          8.693467336683417,
          8.743718592964825,
          8.793969849246231,
          8.84422110552764,
          8.894472361809045,
          8.944723618090453,
          8.99497487437186,
          9.045226130653267,
          9.095477386934673,
          9.145728643216081,
          9.195979899497488,
          9.246231155778895,
          9.296482412060302,
          9.34673366834171,
          9.396984924623116,
          9.447236180904524,
          9.49748743718593,
          9.547738693467338,
          9.597989949748744,
          9.648241206030152,
          9.698492462311558,
          9.748743718592966,
          9.798994974874372,
          9.84924623115578,
          9.899497487437186,
          9.949748743718594,
          10
         ],
         "xaxis": "x8",
         "y": [
          -7.723066630541841,
          -7.180291691704106,
          -5.472319232339906,
          -3.1897176374162717,
          -0.5637529363662488,
          1.849613958341906,
          3.3786793150544705,
          4.074646372553447,
          4.211754137801417,
          3.8448082990482426,
          3.2160786153239433,
          2.6648424035899425,
          2.1294290728149776,
          1.5429544904751167,
          1.0231909450222234,
          0.2326188133842193,
          -1.1779062627169745,
          -2.220268377014349,
          -1.9240104326240461,
          -1.2136927909450665,
          -0.9251917901986585,
          -0.2895370651893546,
          1.1455782832348904,
          2.3061209003356358,
          2.43775541512339,
          2.490218255895954,
          3.22713410641386,
          3.664029214634461,
          3.088567744522877,
          2.207492141320511,
          1.5623711370195652,
          1.3619815361161196,
          1.8557168917185227,
          2.1746745889019024,
          0.7704539379081118,
          -1.9805345926991018,
          -3.7821874249260787,
          -3.74932675119393,
          -3.2295298633552827,
          -2.967753333205846,
          -2.2592376156168807,
          -1.1613005838928276,
          -0.6835064686685102,
          -0.9427130795849025,
          -1.2148685845770204,
          -0.9562866730993888,
          -0.5438750980012489,
          -0.8186584679690081,
          -1.2264552202110213,
          -0.7437257684539607,
          0.4079672170711001,
          1.4520867189416777,
          1.613099912859845,
          0.6248394937770692,
          -0.6859883300864565,
          -1.4275423858512704,
          -1.5060742659156994,
          -1.058771314304769,
          -0.3358301281076519,
          0.34774437683068776,
          1.1010091724038462,
          1.8640856502373484,
          2.181346919277292,
          1.745711857490749,
          0.6500717553266399,
          -0.3045947661851074,
          -0.401145341501351,
          0.12500992012098258,
          0.9670753174734603,
          2.4100397312443445,
          4.460628555225992,
          5.719321263427498,
          4.626602173631677,
          1.9086879257565263,
          -0.3293140697642875,
          -0.9493154117444541,
          0.06638927152057793,
          1.9864510366440251,
          3.5209947665094017,
          3.861383327576728,
          3.397933186102931,
          2.534409172172353,
          0.8309290265422148,
          -1.4070517373272975,
          -2.5937405301870817,
          -1.7022075134433812,
          0.6227304047023009,
          2.6815912416205343,
          3.6859677936074577,
          4.2707363176205755,
          4.856417556235037,
          5.233688268227239,
          5.170067021481273,
          4.29082567036793,
          2.4351208244289513,
          0.5599556031285258,
          -0.42398554036375463,
          -1.246912943000276,
          -2.353215025755305,
          -2.405019195235365,
          -1.0347986926966042,
          0.24834100063963122,
          0.957952225618143,
          2.0578225022625136,
          3.5948674478647202,
          4.202120070841991,
          2.7506744182864065,
          -0.12386566790149152,
          -2.122953381925383,
          -1.8067432427039174,
          -0.4460854898825696,
          -0.09898800135147792,
          -0.8909004214014999,
          -1.8434369945405864,
          -2.7151424802109103,
          -3.022094813050535,
          -2.0318529810775874,
          -0.495673348753359,
          0.20964867566757087,
          0.03982452407182147,
          0.04308432383378742,
          0.43038197372909615,
          0.5382046601266696,
          0.5528861607388718,
          0.835859295702342,
          0.788826042654113,
          0.3705976749301783,
          0.723357015103562,
          1.9976660097719967,
          2.5760636139668236,
          1.0878385654575509,
          -1.4977926300586841,
          -2.7379336848878495,
          -2.1828886769653457,
          -1.5611707828546184,
          -1.7688027760977036,
          -2.1264414953045123,
          -1.7413853527097007,
          -0.8937063062069966,
          -0.6511942367656831,
          -1.076593850928783,
          -1.4281839189331385,
          -1.4434618396840166,
          -1.219093134976289,
          -0.7200659926780841,
          0.24970107778173714,
          1.5166292233436975,
          2.3801930567943597,
          2.5047405925908333,
          2.200585156717041,
          1.6599624730664926,
          1.0620282060427755,
          0.8763333421790946,
          0.9643706049472356,
          0.8078736902794191,
          0.5376356808856838,
          0.25853598457495686,
          -0.2928203999386535,
          -0.561717081835106,
          0.47360387103337726,
          2.559942083085879,
          4.037735537285145,
          3.778076104515212,
          2.517547189485878,
          1.818413017532725,
          2.440806674139652,
          3.8254293737714335,
          4.581019231414743,
          4.15678095637321,
          3.5577760585270455,
          3.7042803055486577,
          4.134796857728242,
          3.7061106708711233,
          2.5022801840657896,
          1.4128619335344421,
          0.5580672412195673,
          -0.21736540685218367,
          -0.7239274703952833,
          -0.7562473682873456,
          -0.5119076616013167,
          -0.15623759254464448,
          0.713173771913097,
          1.7739132362619878,
          1.913374163686675,
          1.7477511499725606,
          2.8473268032543317,
          4.4733478681479495,
          4.851225370399609,
          4.400444681820127,
          4.427317773674266,
          4.530250571454868,
          3.738353629420167,
          2.4615084195291623,
          1.6254941645006094,
          1.2082696358787253,
          0.7650523774118818,
          0.5156554418246928,
          1.2128550848332078,
          2.7071975176491727,
          3.4207053255190263
         ],
         "yaxis": "y8"
        },
        {
         "hovertemplate": "length=0.1<br>alpha=10.0<br>x=%{x}<br>y=%{y}<extra></extra>",
         "legendgroup": "",
         "line": {
          "color": "#636efa",
          "dash": "solid"
         },
         "marker": {
          "symbol": "circle"
         },
         "mode": "lines",
         "name": "",
         "showlegend": false,
         "type": "scattergl",
         "x": [
          0,
          0.05025125628140704,
          0.10050251256281408,
          0.15075376884422112,
          0.20100502512562815,
          0.2512562814070352,
          0.30150753768844224,
          0.35175879396984927,
          0.4020100502512563,
          0.45226130653266333,
          0.5025125628140704,
          0.5527638190954774,
          0.6030150753768845,
          0.6532663316582915,
          0.7035175879396985,
          0.7537688442211056,
          0.8040201005025126,
          0.8542713567839196,
          0.9045226130653267,
          0.9547738693467337,
          1.0050251256281408,
          1.0552763819095479,
          1.105527638190955,
          1.155778894472362,
          1.206030150753769,
          1.256281407035176,
          1.306532663316583,
          1.35678391959799,
          1.407035175879397,
          1.4572864321608041,
          1.5075376884422111,
          1.5577889447236182,
          1.6080402010050252,
          1.6582914572864322,
          1.7085427135678393,
          1.7587939698492463,
          1.8090452261306533,
          1.8592964824120604,
          1.9095477386934674,
          1.9597989949748744,
          2.0100502512562817,
          2.0603015075376887,
          2.1105527638190957,
          2.1608040201005028,
          2.21105527638191,
          2.261306532663317,
          2.311557788944724,
          2.361809045226131,
          2.412060301507538,
          2.462311557788945,
          2.512562814070352,
          2.562814070351759,
          2.613065326633166,
          2.663316582914573,
          2.71356783919598,
          2.763819095477387,
          2.814070351758794,
          2.864321608040201,
          2.9145728643216082,
          2.9648241206030153,
          3.0150753768844223,
          3.0653266331658293,
          3.1155778894472363,
          3.1658291457286434,
          3.2160804020100504,
          3.2663316582914574,
          3.3165829145728645,
          3.3668341708542715,
          3.4170854271356785,
          3.4673366834170856,
          3.5175879396984926,
          3.5678391959798996,
          3.6180904522613067,
          3.6683417085427137,
          3.7185929648241207,
          3.7688442211055277,
          3.819095477386935,
          3.869346733668342,
          3.919597989949749,
          3.969849246231156,
          4.020100502512563,
          4.07035175879397,
          4.120603015075377,
          4.170854271356784,
          4.2211055276381915,
          4.2713567839195985,
          4.3216080402010055,
          4.371859296482413,
          4.42211055276382,
          4.472361809045227,
          4.522613065326634,
          4.572864321608041,
          4.623115577889448,
          4.673366834170855,
          4.723618090452262,
          4.773869346733669,
          4.824120603015076,
          4.874371859296483,
          4.92462311557789,
          4.974874371859297,
          5.025125628140704,
          5.075376884422111,
          5.125628140703518,
          5.175879396984925,
          5.226130653266332,
          5.276381909547739,
          5.326633165829146,
          5.376884422110553,
          5.42713567839196,
          5.477386934673367,
          5.527638190954774,
          5.577889447236181,
          5.628140703517588,
          5.678391959798995,
          5.728643216080402,
          5.778894472361809,
          5.8291457286432165,
          5.8793969849246235,
          5.9296482412060305,
          5.9798994974874375,
          6.030150753768845,
          6.080402010050252,
          6.130653266331659,
          6.180904522613066,
          6.231155778894473,
          6.28140703517588,
          6.331658291457287,
          6.381909547738694,
          6.432160804020101,
          6.482412060301508,
          6.532663316582915,
          6.582914572864322,
          6.633165829145729,
          6.683417085427136,
          6.733668341708543,
          6.78391959798995,
          6.834170854271357,
          6.884422110552764,
          6.934673366834171,
          6.984924623115578,
          7.035175879396985,
          7.085427135678392,
          7.135678391959799,
          7.185929648241206,
          7.236180904522613,
          7.28643216080402,
          7.336683417085427,
          7.386934673366834,
          7.437185929648241,
          7.4874371859296485,
          7.5376884422110555,
          7.5879396984924625,
          7.63819095477387,
          7.688442211055277,
          7.738693467336684,
          7.788944723618091,
          7.839195979899498,
          7.889447236180905,
          7.939698492462312,
          7.989949748743719,
          8.040201005025127,
          8.090452261306533,
          8.14070351758794,
          8.190954773869347,
          8.241206030150755,
          8.291457286432161,
          8.341708542713569,
          8.391959798994975,
          8.442211055276383,
          8.492462311557789,
          8.542713567839197,
          8.592964824120603,
          8.643216080402011,
          8.693467336683417,
          8.743718592964825,
          8.793969849246231,
          8.84422110552764,
          8.894472361809045,
          8.944723618090453,
          8.99497487437186,
          9.045226130653267,
          9.095477386934673,
          9.145728643216081,
          9.195979899497488,
          9.246231155778895,
          9.296482412060302,
          9.34673366834171,
          9.396984924623116,
          9.447236180904524,
          9.49748743718593,
          9.547738693467338,
          9.597989949748744,
          9.648241206030152,
          9.698492462311558,
          9.748743718592966,
          9.798994974874372,
          9.84924623115578,
          9.899497487437186,
          9.949748743718594,
          10
         ],
         "xaxis": "x9",
         "y": [
          -10.922065572023357,
          -10.154465892202802,
          -7.7390280760102135,
          -4.510941942974757,
          -0.7972670484368056,
          2.6157491450417094,
          4.778174110259471,
          5.762420161939423,
          5.956319823059764,
          5.437380041238656,
          4.548221995449201,
          3.768656268743812,
          3.011467474886503,
          2.1820671665543783,
          1.447010511347773,
          0.32897268075109926,
          -1.6658110119385532,
          -3.1399336508817934,
          -2.720961647964253,
          -1.7164208055089671,
          -1.3084187774951872,
          -0.4094672444004887,
          1.62009234491087,
          3.2613474537267084,
          3.447506769815954,
          3.521700430757133,
          4.563856820887261,
          5.181719808267296,
          4.367894392612331,
          3.121865325087488,
          2.2095264514333417,
          1.9261327600771576,
          2.624379996193177,
          3.0754542973732053,
          1.0895864081734101,
          -2.800898881744143,
          -5.34882075176743,
          -5.3023487413067105,
          -4.56724493284597,
          -4.197037013597668,
          -3.195044476628848,
          -1.6423270357330304,
          -0.966624117960748,
          -1.3331976225754758,
          -1.718083628809827,
          -1.3523935826138016,
          -0.7691555398303639,
          -1.15775790835335,
          -1.7344696060657039,
          -1.0517870684339448,
          0.5769527713855583,
          2.05356073166917,
          2.281267774229253,
          0.8836564864058711,
          -0.9701340000379385,
          -2.018849802933313,
          -2.1299106527990848,
          -1.4973287521413912,
          -0.4749355218233354,
          0.49178481395293905,
          1.557062103910696,
          2.6362152079907264,
          3.0848903974827158,
          2.4688093848589436,
          0.9193402928986175,
          -0.4307620493668405,
          -0.5673051824339957,
          0.17679072446626926,
          1.3676510298072333,
          3.408310873783759,
          6.308281399509304,
          8.088341698307996,
          6.543003541654755,
          2.699292350942653,
          -0.4657204237409352,
          -1.3425347302588053,
          0.0938886081804694,
          2.809265997012074,
          4.979438551842287,
          5.460820671380362,
          4.805403195824385,
          3.5841958238889093,
          1.1751110987054727,
          -1.9898716498888893,
          -3.6681030350673534,
          -2.407284951485011,
          0.8806737840320805,
          3.792342702640668,
          5.212745644190101,
          6.039733221698348,
          6.868011572574393,
          7.401552930159922,
          7.311578900156691,
          6.068143856812954,
          3.443780895924577,
          0.7918968082711673,
          -0.5996061014325069,
          -1.763401195089541,
          -3.3279486046033075,
          -3.40121076366948,
          -1.463426345537486,
          0.3512072111978713,
          1.3547490295746678,
          2.9102004916561874,
          5.083910299703841,
          5.942695194904932,
          3.890041068013359,
          -0.17517250745869095,
          -3.002309465004705,
          -2.5551207975578234,
          -0.6308601497697759,
          -0.13999017402346534,
          -1.259923458669906,
          -2.6070135990595955,
          -3.8397913192895907,
          -4.27388747139345,
          -2.873474042588127,
          -0.700987972313889,
          0.2964880004626365,
          0.056320382057424546,
          0.06093043509141724,
          0.6086520242485903,
          0.7611363296835381,
          0.7818991069653022,
          1.1820835522178752,
          1.1155684878745442,
          0.5241042580701942,
          1.0229813011971787,
          2.825126364111303,
          3.6431041004077303,
          1.53843605294256,
          -2.1181986510514603,
          -3.87202295004654,
          -3.087070772115053,
          -2.207828894293625,
          -2.5014648751205537,
          -3.0072424022525652,
          -2.4626907831199163,
          -1.2638915790162955,
          -0.920927721373225,
          -1.5225336251509631,
          -2.019757067718401,
          -2.0413633104491526,
          -1.7240580452794012,
          -1.0183270926489927,
          0.3531306507381124,
          2.1448376167440326,
          3.366101301984855,
          3.5422381162683787,
          3.1120973737861624,
          2.347541442441018,
          1.5019346926084614,
          1.2393224976694166,
          1.3638259886703263,
          1.142505929477555,
          0.760331671524227,
          0.3656250957473862,
          -0.4141105809327573,
          -0.7943879153478445,
          0.6697770176077996,
          3.620304812789681,
          5.710220358104468,
          5.343006466683124,
          3.560349379285195,
          2.5716243513905637,
          3.451821901699063,
          5.409974102287981,
          6.478539526558699,
          5.878576004317197,
          5.031455153855246,
          5.238643446938463,
          5.847485793856933,
          5.2412319744015905,
          3.5387585731632836,
          1.9980885081650837,
          0.7892262612488511,
          -0.30740110636110424,
          -1.0237880468074556,
          -1.0694952847409256,
          -0.7239467577192796,
          -0.22095332232915868,
          1.008580020568278,
          2.508692157194851,
          2.7059196921799735,
          2.47169337994437,
          4.026728181670703,
          6.3262692243476035,
          6.860668712947572,
          6.223168549502583,
          6.261172840465605,
          6.406741799099941,
          5.286830403672684,
          3.4810985907937044,
          2.2987958929950842,
          1.7087513060632957,
          1.081947448061663,
          0.7292469193399727,
          1.7152361101642941,
          3.8285554454822432,
          4.837607864230881
         ],
         "yaxis": "y9"
        },
        {
         "hovertemplate": "length=0.5<br>alpha=1.0<br>x=%{x}<br>y=%{y}<extra></extra>",
         "legendgroup": "",
         "line": {
          "color": "#636efa",
          "dash": "solid"
         },
         "marker": {
          "symbol": "circle"
         },
         "mode": "lines",
         "name": "",
         "showlegend": false,
         "type": "scattergl",
         "x": [
          0,
          0.05025125628140704,
          0.10050251256281408,
          0.15075376884422112,
          0.20100502512562815,
          0.2512562814070352,
          0.30150753768844224,
          0.35175879396984927,
          0.4020100502512563,
          0.45226130653266333,
          0.5025125628140704,
          0.5527638190954774,
          0.6030150753768845,
          0.6532663316582915,
          0.7035175879396985,
          0.7537688442211056,
          0.8040201005025126,
          0.8542713567839196,
          0.9045226130653267,
          0.9547738693467337,
          1.0050251256281408,
          1.0552763819095479,
          1.105527638190955,
          1.155778894472362,
          1.206030150753769,
          1.256281407035176,
          1.306532663316583,
          1.35678391959799,
          1.407035175879397,
          1.4572864321608041,
          1.5075376884422111,
          1.5577889447236182,
          1.6080402010050252,
          1.6582914572864322,
          1.7085427135678393,
          1.7587939698492463,
          1.8090452261306533,
          1.8592964824120604,
          1.9095477386934674,
          1.9597989949748744,
          2.0100502512562817,
          2.0603015075376887,
          2.1105527638190957,
          2.1608040201005028,
          2.21105527638191,
          2.261306532663317,
          2.311557788944724,
          2.361809045226131,
          2.412060301507538,
          2.462311557788945,
          2.512562814070352,
          2.562814070351759,
          2.613065326633166,
          2.663316582914573,
          2.71356783919598,
          2.763819095477387,
          2.814070351758794,
          2.864321608040201,
          2.9145728643216082,
          2.9648241206030153,
          3.0150753768844223,
          3.0653266331658293,
          3.1155778894472363,
          3.1658291457286434,
          3.2160804020100504,
          3.2663316582914574,
          3.3165829145728645,
          3.3668341708542715,
          3.4170854271356785,
          3.4673366834170856,
          3.5175879396984926,
          3.5678391959798996,
          3.6180904522613067,
          3.6683417085427137,
          3.7185929648241207,
          3.7688442211055277,
          3.819095477386935,
          3.869346733668342,
          3.919597989949749,
          3.969849246231156,
          4.020100502512563,
          4.07035175879397,
          4.120603015075377,
          4.170854271356784,
          4.2211055276381915,
          4.2713567839195985,
          4.3216080402010055,
          4.371859296482413,
          4.42211055276382,
          4.472361809045227,
          4.522613065326634,
          4.572864321608041,
          4.623115577889448,
          4.673366834170855,
          4.723618090452262,
          4.773869346733669,
          4.824120603015076,
          4.874371859296483,
          4.92462311557789,
          4.974874371859297,
          5.025125628140704,
          5.075376884422111,
          5.125628140703518,
          5.175879396984925,
          5.226130653266332,
          5.276381909547739,
          5.326633165829146,
          5.376884422110553,
          5.42713567839196,
          5.477386934673367,
          5.527638190954774,
          5.577889447236181,
          5.628140703517588,
          5.678391959798995,
          5.728643216080402,
          5.778894472361809,
          5.8291457286432165,
          5.8793969849246235,
          5.9296482412060305,
          5.9798994974874375,
          6.030150753768845,
          6.080402010050252,
          6.130653266331659,
          6.180904522613066,
          6.231155778894473,
          6.28140703517588,
          6.331658291457287,
          6.381909547738694,
          6.432160804020101,
          6.482412060301508,
          6.532663316582915,
          6.582914572864322,
          6.633165829145729,
          6.683417085427136,
          6.733668341708543,
          6.78391959798995,
          6.834170854271357,
          6.884422110552764,
          6.934673366834171,
          6.984924623115578,
          7.035175879396985,
          7.085427135678392,
          7.135678391959799,
          7.185929648241206,
          7.236180904522613,
          7.28643216080402,
          7.336683417085427,
          7.386934673366834,
          7.437185929648241,
          7.4874371859296485,
          7.5376884422110555,
          7.5879396984924625,
          7.63819095477387,
          7.688442211055277,
          7.738693467336684,
          7.788944723618091,
          7.839195979899498,
          7.889447236180905,
          7.939698492462312,
          7.989949748743719,
          8.040201005025127,
          8.090452261306533,
          8.14070351758794,
          8.190954773869347,
          8.241206030150755,
          8.291457286432161,
          8.341708542713569,
          8.391959798994975,
          8.442211055276383,
          8.492462311557789,
          8.542713567839197,
          8.592964824120603,
          8.643216080402011,
          8.693467336683417,
          8.743718592964825,
          8.793969849246231,
          8.84422110552764,
          8.894472361809045,
          8.944723618090453,
          8.99497487437186,
          9.045226130653267,
          9.095477386934673,
          9.145728643216081,
          9.195979899497488,
          9.246231155778895,
          9.296482412060302,
          9.34673366834171,
          9.396984924623116,
          9.447236180904524,
          9.49748743718593,
          9.547738693467338,
          9.597989949748744,
          9.648241206030152,
          9.698492462311558,
          9.748743718592966,
          9.798994974874372,
          9.84924623115578,
          9.899497487437186,
          9.949748743718594,
          10
         ],
         "xaxis": "x4",
         "y": [
          0.028061703814097123,
          0.021752222637311382,
          0.02356988808670884,
          0.03068378852459948,
          0.0395473308683672,
          0.046386269739102204,
          0.04767774435186574,
          0.0405674673450418,
          0.02317655781185526,
          -0.005230324728896361,
          -0.04422459000988083,
          -0.09233243090427486,
          -0.1472706375865884,
          -0.2062624159568973,
          -0.2663984078883279,
          -0.32499984467918747,
          -0.3799506343470937,
          -0.42996819683455745,
          -0.47479047151331394,
          -0.5152632111708094,
          -0.5533217987892594,
          -0.5918645028022717,
          -0.6345263876887026,
          -0.6853657759218058,
          -0.7484897341135115,
          -0.8276457526008073,
          -0.9258170389506081,
          -1.044862057639514,
          -1.1852337904892851,
          -1.3458102669155414,
          -1.5238558381917082,
          -1.7151176137736712,
          -1.9140485484419363,
          -2.11413130218735,
          -2.308271469490128,
          -2.48922517663627,
          -2.650025956743947,
          -2.7843846747147754,
          -2.8870417679764615,
          -2.9540646388948324,
          -2.983078332146071,
          -2.9734274408852825,
          -2.9262604057626342,
          -2.8445202777388885,
          -2.732829920648955,
          -2.5972576325564454,
          -2.4449528006340837,
          -2.2836634692694133,
          -2.1211581593398066,
          -1.9645984048588272,
          -1.8199235021994642,
          -1.6913178407829188,
          -1.5808298413986053,
          -1.4882010876117224,
          -1.4109382437293012,
          -1.3446315467091612,
          -1.2834937284829373,
          -1.2210594900735843,
          -1.1509671509932098,
          -1.067730191466493,
          -0.96740906182315,
          -0.8481026854463841,
          -0.7102050868595641,
          -0.5563962834632706,
          -0.39137294711155296,
          -0.22134989952767914,
          -0.053395765717447745,
          0.10532166837201964,
          0.24828721055008732,
          0.3703030586777517,
          0.4679866213589684,
          0.5400505731093742,
          0.5873358247415381,
          0.612605785241117,
          0.6201379895601065,
          0.6151757876835614,
          0.6033173996699446,
          0.5899230656233402,
          0.5796138681075036,
          0.5759118000099473,
          0.5810495146456645,
          0.5959448942609986,
          0.6203132279554198,
          0.6528723373644527,
          0.6915893196552586,
          0.7339210971826329,
          0.7770147689470319,
          0.8178532165388548,
          0.8533494439122435,
          0.8804084644087635,
          0.8959857929959442,
          0.8971695797877318,
          0.8813064402513275,
          0.8461747401133171,
          0.7901953179341414,
          0.7126515473946287,
          0.6138804723274958,
          0.4953958482415494,
          0.3599071580022925,
          0.21121128016498128,
          0.053956872728020855,
          -0.10670324929606255,
          -0.26553163417740144,
          -0.4176474199807856,
          -0.558928953475545,
          -0.6863260587285407,
          -0.7980381300470616,
          -0.8935410112476908,
          -0.973464115380749,
          -1.0393443419507438,
          -1.0933031660822,
          -1.1376981048028059,
          -1.1748023229320421,
          -1.2065541849196841,
          -1.2344036740703137,
          -1.2592607424481619,
          -1.2815383616090006,
          -1.301265416575477,
          -1.3182438497315887,
          -1.3322208883766185,
          -1.3430571297824514,
          -1.3508720952654922,
          -1.35616140157019,
          -1.3598754802963717,
          -1.3634561485498127,
          -1.3688194956763582,
          -1.378277319054543,
          -1.3943865518442713,
          -1.419725100047237,
          -1.4566023499787464,
          -1.5067255353507802,
          -1.5708603892417785,
          -1.648532267972814,
          -1.7378198864930046,
          -1.8352887172913441,
          -1.936096013847844,
          -2.0342779902435844,
          -2.123202120869016,
          -2.1961446289750866,
          -2.2469265780330754,
          -2.270536105849726,
          -2.2636577825806743,
          -2.2250410308367794,
          -2.155661059927545,
          -2.0586482635497996,
          -1.9389903393754089,
          -1.8030455385181277,
          -1.6579146756026348,
          -1.510748075653833,
          -1.3680601243164086,
          -1.2351253779567861,
          -1.1155176926542791,
          -1.0108379419244498,
          -0.9206531843515462,
          -0.8426509909099456,
          -0.7729863683074849,
          -0.706787255908388,
          -0.6387629746017793,
          -0.5638575628416954,
          -0.4778813671651809,
          -0.37805982787630177,
          -0.26344248586240215,
          -0.1351276157800543,
          0.003725468661278374,
          0.14810685600320309,
          0.2915786862759028,
          0.4268747247208408,
          0.5466228906558441,
          0.6441206768886097,
          0.7140775432971452,
          0.7532433117669156,
          0.7608430083413185,
          0.7387609602158101,
          0.6914428879878852,
          0.6255182281573328,
          0.549179821692524,
          0.4713905616826402,
          0.4010089196564213,
          0.34594026041964393,
          0.31241169109378747,
          0.3044596791849617,
          0.3236821517010254,
          0.3692777451243306,
          0.4383485561542267,
          0.5264158761626354,
          0.6280656653348164,
          0.7376331672871046,
          0.8498340900265205,
          0.9602655569408505,
          1.0657235315669562,
          1.1643139861470007,
          1.2553628849669456,
          1.33915712245835,
          1.41656738295489,
          1.488612198262954,
          1.5560238355242237,
          1.6188723787088064,
          1.6762912440251545,
          1.7263324966147007,
          1.7659712215140613
         ],
         "yaxis": "y4"
        },
        {
         "hovertemplate": "length=0.5<br>alpha=5.0<br>x=%{x}<br>y=%{y}<extra></extra>",
         "legendgroup": "",
         "line": {
          "color": "#636efa",
          "dash": "solid"
         },
         "marker": {
          "symbol": "circle"
         },
         "mode": "lines",
         "name": "",
         "showlegend": false,
         "type": "scattergl",
         "x": [
          0,
          0.05025125628140704,
          0.10050251256281408,
          0.15075376884422112,
          0.20100502512562815,
          0.2512562814070352,
          0.30150753768844224,
          0.35175879396984927,
          0.4020100502512563,
          0.45226130653266333,
          0.5025125628140704,
          0.5527638190954774,
          0.6030150753768845,
          0.6532663316582915,
          0.7035175879396985,
          0.7537688442211056,
          0.8040201005025126,
          0.8542713567839196,
          0.9045226130653267,
          0.9547738693467337,
          1.0050251256281408,
          1.0552763819095479,
          1.105527638190955,
          1.155778894472362,
          1.206030150753769,
          1.256281407035176,
          1.306532663316583,
          1.35678391959799,
          1.407035175879397,
          1.4572864321608041,
          1.5075376884422111,
          1.5577889447236182,
          1.6080402010050252,
          1.6582914572864322,
          1.7085427135678393,
          1.7587939698492463,
          1.8090452261306533,
          1.8592964824120604,
          1.9095477386934674,
          1.9597989949748744,
          2.0100502512562817,
          2.0603015075376887,
          2.1105527638190957,
          2.1608040201005028,
          2.21105527638191,
          2.261306532663317,
          2.311557788944724,
          2.361809045226131,
          2.412060301507538,
          2.462311557788945,
          2.512562814070352,
          2.562814070351759,
          2.613065326633166,
          2.663316582914573,
          2.71356783919598,
          2.763819095477387,
          2.814070351758794,
          2.864321608040201,
          2.9145728643216082,
          2.9648241206030153,
          3.0150753768844223,
          3.0653266331658293,
          3.1155778894472363,
          3.1658291457286434,
          3.2160804020100504,
          3.2663316582914574,
          3.3165829145728645,
          3.3668341708542715,
          3.4170854271356785,
          3.4673366834170856,
          3.5175879396984926,
          3.5678391959798996,
          3.6180904522613067,
          3.6683417085427137,
          3.7185929648241207,
          3.7688442211055277,
          3.819095477386935,
          3.869346733668342,
          3.919597989949749,
          3.969849246231156,
          4.020100502512563,
          4.07035175879397,
          4.120603015075377,
          4.170854271356784,
          4.2211055276381915,
          4.2713567839195985,
          4.3216080402010055,
          4.371859296482413,
          4.42211055276382,
          4.472361809045227,
          4.522613065326634,
          4.572864321608041,
          4.623115577889448,
          4.673366834170855,
          4.723618090452262,
          4.773869346733669,
          4.824120603015076,
          4.874371859296483,
          4.92462311557789,
          4.974874371859297,
          5.025125628140704,
          5.075376884422111,
          5.125628140703518,
          5.175879396984925,
          5.226130653266332,
          5.276381909547739,
          5.326633165829146,
          5.376884422110553,
          5.42713567839196,
          5.477386934673367,
          5.527638190954774,
          5.577889447236181,
          5.628140703517588,
          5.678391959798995,
          5.728643216080402,
          5.778894472361809,
          5.8291457286432165,
          5.8793969849246235,
          5.9296482412060305,
          5.9798994974874375,
          6.030150753768845,
          6.080402010050252,
          6.130653266331659,
          6.180904522613066,
          6.231155778894473,
          6.28140703517588,
          6.331658291457287,
          6.381909547738694,
          6.432160804020101,
          6.482412060301508,
          6.532663316582915,
          6.582914572864322,
          6.633165829145729,
          6.683417085427136,
          6.733668341708543,
          6.78391959798995,
          6.834170854271357,
          6.884422110552764,
          6.934673366834171,
          6.984924623115578,
          7.035175879396985,
          7.085427135678392,
          7.135678391959799,
          7.185929648241206,
          7.236180904522613,
          7.28643216080402,
          7.336683417085427,
          7.386934673366834,
          7.437185929648241,
          7.4874371859296485,
          7.5376884422110555,
          7.5879396984924625,
          7.63819095477387,
          7.688442211055277,
          7.738693467336684,
          7.788944723618091,
          7.839195979899498,
          7.889447236180905,
          7.939698492462312,
          7.989949748743719,
          8.040201005025127,
          8.090452261306533,
          8.14070351758794,
          8.190954773869347,
          8.241206030150755,
          8.291457286432161,
          8.341708542713569,
          8.391959798994975,
          8.442211055276383,
          8.492462311557789,
          8.542713567839197,
          8.592964824120603,
          8.643216080402011,
          8.693467336683417,
          8.743718592964825,
          8.793969849246231,
          8.84422110552764,
          8.894472361809045,
          8.944723618090453,
          8.99497487437186,
          9.045226130653267,
          9.095477386934673,
          9.145728643216081,
          9.195979899497488,
          9.246231155778895,
          9.296482412060302,
          9.34673366834171,
          9.396984924623116,
          9.447236180904524,
          9.49748743718593,
          9.547738693467338,
          9.597989949748744,
          9.648241206030152,
          9.698492462311558,
          9.748743718592966,
          9.798994974874372,
          9.84924623115578,
          9.899497487437186,
          9.949748743718594,
          10
         ],
         "xaxis": "x5",
         "y": [
          -0.4980368661470948,
          -0.6609595872283995,
          -0.8520839459556883,
          -1.0639586449930503,
          -1.287862591088428,
          -1.5140276378691029,
          -1.732068602102679,
          -1.9316208941296644,
          -2.1031326518246036,
          -2.238731296744489,
          -2.3330438679567678,
          -2.3838530113090424,
          -2.39247302660195,
          -2.363769368600467,
          -2.305795123938464,
          -2.2290691089903456,
          -2.145584658602894,
          -2.067677803477651,
          -2.0068992460341053,
          -1.9730382367669712,
          -1.9734131235769583,
          -2.0124911367065,
          -2.091851627939099,
          -2.21043826136967,
          -2.365016865553733,
          -2.550723811940383,
          -2.761600326094991,
          -2.9910335970864588,
          -3.23206587669996,
          -3.4775735845289075,
          -3.720362440751205,
          -3.9532416413757123,
          -4.169141413565111,
          -4.36131905796049,
          -4.523668016631402,
          -4.6511004036305215,
          -4.7399437263783435,
          -4.788271980570226,
          -4.796089427843408,
          -4.765308271932043,
          -4.69948810663972,
          -4.603365474952943,
          -4.482227200944198,
          -4.341229382943697,
          -4.1847715208461596,
          -4.016039049057399,
          -3.836790150799412,
          -3.6474376634203356,
          -3.447411023897307,
          -3.235743028825232,
          -3.0117761344578957,
          -2.7758620224252732,
          -2.5299185090126937,
          -2.277730048665126,
          -2.024913188419946,
          -1.778525405102062,
          -1.5463581276935796,
          -1.3360066685704841,
          -1.1538617220046994,
          -1.0041837027936285,
          -0.8884177099167473,
          -0.8048738300551171,
          -0.7488402285958364,
          -0.7131328423830626,
          -0.6890062277577162,
          -0.6672990053905988,
          -0.6396406241638137,
          -0.5995447955347802,
          -0.5432266256944269,
          -0.47002885626117985,
          -0.3824051159429589,
          -0.28547357918715754,
          -0.1862190086796215,
          -0.09246229709735583,
          -0.011754323314075782,
          0.04966499566655892,
          0.08770445837132622,
          0.10096161974900146,
          0.09091515796403853,
          0.061763780830786486,
          0.019949557236152823,
          -0.02656297968314882,
          -0.06915867039813678,
          -0.09949287800921489,
          -0.11036198656683921,
          -0.09643625819333834,
          -0.05478962425385047,
          0.014811971265265815,
          0.10987975708820294,
          0.22540711709587877,
          0.35428308479966264,
          0.4878553682864346,
          0.6165914188294147,
          0.7307708179608827,
          0.8211655229141918,
          0.8796590514216681,
          0.8997761085249948,
          0.8770989410674846,
          0.8095548984400457,
          0.6975682848068859,
          0.5440675536226057,
          0.35435049239586214,
          0.1358092510098567,
          -0.10246446124895718,
          -0.35017709095187616,
          -0.5964013191641743,
          -0.8301824245536906,
          -1.0411508772784515,
          -1.2201122560967406,
          -1.3595970530219723,
          -1.4543508935054363,
          -1.5017530962928256,
          -1.5021427088609443,
          -1.4590211208414807,
          -1.3790951368932158,
          -1.2721139303294196,
          -1.1504549421007848,
          -1.028443487691952,
          -0.9214032997290366,
          -0.8445016563359684,
          -0.8114729422937784,
          -0.833359212390875,
          -0.9174241438819066,
          -1.0663798383958911,
          -1.2780567300811254,
          -1.5455768027443477,
          -1.858028477162385,
          -2.2015695801952786,
          -2.5608256989334293,
          -2.920407045644168,
          -3.2663552422717594,
          -3.5873484115414125,
          -3.875529377594031,
          -4.126886226716862,
          -4.341169699661126,
          -4.521391295910004,
          -4.673001956574229,
          -4.802861870359421,
          -4.918138761556002,
          -5.025247549313124,
          -5.1289407930644355,
          -5.231615219347579,
          -5.332891884008332,
          -5.4294857141857635,
          -5.515370091183808,
          -5.582224838076491,
          -5.620134084126007,
          -5.618493918929818,
          -5.567068184162516,
          -5.457110209122431,
          -5.282452498043531,
          -5.040453949721242,
          -4.732682013992407,
          -4.365224087892667,
          -3.948548665675785,
          -3.4968749425124734,
          -3.0270779327436763,
          -2.557215068894338,
          -2.1048237306338637,
          -1.6851877628435001,
          -1.3097879368154213,
          -0.9851502851663464,
          -0.7122525064101205,
          -0.4865902315332137,
          -0.2989074606119139,
          -0.1365076697524999,
          0.015022067042908505,
          0.16989674187964982,
          0.34028151407718277,
          0.5347411793068096,
          0.7571853027590713,
          1.0064362602519312,
          1.2764577160127544,
          1.5572039383353165,
          1.8359625072689152,
          2.099020933199402,
          2.333443221984122,
          2.528751321555098,
          2.6783104248285867,
          2.780270709283973,
          2.8379584697091813,
          2.859680282034857,
          2.8579566195643897,
          2.848263495595308,
          2.847417433551249,
          2.871763990164061,
          2.9353693857132646,
          3.0484062347161864,
          3.2159175867937844,
          3.4370973832645006,
          3.70517777357929,
          4.007935382260672,
          4.328762456370159,
          4.64816962213346,
          4.945540307168325,
          5.2009261117214995,
          5.39666818441122,
          5.518668564725624,
          5.557191767161667,
          5.507146589694972
         ],
         "yaxis": "y5"
        },
        {
         "hovertemplate": "length=0.5<br>alpha=10.0<br>x=%{x}<br>y=%{y}<extra></extra>",
         "legendgroup": "",
         "line": {
          "color": "#636efa",
          "dash": "solid"
         },
         "marker": {
          "symbol": "circle"
         },
         "mode": "lines",
         "name": "",
         "showlegend": false,
         "type": "scattergl",
         "x": [
          0,
          0.05025125628140704,
          0.10050251256281408,
          0.15075376884422112,
          0.20100502512562815,
          0.2512562814070352,
          0.30150753768844224,
          0.35175879396984927,
          0.4020100502512563,
          0.45226130653266333,
          0.5025125628140704,
          0.5527638190954774,
          0.6030150753768845,
          0.6532663316582915,
          0.7035175879396985,
          0.7537688442211056,
          0.8040201005025126,
          0.8542713567839196,
          0.9045226130653267,
          0.9547738693467337,
          1.0050251256281408,
          1.0552763819095479,
          1.105527638190955,
          1.155778894472362,
          1.206030150753769,
          1.256281407035176,
          1.306532663316583,
          1.35678391959799,
          1.407035175879397,
          1.4572864321608041,
          1.5075376884422111,
          1.5577889447236182,
          1.6080402010050252,
          1.6582914572864322,
          1.7085427135678393,
          1.7587939698492463,
          1.8090452261306533,
          1.8592964824120604,
          1.9095477386934674,
          1.9597989949748744,
          2.0100502512562817,
          2.0603015075376887,
          2.1105527638190957,
          2.1608040201005028,
          2.21105527638191,
          2.261306532663317,
          2.311557788944724,
          2.361809045226131,
          2.412060301507538,
          2.462311557788945,
          2.512562814070352,
          2.562814070351759,
          2.613065326633166,
          2.663316582914573,
          2.71356783919598,
          2.763819095477387,
          2.814070351758794,
          2.864321608040201,
          2.9145728643216082,
          2.9648241206030153,
          3.0150753768844223,
          3.0653266331658293,
          3.1155778894472363,
          3.1658291457286434,
          3.2160804020100504,
          3.2663316582914574,
          3.3165829145728645,
          3.3668341708542715,
          3.4170854271356785,
          3.4673366834170856,
          3.5175879396984926,
          3.5678391959798996,
          3.6180904522613067,
          3.6683417085427137,
          3.7185929648241207,
          3.7688442211055277,
          3.819095477386935,
          3.869346733668342,
          3.919597989949749,
          3.969849246231156,
          4.020100502512563,
          4.07035175879397,
          4.120603015075377,
          4.170854271356784,
          4.2211055276381915,
          4.2713567839195985,
          4.3216080402010055,
          4.371859296482413,
          4.42211055276382,
          4.472361809045227,
          4.522613065326634,
          4.572864321608041,
          4.623115577889448,
          4.673366834170855,
          4.723618090452262,
          4.773869346733669,
          4.824120603015076,
          4.874371859296483,
          4.92462311557789,
          4.974874371859297,
          5.025125628140704,
          5.075376884422111,
          5.125628140703518,
          5.175879396984925,
          5.226130653266332,
          5.276381909547739,
          5.326633165829146,
          5.376884422110553,
          5.42713567839196,
          5.477386934673367,
          5.527638190954774,
          5.577889447236181,
          5.628140703517588,
          5.678391959798995,
          5.728643216080402,
          5.778894472361809,
          5.8291457286432165,
          5.8793969849246235,
          5.9296482412060305,
          5.9798994974874375,
          6.030150753768845,
          6.080402010050252,
          6.130653266331659,
          6.180904522613066,
          6.231155778894473,
          6.28140703517588,
          6.331658291457287,
          6.381909547738694,
          6.432160804020101,
          6.482412060301508,
          6.532663316582915,
          6.582914572864322,
          6.633165829145729,
          6.683417085427136,
          6.733668341708543,
          6.78391959798995,
          6.834170854271357,
          6.884422110552764,
          6.934673366834171,
          6.984924623115578,
          7.035175879396985,
          7.085427135678392,
          7.135678391959799,
          7.185929648241206,
          7.236180904522613,
          7.28643216080402,
          7.336683417085427,
          7.386934673366834,
          7.437185929648241,
          7.4874371859296485,
          7.5376884422110555,
          7.5879396984924625,
          7.63819095477387,
          7.688442211055277,
          7.738693467336684,
          7.788944723618091,
          7.839195979899498,
          7.889447236180905,
          7.939698492462312,
          7.989949748743719,
          8.040201005025127,
          8.090452261306533,
          8.14070351758794,
          8.190954773869347,
          8.241206030150755,
          8.291457286432161,
          8.341708542713569,
          8.391959798994975,
          8.442211055276383,
          8.492462311557789,
          8.542713567839197,
          8.592964824120603,
          8.643216080402011,
          8.693467336683417,
          8.743718592964825,
          8.793969849246231,
          8.84422110552764,
          8.894472361809045,
          8.944723618090453,
          8.99497487437186,
          9.045226130653267,
          9.095477386934673,
          9.145728643216081,
          9.195979899497488,
          9.246231155778895,
          9.296482412060302,
          9.34673366834171,
          9.396984924623116,
          9.447236180904524,
          9.49748743718593,
          9.547738693467338,
          9.597989949748744,
          9.648241206030152,
          9.698492462311558,
          9.748743718592966,
          9.798994974874372,
          9.84924623115578,
          9.899497487437186,
          9.949748743718594,
          10
         ],
         "xaxis": "x6",
         "y": [
          -0.7043304906670157,
          -0.9347380124389242,
          -1.2050286726509176,
          -1.5046647455532725,
          -1.8213127427902116,
          -2.1411584192821853,
          -2.449514908054215,
          -2.7317244658414177,
          -2.974278719680044,
          -3.1660441623651607,
          -3.299422279675845,
          -3.371277259297192,
          -3.383467801832284,
          -3.3428746993968694,
          -3.2608867363275253,
          -3.152379765401057,
          -3.0343149234158555,
          -2.924137992295903,
          -2.8381841320577728,
          -2.790297433516549,
          -2.7908276035275867,
          -2.846092259685977,
          -2.9583249427037113,
          -3.126031768017388,
          -3.3446389265071947,
          -3.6072682087140886,
          -3.905492635017496,
          -4.229960278513252,
          -4.57083139731237,
          -4.918031727391195,
          -5.261387020653826,
          -5.590727944571607,
          -5.896056330515117,
          -6.167836561603973,
          -6.397432660793529,
          -6.577649270773262,
          -6.703292702729524,
          -6.771639175253497,
          -6.7826947152103685,
          -6.739163587054995,
          -6.646079816620952,
          -6.510141887238514,
          -6.338826497212883,
          -6.139425470731564,
          -5.918160640213323,
          -5.679536890196921,
          -5.426040667240047,
          -5.158255811519475,
          -4.875375425070096,
          -4.576031675718839,
          -4.259294656181968,
          -3.92566171939023,
          -3.5778450671444726,
          -3.2211967262469487,
          -2.8636596936916328,
          -2.515214748920439,
          -2.186880636470127,
          -1.8893987501132765,
          -1.631806896362222,
          -1.4201302116047847,
          -1.2564123744167106,
          -1.1382634864631267,
          -1.0590200073308007,
          -1.0085221374718019,
          -0.9744019518544875,
          -0.9437033035814615,
          -0.9045884457372562,
          -0.8478843810954912,
          -0.7682384614992329,
          -0.6647211832312746,
          -0.5408025012873888,
          -0.40372060738566823,
          -0.26335344764639435,
          -0.1307614345632521,
          -0.016623123447285115,
          0.0702369104468481,
          0.12403283450931575,
          0.1427812919281933,
          0.12857344941803553,
          0.08734717651433693,
          0.028212934406704592,
          -0.037565726124950655,
          -0.09780512963273644,
          -0.14070417744016375,
          -0.15607541817326176,
          -0.13638146424153294,
          -0.07748422969712217,
          0.020947290648818798,
          0.15539344270439773,
          0.31877380205241224,
          0.5010319434430601,
          0.6899316783071968,
          0.8719919469514276,
          1.0334660017467605,
          1.1613034194584442,
          1.2440257607847742,
          1.2724755757753328,
          1.240405218000717,
          1.1448835168594862,
          0.9865105290552351,
          0.769427713180241,
          0.5011272721798129,
          0.19206328467387188,
          -0.14490663075952748,
          -0.4952251912564985,
          -0.8434388341791793,
          -1.1740552440476066,
          -1.472409691123832,
          -1.7254993001896464,
          -1.9227605917461636,
          -2.056762758044816,
          -2.123799596113102,
          -2.124350591491005,
          -2.063367456882817,
          -1.9503350463971671,
          -1.7990407731556088,
          -1.626988982018084,
          -1.454438728428245,
          -1.3030610428921263,
          -1.1943056958368699,
          -1.1475960404906607,
          -1.178547900491736,
          -1.2974336667263189,
          -1.5080888301006985,
          -1.8074451611629374,
          -2.1857756761303038,
          -2.6276490716784724,
          -3.1134895588202025,
          -3.6215544343052155,
          -4.130079251599927,
          -4.619323883149177,
          -5.073276776559444,
          -5.480826207168841,
          -5.836298472193716,
          -6.139341065823903,
          -6.394212891471593,
          -6.608622743983283,
          -6.7922723952669015,
          -6.955298538225316,
          -7.106773238520777,
          -7.253417630160347,
          -7.398621196318845,
          -7.541848029033986,
          -7.678452333712472,
          -7.799911184459081,
          -7.8944580742237305,
          -7.9480698441262865,
          -7.945750300261303,
          -7.873023328698388,
          -7.717519269105627,
          -7.470515965324803,
          -7.128278336212814,
          -6.69302309058728,
          -6.173359107895536,
          -5.584091074688884,
          -4.945327969623776,
          -4.280934666846423,
          -3.6164482323352196,
          -2.9766702662671447,
          -2.3832153893584516,
          -1.8523198640770424,
          -1.3932128942579693,
          -1.0072771543994226,
          -0.6881425047525358,
          -0.4227189846918706,
          -0.19305099793193245,
          0.02124441094695866,
          0.24027027656920238,
          0.4812307322328023,
          0.7562382281350728,
          1.0708217243914577,
          1.423315808912339,
          1.8051838137810212,
          2.202218928974602,
          2.5964430777882117,
          2.9684638714356244,
          3.2999870515575163,
          3.576194414812108,
          3.7877029270378317,
          3.9318965441380604,
          4.013479357314319,
          4.044198638904611,
          4.041761012061922,
          4.028052864683081,
          4.026856352265767,
          4.061287582824689,
          4.151239195850479,
          4.311097440758327,
          4.547994266717923,
          4.860789734609729,
          5.239912658399183,
          5.6680765747080395,
          6.121794574090157,
          6.573504519831758,
          6.994050175660246,
          7.355220244096913,
          7.632041338021736,
          7.804575930477041,
          7.859055965828122,
          7.7882813971233675
         ],
         "yaxis": "y6"
        },
        {
         "hovertemplate": "length=1.0<br>alpha=1.0<br>x=%{x}<br>y=%{y}<extra></extra>",
         "legendgroup": "",
         "line": {
          "color": "#636efa",
          "dash": "solid"
         },
         "marker": {
          "symbol": "circle"
         },
         "mode": "lines",
         "name": "",
         "showlegend": false,
         "type": "scattergl",
         "x": [
          0,
          0.05025125628140704,
          0.10050251256281408,
          0.15075376884422112,
          0.20100502512562815,
          0.2512562814070352,
          0.30150753768844224,
          0.35175879396984927,
          0.4020100502512563,
          0.45226130653266333,
          0.5025125628140704,
          0.5527638190954774,
          0.6030150753768845,
          0.6532663316582915,
          0.7035175879396985,
          0.7537688442211056,
          0.8040201005025126,
          0.8542713567839196,
          0.9045226130653267,
          0.9547738693467337,
          1.0050251256281408,
          1.0552763819095479,
          1.105527638190955,
          1.155778894472362,
          1.206030150753769,
          1.256281407035176,
          1.306532663316583,
          1.35678391959799,
          1.407035175879397,
          1.4572864321608041,
          1.5075376884422111,
          1.5577889447236182,
          1.6080402010050252,
          1.6582914572864322,
          1.7085427135678393,
          1.7587939698492463,
          1.8090452261306533,
          1.8592964824120604,
          1.9095477386934674,
          1.9597989949748744,
          2.0100502512562817,
          2.0603015075376887,
          2.1105527638190957,
          2.1608040201005028,
          2.21105527638191,
          2.261306532663317,
          2.311557788944724,
          2.361809045226131,
          2.412060301507538,
          2.462311557788945,
          2.512562814070352,
          2.562814070351759,
          2.613065326633166,
          2.663316582914573,
          2.71356783919598,
          2.763819095477387,
          2.814070351758794,
          2.864321608040201,
          2.9145728643216082,
          2.9648241206030153,
          3.0150753768844223,
          3.0653266331658293,
          3.1155778894472363,
          3.1658291457286434,
          3.2160804020100504,
          3.2663316582914574,
          3.3165829145728645,
          3.3668341708542715,
          3.4170854271356785,
          3.4673366834170856,
          3.5175879396984926,
          3.5678391959798996,
          3.6180904522613067,
          3.6683417085427137,
          3.7185929648241207,
          3.7688442211055277,
          3.819095477386935,
          3.869346733668342,
          3.919597989949749,
          3.969849246231156,
          4.020100502512563,
          4.07035175879397,
          4.120603015075377,
          4.170854271356784,
          4.2211055276381915,
          4.2713567839195985,
          4.3216080402010055,
          4.371859296482413,
          4.42211055276382,
          4.472361809045227,
          4.522613065326634,
          4.572864321608041,
          4.623115577889448,
          4.673366834170855,
          4.723618090452262,
          4.773869346733669,
          4.824120603015076,
          4.874371859296483,
          4.92462311557789,
          4.974874371859297,
          5.025125628140704,
          5.075376884422111,
          5.125628140703518,
          5.175879396984925,
          5.226130653266332,
          5.276381909547739,
          5.326633165829146,
          5.376884422110553,
          5.42713567839196,
          5.477386934673367,
          5.527638190954774,
          5.577889447236181,
          5.628140703517588,
          5.678391959798995,
          5.728643216080402,
          5.778894472361809,
          5.8291457286432165,
          5.8793969849246235,
          5.9296482412060305,
          5.9798994974874375,
          6.030150753768845,
          6.080402010050252,
          6.130653266331659,
          6.180904522613066,
          6.231155778894473,
          6.28140703517588,
          6.331658291457287,
          6.381909547738694,
          6.432160804020101,
          6.482412060301508,
          6.532663316582915,
          6.582914572864322,
          6.633165829145729,
          6.683417085427136,
          6.733668341708543,
          6.78391959798995,
          6.834170854271357,
          6.884422110552764,
          6.934673366834171,
          6.984924623115578,
          7.035175879396985,
          7.085427135678392,
          7.135678391959799,
          7.185929648241206,
          7.236180904522613,
          7.28643216080402,
          7.336683417085427,
          7.386934673366834,
          7.437185929648241,
          7.4874371859296485,
          7.5376884422110555,
          7.5879396984924625,
          7.63819095477387,
          7.688442211055277,
          7.738693467336684,
          7.788944723618091,
          7.839195979899498,
          7.889447236180905,
          7.939698492462312,
          7.989949748743719,
          8.040201005025127,
          8.090452261306533,
          8.14070351758794,
          8.190954773869347,
          8.241206030150755,
          8.291457286432161,
          8.341708542713569,
          8.391959798994975,
          8.442211055276383,
          8.492462311557789,
          8.542713567839197,
          8.592964824120603,
          8.643216080402011,
          8.693467336683417,
          8.743718592964825,
          8.793969849246231,
          8.84422110552764,
          8.894472361809045,
          8.944723618090453,
          8.99497487437186,
          9.045226130653267,
          9.095477386934673,
          9.145728643216081,
          9.195979899497488,
          9.246231155778895,
          9.296482412060302,
          9.34673366834171,
          9.396984924623116,
          9.447236180904524,
          9.49748743718593,
          9.547738693467338,
          9.597989949748744,
          9.648241206030152,
          9.698492462311558,
          9.748743718592966,
          9.798994974874372,
          9.84924623115578,
          9.899497487437186,
          9.949748743718594,
          10
         ],
         "xaxis": "x",
         "y": [
          -2.068803397483374,
          -2.165866639342942,
          -2.2613714024100315,
          -2.3542227288962785,
          -2.4433504861294213,
          -2.527725507665707,
          -2.606378180450287,
          -2.6784114208707583,
          -2.7430156908007888,
          -2.7994799402450172,
          -2.8472029634038507,
          -2.8857015251351816,
          -2.9146162679524235,
          -2.9337166314312664,
          -2.942901925160073,
          -2.942200931985506,
          -2.931768788088663,
          -2.9118825373880592,
          -2.882932912908572,
          -2.8454149788943752,
          -2.799916954377105,
          -2.7471070770848818,
          -2.687719037521845,
          -2.622535963492382,
          -2.5523741410816387,
          -2.4780657097362386,
          -2.4004417571655896,
          -2.320314540892208,
          -2.238462252935907,
          -2.1556135942643597,
          -2.0724329923856883,
          -1.9895102250404253,
          -1.9073500104788965,
          -1.8263653219231477,
          -1.746872636499176,
          -1.6690907653876927,
          -1.5931421444642715,
          -1.5190573821865152,
          -1.4467826372494499,
          -1.37618858660195,
          -1.3070831010273463,
          -1.2392249713458838,
          -1.1723385698874698,
          -1.1061301040639908,
          -1.0403038531008815,
          -0.9745778709661511,
          -0.908699038106839,
          -0.8424566815230682,
          -0.7756941793689462,
          -0.7083184167481853,
          -0.6403066394771354,
          -0.5717103523943459,
          -0.5026568560502818,
          -0.43334758003388224,
          -0.3640531902429123,
          -0.29510813979794914,
          -0.22690076499324552,
          -0.15986330169162763,
          -0.09446044709359507,
          -0.03117603276126131,
          0.02949855791599424,
          0.08707722845003171,
          0.14109080653616352,
          0.19109784873576416,
          0.23669339519351068,
          0.27751679884783576,
          0.31325682281316863,
          0.34365604277110406,
          0.36851268737935994,
          0.3876803226514526,
          0.40106694737681703,
          0.4086318608956169,
          0.41038229307387664,
          0.4063686467219963,
          0.3966788886204055,
          0.38143419104256476,
          0.36078328704354845,
          0.3348974301490157,
          0.3039666820362139,
          0.2681954960144004,
          0.22779973574576146,
          0.18300426500150846,
          0.13404105486169599,
          0.08114820769397259,
          0.02456809262485532,
          -0.03545182046624492,
          -0.09866046147070696,
          -0.1648030012214539,
          -0.23362105594355798,
          -0.3048537538180942,
          -0.3782376331741839,
          -0.4535070874460117,
          -0.5303961460649144,
          -0.6086385279728291,
          -0.687968375746209,
          -0.7681211926847692,
          -0.8488337755046442,
          -0.9298440360064977,
          -1.0108910842682133,
          -1.0917132100846516,
          -1.1720474111644128,
          -1.251626188042629,
          -1.3301768658780562,
          -1.4074173690833778,
          -1.4830548645059503,
          -1.5567823496056485,
          -1.6282776664759944,
          -1.6972012807716594,
          -1.763196039710811,
          -1.8258877872126211,
          -1.8848859951472015,
          -1.939788070840705,
          -1.9901821991869928,
          -2.035653481912992,
          -2.0757901599606123,
          -2.110191364046343,
          -2.138475246011459,
          -2.160287822731754,
          -2.1753121999978564,
          -2.1832770015922534,
          -2.183964862034048,
          -2.1772204689392267,
          -2.1629560711942224,
          -2.141156916964834,
          -2.1118848818153038,
          -2.075280658179395,
          -2.031562176274161,
          -1.9810247156616503,
          -1.9240361915486952,
          -1.8610319098957548,
          -1.792508956945865,
          -1.719017588493863,
          -1.6411525422947582,
          -1.5595440160724852,
          -1.4748474891059746,
          -1.3877341343626048,
          -1.2988804960887188,
          -1.2089592915818252,
          -1.1186307302928895,
          -1.0285342045608208,
          -0.9392806927116066,
          -0.8514474289639432,
          -0.7655721032670176,
          -0.6821492191695115,
          -0.6016264778578689,
          -0.5244042113604098,
          -0.4508331455726881,
          -0.3812153160070548,
          -0.31580487852357964,
          -0.2548092070331367,
          -0.19839248163562226,
          -0.1466771674359952,
          -0.099748200974892,
          -0.05765575734786828,
          -0.020419533214006826,
          0.011968112598686067,
          0.039538265626595,
          0.062341806719117356,
          0.08044692790091001,
          0.09393569265928486,
          0.10290155644112381,
          0.10744810301187824,
          0.10768706968013683,
          0.10373652601806121,
          0.09572209035262023,
          0.08377505016885829,
          0.0680336623555438,
          0.04864355295877409,
          0.025758056187935047,
          -0.0004600831461364259,
          -0.029838022302639038,
          -0.062191942611349936,
          -0.09732501369949943,
          -0.1350284791575198,
          -0.17507944739176554,
          -0.21724166019705224,
          -0.2612654421547219,
          -0.30688912344646724,
          -0.35383947273122235,
          -0.40183372797071504,
          -0.4505827840953454,
          -0.49979274969347076,
          -0.5491697438554995,
          -0.5984225257998175,
          -0.6472675919113541,
          -0.6954333634362632,
          -0.7426659444167766,
          -0.7887327843258519,
          -0.833429150619446,
          -0.8765822702621469,
          -0.9180574135138044,
          -0.9577608636184066,
          -0.9956455407502104,
          -1.0317127988980654,
          -1.0660165780533202,
          -1.0986632019378963,
          -1.129812577294755,
          -1.1596766759881354,
          -1.1885174425148552,
          -1.2166417202864916
         ],
         "yaxis": "y"
        },
        {
         "hovertemplate": "length=1.0<br>alpha=5.0<br>x=%{x}<br>y=%{y}<extra></extra>",
         "legendgroup": "",
         "line": {
          "color": "#636efa",
          "dash": "solid"
         },
         "marker": {
          "symbol": "circle"
         },
         "mode": "lines",
         "name": "",
         "showlegend": false,
         "type": "scattergl",
         "x": [
          0,
          0.05025125628140704,
          0.10050251256281408,
          0.15075376884422112,
          0.20100502512562815,
          0.2512562814070352,
          0.30150753768844224,
          0.35175879396984927,
          0.4020100502512563,
          0.45226130653266333,
          0.5025125628140704,
          0.5527638190954774,
          0.6030150753768845,
          0.6532663316582915,
          0.7035175879396985,
          0.7537688442211056,
          0.8040201005025126,
          0.8542713567839196,
          0.9045226130653267,
          0.9547738693467337,
          1.0050251256281408,
          1.0552763819095479,
          1.105527638190955,
          1.155778894472362,
          1.206030150753769,
          1.256281407035176,
          1.306532663316583,
          1.35678391959799,
          1.407035175879397,
          1.4572864321608041,
          1.5075376884422111,
          1.5577889447236182,
          1.6080402010050252,
          1.6582914572864322,
          1.7085427135678393,
          1.7587939698492463,
          1.8090452261306533,
          1.8592964824120604,
          1.9095477386934674,
          1.9597989949748744,
          2.0100502512562817,
          2.0603015075376887,
          2.1105527638190957,
          2.1608040201005028,
          2.21105527638191,
          2.261306532663317,
          2.311557788944724,
          2.361809045226131,
          2.412060301507538,
          2.462311557788945,
          2.512562814070352,
          2.562814070351759,
          2.613065326633166,
          2.663316582914573,
          2.71356783919598,
          2.763819095477387,
          2.814070351758794,
          2.864321608040201,
          2.9145728643216082,
          2.9648241206030153,
          3.0150753768844223,
          3.0653266331658293,
          3.1155778894472363,
          3.1658291457286434,
          3.2160804020100504,
          3.2663316582914574,
          3.3165829145728645,
          3.3668341708542715,
          3.4170854271356785,
          3.4673366834170856,
          3.5175879396984926,
          3.5678391959798996,
          3.6180904522613067,
          3.6683417085427137,
          3.7185929648241207,
          3.7688442211055277,
          3.819095477386935,
          3.869346733668342,
          3.919597989949749,
          3.969849246231156,
          4.020100502512563,
          4.07035175879397,
          4.120603015075377,
          4.170854271356784,
          4.2211055276381915,
          4.2713567839195985,
          4.3216080402010055,
          4.371859296482413,
          4.42211055276382,
          4.472361809045227,
          4.522613065326634,
          4.572864321608041,
          4.623115577889448,
          4.673366834170855,
          4.723618090452262,
          4.773869346733669,
          4.824120603015076,
          4.874371859296483,
          4.92462311557789,
          4.974874371859297,
          5.025125628140704,
          5.075376884422111,
          5.125628140703518,
          5.175879396984925,
          5.226130653266332,
          5.276381909547739,
          5.326633165829146,
          5.376884422110553,
          5.42713567839196,
          5.477386934673367,
          5.527638190954774,
          5.577889447236181,
          5.628140703517588,
          5.678391959798995,
          5.728643216080402,
          5.778894472361809,
          5.8291457286432165,
          5.8793969849246235,
          5.9296482412060305,
          5.9798994974874375,
          6.030150753768845,
          6.080402010050252,
          6.130653266331659,
          6.180904522613066,
          6.231155778894473,
          6.28140703517588,
          6.331658291457287,
          6.381909547738694,
          6.432160804020101,
          6.482412060301508,
          6.532663316582915,
          6.582914572864322,
          6.633165829145729,
          6.683417085427136,
          6.733668341708543,
          6.78391959798995,
          6.834170854271357,
          6.884422110552764,
          6.934673366834171,
          6.984924623115578,
          7.035175879396985,
          7.085427135678392,
          7.135678391959799,
          7.185929648241206,
          7.236180904522613,
          7.28643216080402,
          7.336683417085427,
          7.386934673366834,
          7.437185929648241,
          7.4874371859296485,
          7.5376884422110555,
          7.5879396984924625,
          7.63819095477387,
          7.688442211055277,
          7.738693467336684,
          7.788944723618091,
          7.839195979899498,
          7.889447236180905,
          7.939698492462312,
          7.989949748743719,
          8.040201005025127,
          8.090452261306533,
          8.14070351758794,
          8.190954773869347,
          8.241206030150755,
          8.291457286432161,
          8.341708542713569,
          8.391959798994975,
          8.442211055276383,
          8.492462311557789,
          8.542713567839197,
          8.592964824120603,
          8.643216080402011,
          8.693467336683417,
          8.743718592964825,
          8.793969849246231,
          8.84422110552764,
          8.894472361809045,
          8.944723618090453,
          8.99497487437186,
          9.045226130653267,
          9.095477386934673,
          9.145728643216081,
          9.195979899497488,
          9.246231155778895,
          9.296482412060302,
          9.34673366834171,
          9.396984924623116,
          9.447236180904524,
          9.49748743718593,
          9.547738693467338,
          9.597989949748744,
          9.648241206030152,
          9.698492462311558,
          9.748743718592966,
          9.798994974874372,
          9.84924623115578,
          9.899497487437186,
          9.949748743718594,
          10
         ],
         "xaxis": "x2",
         "y": [
          -4.631299578371054,
          -4.844291142555863,
          -5.055248337252307,
          -5.261455787055353,
          -5.460261071378697,
          -5.649123092306388,
          -5.8256526048236825,
          -5.987650200568372,
          -6.133138862490994,
          -6.26039401479118,
          -6.367968104098562,
          -6.454708388726087,
          -6.519768183430511,
          -6.562617208863852,
          -6.58303811855516,
          -6.581123992837227,
          -6.5572666947386065,
          -6.512140357790062,
          -6.446679211435411,
          -6.362053311190861,
          -6.259636236211773,
          -6.140975291937213,
          -6.007751667066885,
          -5.861746811281087,
          -5.704801040891684,
          -5.538776069444922,
          -5.3655168346228255,
          -5.186814196904278,
          -5.004371963950896,
          -4.819774363351052,
          -4.6344589265188,
          -4.449694306084097,
          -4.266561777550099,
          -4.08594123087531,
          -3.9085072578455313,
          -3.734725916874519,
          -3.5648605373190096,
          -3.3989815708259448,
          -3.2369838122046595,
          -3.0786051690716114,
          -2.923453429085057,
          -2.771033389251345,
          -2.620776708944489,
          -2.4720777423151024,
          -2.3243209206950377,
          -2.176917958291574,
          -2.0293348988319266,
          -1.8811214879129796,
          -1.7319358136619207,
          -1.5815645389712014,
          -1.4299379382294894,
          -1.277140473796801,
          -1.1234156393867514,
          -0.9691662675427993,
          -0.8149453457791126,
          -0.6614488879773877,
          -0.5094957136420792,
          -0.3600120428615971,
          -0.21400365700219842,
          -0.07253530626236862,
          0.0632999406558922,
          0.19240560185466465,
          0.3137089231438324,
          0.42618669639571594,
          0.5288869789278816,
          0.6209501643868495,
          0.7016245402880574,
          0.7702803435297193,
          0.8264153830009615,
          0.8696613013728689,
          0.8997829973742846,
          0.9166744652273742,
          0.9203516693591917,
          0.9109424668854932,
          0.8886730776617029,
          0.8538578019852768,
          0.8068800319687428,
          0.7481810388434355,
          0.6782444914243289,
          0.5975840354122577,
          0.5067319569163029,
          0.40622991873824393,
          0.2966226081487614,
          0.17845194677556522,
          0.052254464655419386,
          -0.08143913076070806,
          -0.22210386603910234,
          -0.3692182976275566,
          -0.5222612935377268,
          -0.6807102371669942,
          -0.8440360537593752,
          -1.011701336284856,
          -1.1831583603207148,
          -1.3578462941814564,
          -1.5351908939069574,
          -1.7146038035976878,
          -1.8954834725819052,
          -2.0772151678945026,
          -2.259172857461879,
          -2.440718547822956,
          -2.621203941044909,
          -2.799969406393463,
          -2.97634534402325,
          -3.149647492893724,
          -3.319178994578812,
          -3.4842243724579185,
          -3.6440501504645373,
          -3.797901131354057,
          -3.944997748538573,
          -4.084537982841516,
          -4.215696880415952,
          -4.337629369950472,
          -4.449474939310372,
          -4.550367059994107,
          -4.639441254915066,
          -4.715849913621547,
          -4.7787753191228175,
          -4.82744780627782,
          -4.861165939720796,
          -4.8793120244131005,
          -4.881374692631235,
          -4.866967660645037,
          -4.83584425476352,
          -4.787916433288128,
          -4.723263103691123,
          -4.642140797081109,
          -4.544985584599286,
          -4.4324149762407785,
          -4.305221650884525,
          -4.164364079478047,
          -4.01095360719214,
          -3.8462357875735025,
          -3.6715702864538478,
          -3.4884075349559085,
          -3.298263192971564,
          -3.1026922581210576,
          -2.9032640192515915,
          -2.7015357910101323,
          -2.4990297262091574,
          -2.297211679361704,
          -2.097471795090517,
          -1.9011101144963665,
          -1.7093244345061358,
          -1.523201498229964,
          -1.3437108417293313,
          -1.171705735755463,
          -1.0079219799053636,
          -0.8529827002419866,
          -0.7074039103204021,
          -0.5716020841933048,
          -0.44590278687675156,
          -0.33054927250300215,
          -0.22571285116106518,
          -0.13150029081257458,
          -0.047963646533717604,
          0.024892701190048525,
          0.08710587559052275,
          0.13874871744978504,
          0.17992695918238172,
          0.21077293387611648,
          0.2314490924717697,
          0.24214088122422464,
          0.24306125322052555,
          0.23444807252457903,
          0.2165665946404629,
          0.1897079641447627,
          0.15419228677195712,
          0.11036748599468128,
          0.058611372395265905,
          -0.0006705736225606551,
          -0.06704404355099967,
          -0.14004717281027182,
          -0.2191923337339804,
          -0.30396694796915025,
          -0.39383722346767425,
          -0.4882480809730238,
          -0.5866292411630492,
          -0.6883956277405436,
          -0.7929522647246038,
          -0.899695772290489,
          -1.0080214897908886,
          -1.1173252716994464,
          -1.2270077752399624,
          -1.336481073682125,
          -1.4451713975785159,
          -1.5525274001129328,
          -1.6580243646107669,
          -1.7611719840210596,
          -1.8615204041446602,
          -1.958668677674589,
          -2.0522721041429177,
          -2.1420492554426196,
          -2.227791055604812,
          -2.309366027846752,
          -2.3867284809874727,
          -2.459922186730631,
          -2.5290842997273835,
          -2.594447556897587,
          -2.6563396622920328,
          -2.7151790688568953
         ],
         "yaxis": "y2"
        },
        {
         "hovertemplate": "length=1.0<br>alpha=10.0<br>x=%{x}<br>y=%{y}<extra></extra>",
         "legendgroup": "",
         "line": {
          "color": "#636efa",
          "dash": "solid"
         },
         "marker": {
          "symbol": "circle"
         },
         "mode": "lines",
         "name": "",
         "showlegend": false,
         "type": "scattergl",
         "x": [
          0,
          0.05025125628140704,
          0.10050251256281408,
          0.15075376884422112,
          0.20100502512562815,
          0.2512562814070352,
          0.30150753768844224,
          0.35175879396984927,
          0.4020100502512563,
          0.45226130653266333,
          0.5025125628140704,
          0.5527638190954774,
          0.6030150753768845,
          0.6532663316582915,
          0.7035175879396985,
          0.7537688442211056,
          0.8040201005025126,
          0.8542713567839196,
          0.9045226130653267,
          0.9547738693467337,
          1.0050251256281408,
          1.0552763819095479,
          1.105527638190955,
          1.155778894472362,
          1.206030150753769,
          1.256281407035176,
          1.306532663316583,
          1.35678391959799,
          1.407035175879397,
          1.4572864321608041,
          1.5075376884422111,
          1.5577889447236182,
          1.6080402010050252,
          1.6582914572864322,
          1.7085427135678393,
          1.7587939698492463,
          1.8090452261306533,
          1.8592964824120604,
          1.9095477386934674,
          1.9597989949748744,
          2.0100502512562817,
          2.0603015075376887,
          2.1105527638190957,
          2.1608040201005028,
          2.21105527638191,
          2.261306532663317,
          2.311557788944724,
          2.361809045226131,
          2.412060301507538,
          2.462311557788945,
          2.512562814070352,
          2.562814070351759,
          2.613065326633166,
          2.663316582914573,
          2.71356783919598,
          2.763819095477387,
          2.814070351758794,
          2.864321608040201,
          2.9145728643216082,
          2.9648241206030153,
          3.0150753768844223,
          3.0653266331658293,
          3.1155778894472363,
          3.1658291457286434,
          3.2160804020100504,
          3.2663316582914574,
          3.3165829145728645,
          3.3668341708542715,
          3.4170854271356785,
          3.4673366834170856,
          3.5175879396984926,
          3.5678391959798996,
          3.6180904522613067,
          3.6683417085427137,
          3.7185929648241207,
          3.7688442211055277,
          3.819095477386935,
          3.869346733668342,
          3.919597989949749,
          3.969849246231156,
          4.020100502512563,
          4.07035175879397,
          4.120603015075377,
          4.170854271356784,
          4.2211055276381915,
          4.2713567839195985,
          4.3216080402010055,
          4.371859296482413,
          4.42211055276382,
          4.472361809045227,
          4.522613065326634,
          4.572864321608041,
          4.623115577889448,
          4.673366834170855,
          4.723618090452262,
          4.773869346733669,
          4.824120603015076,
          4.874371859296483,
          4.92462311557789,
          4.974874371859297,
          5.025125628140704,
          5.075376884422111,
          5.125628140703518,
          5.175879396984925,
          5.226130653266332,
          5.276381909547739,
          5.326633165829146,
          5.376884422110553,
          5.42713567839196,
          5.477386934673367,
          5.527638190954774,
          5.577889447236181,
          5.628140703517588,
          5.678391959798995,
          5.728643216080402,
          5.778894472361809,
          5.8291457286432165,
          5.8793969849246235,
          5.9296482412060305,
          5.9798994974874375,
          6.030150753768845,
          6.080402010050252,
          6.130653266331659,
          6.180904522613066,
          6.231155778894473,
          6.28140703517588,
          6.331658291457287,
          6.381909547738694,
          6.432160804020101,
          6.482412060301508,
          6.532663316582915,
          6.582914572864322,
          6.633165829145729,
          6.683417085427136,
          6.733668341708543,
          6.78391959798995,
          6.834170854271357,
          6.884422110552764,
          6.934673366834171,
          6.984924623115578,
          7.035175879396985,
          7.085427135678392,
          7.135678391959799,
          7.185929648241206,
          7.236180904522613,
          7.28643216080402,
          7.336683417085427,
          7.386934673366834,
          7.437185929648241,
          7.4874371859296485,
          7.5376884422110555,
          7.5879396984924625,
          7.63819095477387,
          7.688442211055277,
          7.738693467336684,
          7.788944723618091,
          7.839195979899498,
          7.889447236180905,
          7.939698492462312,
          7.989949748743719,
          8.040201005025127,
          8.090452261306533,
          8.14070351758794,
          8.190954773869347,
          8.241206030150755,
          8.291457286432161,
          8.341708542713569,
          8.391959798994975,
          8.442211055276383,
          8.492462311557789,
          8.542713567839197,
          8.592964824120603,
          8.643216080402011,
          8.693467336683417,
          8.743718592964825,
          8.793969849246231,
          8.84422110552764,
          8.894472361809045,
          8.944723618090453,
          8.99497487437186,
          9.045226130653267,
          9.095477386934673,
          9.145728643216081,
          9.195979899497488,
          9.246231155778895,
          9.296482412060302,
          9.34673366834171,
          9.396984924623116,
          9.447236180904524,
          9.49748743718593,
          9.547738693467338,
          9.597989949748744,
          9.648241206030152,
          9.698492462311558,
          9.748743718592966,
          9.798994974874372,
          9.84924623115578,
          9.899497487437186,
          9.949748743718594,
          10
         ],
         "xaxis": "x3",
         "y": [
          -6.549646675145139,
          -6.850862233886358,
          -7.149200759706256,
          -7.4408221318800845,
          -7.721975261241594,
          -7.98906649265473,
          -8.238716923415797,
          -8.467816120389775,
          -8.673568159252266,
          -8.853534121517036,
          -9.005666857575473,
          -9.128336144499826,
          -9.22034458853602,
          -9.28094226143833,
          -9.309821788879766,
          -9.307114806329372,
          -9.273375491796731,
          -9.209557214063885,
          -9.116981173080648,
          -8.997302077226768,
          -8.852462460772756,
          -8.684650544055676,
          -8.496243886935558,
          -8.289761839710959,
          -8.06780700266917,
          -7.833012236356554,
          -7.587986676664766,
          -7.335262982771342,
          -7.0772507025790405,
          -6.816190272229214,
          -6.5541146681439475,
          -6.2928180360784625,
          -6.0338295305140095,
          -5.778393503763281,
          -5.5274639726788255,
          -5.281700043390235,
          -5.041474119845186,
          -4.806885835718256,
          -4.5777864084019955,
          -4.3538051832929865,
          -4.134387488378218,
          -3.9188330008679357,
          -3.706337965740823,
          -3.4960458704226784,
          -3.2870861693544406,
          -3.0786269007894913,
          -2.8699129365251457,
          -2.660307520677989,
          -2.4493271168403674,
          -2.2366700207814256,
          -2.0222376255959666,
          -1.8061493790990368,
          -1.5887496334027853,
          -1.3706080797535376,
          -1.1525067605936519,
          -0.9354299881942236,
          -0.720535748203587,
          -0.5091339136325161,
          -0.30264687412994906,
          -0.10258041386712799,
          0.08951963457297447,
          0.27210261161942495,
          0.4436514137474657,
          0.6027190061458064,
          0.7479591385623442,
          0.8781561440336847,
          0.9922469405691582,
          1.089340908649136,
          1.1687278427937149,
          1.2298868070725455,
          1.2724853180794293,
          1.2963734610056568,
          1.3015738129604872,
          1.288267191211067,
          1.2567735189450195,
          1.207537283905659,
          1.1411006844182323,
          1.0580877722427777,
          0.9591825583771272,
          0.8451114475376604,
          0.7166272059588942,
          0.5744958605213443,
          0.4194877153504592,
          0.2523691633618866,
          0.0738989726102396,
          -0.11517232322966929,
          -0.31410229960799535,
          -0.5221535239811966,
          -0.73858900442357,
          -0.9626696494477689,
          -1.1936472343583755,
          -1.4307617508450272,
          -1.6732385996006691,
          -1.9202846448494626,
          -2.1710877829948956,
          -2.424815953144344,
          -2.68061843417938,
          -2.9376258624035083,
          -3.194952894767767,
          -3.45169727226679,
          -3.706942163171515,
          -3.959754708751378,
          -4.209187951823691,
          -4.45427420114472,
          -4.694027950077248,
          -4.927437361880873,
          -5.153465144754668,
          -5.371043288513026,
          -5.579069319514575,
          -5.776409011362513,
          -5.961895703138189,
          -6.13433428353182,
          -6.292507804611933,
          -6.435190810019446,
          -6.561160744534134,
          -6.669218905959577,
          -6.758208867837308,
          -6.827042159286336,
          -6.874726800899304,
          -6.900389239975126,
          -6.903306293343887,
          -6.882931673315463,
          -6.8389165306105815,
          -6.771136355465089,
          -6.67970273989642,
          -6.564978473677557,
          -6.427580254530516,
          -6.268381373465328,
          -6.088502847703187,
          -5.889300159857201,
          -5.672344989340413,
          -5.43939881487121,
          -5.192384494309102,
          -4.933353247019144,
          -4.664448539776376,
          -4.387869471304805,
          -4.105835351175423,
          -3.8205485548828566,
          -3.534161731578514,
          -3.248747912595195,
          -2.966273059312051,
          -2.688575707485431,
          -2.417349797774299,
          -2.154132217023833,
          -1.9002940962813872,
          -1.6570421426157198,
          -1.4254169337961078,
          -1.2062997031518425,
          -1.0004202040508743,
          -0.8083674197468987,
          -0.6306017687010617,
          -0.4674672642063044,
          -0.31920617531387707,
          -0.1859694947231492,
          -0.0678308394288531,
          0.035203595627068276,
          0.12318631062250143,
          0.19622031797935893,
          0.2544551459122754,
          0.29807794166877105,
          0.327318445572522,
          0.3424389182322708,
          0.3437405207918685,
          0.3315596438364919,
          0.3062714152974987,
          0.26828757578371165,
          0.2180608231662237,
          0.156083195538701,
          0.08288899775068498,
          -0.0009483343115954488,
          -0.0948145956661564,
          -0.19805661116029472,
          -0.30998477113480516,
          -0.4298741803311289,
          -0.5569699427953483,
          -0.6904870579146871,
          -0.8296190289374211,
          -0.9735384330290181,
          -1.1214038470879966,
          -1.272361963182945,
          -1.425557662025808,
          -1.5801365528195617,
          -1.7352510368815952,
          -1.8900696602562173,
          -2.0437809904092203,
          -2.1956053051955506,
          -2.3448005431775782,
          -2.4906733054741164,
          -2.6325874021756253,
          -2.7699758081627808,
          -2.9023510433588866,
          -3.029315108318144,
          -3.1505723249698,
          -3.265936757064557,
          -3.3753437875146215,
          -3.4788553188569407,
          -3.576665317059328,
          -3.66910292183031,
          -3.7566315766829597,
          -3.8398430634489698
         ],
         "yaxis": "y3"
        }
       ],
       "layout": {
        "annotations": [
         {
          "font": {},
          "showarrow": false,
          "text": "alpha=1.0",
          "x": 0.15666666666666665,
          "xanchor": "center",
          "xref": "paper",
          "y": 0.9999999999999998,
          "yanchor": "bottom",
          "yref": "paper"
         },
         {
          "font": {},
          "showarrow": false,
          "text": "alpha=5.0",
          "x": 0.49,
          "xanchor": "center",
          "xref": "paper",
          "y": 0.9999999999999998,
          "yanchor": "bottom",
          "yref": "paper"
         },
         {
          "font": {},
          "showarrow": false,
          "text": "alpha=10.0",
          "x": 0.8233333333333333,
          "xanchor": "center",
          "xref": "paper",
          "y": 0.9999999999999998,
          "yanchor": "bottom",
          "yref": "paper"
         },
         {
          "font": {},
          "showarrow": false,
          "text": "length=1.0",
          "textangle": 90,
          "x": 0.98,
          "xanchor": "left",
          "xref": "paper",
          "y": 0.15666666666666665,
          "yanchor": "middle",
          "yref": "paper"
         },
         {
          "font": {},
          "showarrow": false,
          "text": "length=0.5",
          "textangle": 90,
          "x": 0.98,
          "xanchor": "left",
          "xref": "paper",
          "y": 0.4999999999999999,
          "yanchor": "middle",
          "yref": "paper"
         },
         {
          "font": {},
          "showarrow": false,
          "text": "length=0.1",
          "textangle": 90,
          "x": 0.98,
          "xanchor": "left",
          "xref": "paper",
          "y": 0.8433333333333332,
          "yanchor": "middle",
          "yref": "paper"
         }
        ],
        "legend": {
         "tracegroupgap": 0
        },
        "margin": {
         "t": 60
        },
        "template": {
         "data": {
          "bar": [
           {
            "error_x": {
             "color": "#2a3f5f"
            },
            "error_y": {
             "color": "#2a3f5f"
            },
            "marker": {
             "line": {
              "color": "#E5ECF6",
              "width": 0.5
             },
             "pattern": {
              "fillmode": "overlay",
              "size": 10,
              "solidity": 0.2
             }
            },
            "type": "bar"
           }
          ],
          "barpolar": [
           {
            "marker": {
             "line": {
              "color": "#E5ECF6",
              "width": 0.5
             },
             "pattern": {
              "fillmode": "overlay",
              "size": 10,
              "solidity": 0.2
             }
            },
            "type": "barpolar"
           }
          ],
          "carpet": [
           {
            "aaxis": {
             "endlinecolor": "#2a3f5f",
             "gridcolor": "white",
             "linecolor": "white",
             "minorgridcolor": "white",
             "startlinecolor": "#2a3f5f"
            },
            "baxis": {
             "endlinecolor": "#2a3f5f",
             "gridcolor": "white",
             "linecolor": "white",
             "minorgridcolor": "white",
             "startlinecolor": "#2a3f5f"
            },
            "type": "carpet"
           }
          ],
          "choropleth": [
           {
            "colorbar": {
             "outlinewidth": 0,
             "ticks": ""
            },
            "type": "choropleth"
           }
          ],
          "contour": [
           {
            "colorbar": {
             "outlinewidth": 0,
             "ticks": ""
            },
            "colorscale": [
             [
              0,
              "#0d0887"
             ],
             [
              0.1111111111111111,
              "#46039f"
             ],
             [
              0.2222222222222222,
              "#7201a8"
             ],
             [
              0.3333333333333333,
              "#9c179e"
             ],
             [
              0.4444444444444444,
              "#bd3786"
             ],
             [
              0.5555555555555556,
              "#d8576b"
             ],
             [
              0.6666666666666666,
              "#ed7953"
             ],
             [
              0.7777777777777778,
              "#fb9f3a"
             ],
             [
              0.8888888888888888,
              "#fdca26"
             ],
             [
              1,
              "#f0f921"
             ]
            ],
            "type": "contour"
           }
          ],
          "contourcarpet": [
           {
            "colorbar": {
             "outlinewidth": 0,
             "ticks": ""
            },
            "type": "contourcarpet"
           }
          ],
          "heatmap": [
           {
            "colorbar": {
             "outlinewidth": 0,
             "ticks": ""
            },
            "colorscale": [
             [
              0,
              "#0d0887"
             ],
             [
              0.1111111111111111,
              "#46039f"
             ],
             [
              0.2222222222222222,
              "#7201a8"
             ],
             [
              0.3333333333333333,
              "#9c179e"
             ],
             [
              0.4444444444444444,
              "#bd3786"
             ],
             [
              0.5555555555555556,
              "#d8576b"
             ],
             [
              0.6666666666666666,
              "#ed7953"
             ],
             [
              0.7777777777777778,
              "#fb9f3a"
             ],
             [
              0.8888888888888888,
              "#fdca26"
             ],
             [
              1,
              "#f0f921"
             ]
            ],
            "type": "heatmap"
           }
          ],
          "heatmapgl": [
           {
            "colorbar": {
             "outlinewidth": 0,
             "ticks": ""
            },
            "colorscale": [
             [
              0,
              "#0d0887"
             ],
             [
              0.1111111111111111,
              "#46039f"
             ],
             [
              0.2222222222222222,
              "#7201a8"
             ],
             [
              0.3333333333333333,
              "#9c179e"
             ],
             [
              0.4444444444444444,
              "#bd3786"
             ],
             [
              0.5555555555555556,
              "#d8576b"
             ],
             [
              0.6666666666666666,
              "#ed7953"
             ],
             [
              0.7777777777777778,
              "#fb9f3a"
             ],
             [
              0.8888888888888888,
              "#fdca26"
             ],
             [
              1,
              "#f0f921"
             ]
            ],
            "type": "heatmapgl"
           }
          ],
          "histogram": [
           {
            "marker": {
             "pattern": {
              "fillmode": "overlay",
              "size": 10,
              "solidity": 0.2
             }
            },
            "type": "histogram"
           }
          ],
          "histogram2d": [
           {
            "colorbar": {
             "outlinewidth": 0,
             "ticks": ""
            },
            "colorscale": [
             [
              0,
              "#0d0887"
             ],
             [
              0.1111111111111111,
              "#46039f"
             ],
             [
              0.2222222222222222,
              "#7201a8"
             ],
             [
              0.3333333333333333,
              "#9c179e"
             ],
             [
              0.4444444444444444,
              "#bd3786"
             ],
             [
              0.5555555555555556,
              "#d8576b"
             ],
             [
              0.6666666666666666,
              "#ed7953"
             ],
             [
              0.7777777777777778,
              "#fb9f3a"
             ],
             [
              0.8888888888888888,
              "#fdca26"
             ],
             [
              1,
              "#f0f921"
             ]
            ],
            "type": "histogram2d"
           }
          ],
          "histogram2dcontour": [
           {
            "colorbar": {
             "outlinewidth": 0,
             "ticks": ""
            },
            "colorscale": [
             [
              0,
              "#0d0887"
             ],
             [
              0.1111111111111111,
              "#46039f"
             ],
             [
              0.2222222222222222,
              "#7201a8"
             ],
             [
              0.3333333333333333,
              "#9c179e"
             ],
             [
              0.4444444444444444,
              "#bd3786"
             ],
             [
              0.5555555555555556,
              "#d8576b"
             ],
             [
              0.6666666666666666,
              "#ed7953"
             ],
             [
              0.7777777777777778,
              "#fb9f3a"
             ],
             [
              0.8888888888888888,
              "#fdca26"
             ],
             [
              1,
              "#f0f921"
             ]
            ],
            "type": "histogram2dcontour"
           }
          ],
          "mesh3d": [
           {
            "colorbar": {
             "outlinewidth": 0,
             "ticks": ""
            },
            "type": "mesh3d"
           }
          ],
          "parcoords": [
           {
            "line": {
             "colorbar": {
              "outlinewidth": 0,
              "ticks": ""
             }
            },
            "type": "parcoords"
           }
          ],
          "pie": [
           {
            "automargin": true,
            "type": "pie"
           }
          ],
          "scatter": [
           {
            "fillpattern": {
             "fillmode": "overlay",
             "size": 10,
             "solidity": 0.2
            },
            "type": "scatter"
           }
          ],
          "scatter3d": [
           {
            "line": {
             "colorbar": {
              "outlinewidth": 0,
              "ticks": ""
             }
            },
            "marker": {
             "colorbar": {
              "outlinewidth": 0,
              "ticks": ""
             }
            },
            "type": "scatter3d"
           }
          ],
          "scattercarpet": [
           {
            "marker": {
             "colorbar": {
              "outlinewidth": 0,
              "ticks": ""
             }
            },
            "type": "scattercarpet"
           }
          ],
          "scattergeo": [
           {
            "marker": {
             "colorbar": {
              "outlinewidth": 0,
              "ticks": ""
             }
            },
            "type": "scattergeo"
           }
          ],
          "scattergl": [
           {
            "marker": {
             "colorbar": {
              "outlinewidth": 0,
              "ticks": ""
             }
            },
            "type": "scattergl"
           }
          ],
          "scattermapbox": [
           {
            "marker": {
             "colorbar": {
              "outlinewidth": 0,
              "ticks": ""
             }
            },
            "type": "scattermapbox"
           }
          ],
          "scatterpolar": [
           {
            "marker": {
             "colorbar": {
              "outlinewidth": 0,
              "ticks": ""
             }
            },
            "type": "scatterpolar"
           }
          ],
          "scatterpolargl": [
           {
            "marker": {
             "colorbar": {
              "outlinewidth": 0,
              "ticks": ""
             }
            },
            "type": "scatterpolargl"
           }
          ],
          "scatterternary": [
           {
            "marker": {
             "colorbar": {
              "outlinewidth": 0,
              "ticks": ""
             }
            },
            "type": "scatterternary"
           }
          ],
          "surface": [
           {
            "colorbar": {
             "outlinewidth": 0,
             "ticks": ""
            },
            "colorscale": [
             [
              0,
              "#0d0887"
             ],
             [
              0.1111111111111111,
              "#46039f"
             ],
             [
              0.2222222222222222,
              "#7201a8"
             ],
             [
              0.3333333333333333,
              "#9c179e"
             ],
             [
              0.4444444444444444,
              "#bd3786"
             ],
             [
              0.5555555555555556,
              "#d8576b"
             ],
             [
              0.6666666666666666,
              "#ed7953"
             ],
             [
              0.7777777777777778,
              "#fb9f3a"
             ],
             [
              0.8888888888888888,
              "#fdca26"
             ],
             [
              1,
              "#f0f921"
             ]
            ],
            "type": "surface"
           }
          ],
          "table": [
           {
            "cells": {
             "fill": {
              "color": "#EBF0F8"
             },
             "line": {
              "color": "white"
             }
            },
            "header": {
             "fill": {
              "color": "#C8D4E3"
             },
             "line": {
              "color": "white"
             }
            },
            "type": "table"
           }
          ]
         },
         "layout": {
          "annotationdefaults": {
           "arrowcolor": "#2a3f5f",
           "arrowhead": 0,
           "arrowwidth": 1
          },
          "autotypenumbers": "strict",
          "coloraxis": {
           "colorbar": {
            "outlinewidth": 0,
            "ticks": ""
           }
          },
          "colorscale": {
           "diverging": [
            [
             0,
             "#8e0152"
            ],
            [
             0.1,
             "#c51b7d"
            ],
            [
             0.2,
             "#de77ae"
            ],
            [
             0.3,
             "#f1b6da"
            ],
            [
             0.4,
             "#fde0ef"
            ],
            [
             0.5,
             "#f7f7f7"
            ],
            [
             0.6,
             "#e6f5d0"
            ],
            [
             0.7,
             "#b8e186"
            ],
            [
             0.8,
             "#7fbc41"
            ],
            [
             0.9,
             "#4d9221"
            ],
            [
             1,
             "#276419"
            ]
           ],
           "sequential": [
            [
             0,
             "#0d0887"
            ],
            [
             0.1111111111111111,
             "#46039f"
            ],
            [
             0.2222222222222222,
             "#7201a8"
            ],
            [
             0.3333333333333333,
             "#9c179e"
            ],
            [
             0.4444444444444444,
             "#bd3786"
            ],
            [
             0.5555555555555556,
             "#d8576b"
            ],
            [
             0.6666666666666666,
             "#ed7953"
            ],
            [
             0.7777777777777778,
             "#fb9f3a"
            ],
            [
             0.8888888888888888,
             "#fdca26"
            ],
            [
             1,
             "#f0f921"
            ]
           ],
           "sequentialminus": [
            [
             0,
             "#0d0887"
            ],
            [
             0.1111111111111111,
             "#46039f"
            ],
            [
             0.2222222222222222,
             "#7201a8"
            ],
            [
             0.3333333333333333,
             "#9c179e"
            ],
            [
             0.4444444444444444,
             "#bd3786"
            ],
            [
             0.5555555555555556,
             "#d8576b"
            ],
            [
             0.6666666666666666,
             "#ed7953"
            ],
            [
             0.7777777777777778,
             "#fb9f3a"
            ],
            [
             0.8888888888888888,
             "#fdca26"
            ],
            [
             1,
             "#f0f921"
            ]
           ]
          },
          "colorway": [
           "#636efa",
           "#EF553B",
           "#00cc96",
           "#ab63fa",
           "#FFA15A",
           "#19d3f3",
           "#FF6692",
           "#B6E880",
           "#FF97FF",
           "#FECB52"
          ],
          "font": {
           "color": "#2a3f5f"
          },
          "geo": {
           "bgcolor": "white",
           "lakecolor": "white",
           "landcolor": "#E5ECF6",
           "showlakes": true,
           "showland": true,
           "subunitcolor": "white"
          },
          "hoverlabel": {
           "align": "left"
          },
          "hovermode": "closest",
          "mapbox": {
           "style": "light"
          },
          "paper_bgcolor": "white",
          "plot_bgcolor": "#E5ECF6",
          "polar": {
           "angularaxis": {
            "gridcolor": "white",
            "linecolor": "white",
            "ticks": ""
           },
           "bgcolor": "#E5ECF6",
           "radialaxis": {
            "gridcolor": "white",
            "linecolor": "white",
            "ticks": ""
           }
          },
          "scene": {
           "xaxis": {
            "backgroundcolor": "#E5ECF6",
            "gridcolor": "white",
            "gridwidth": 2,
            "linecolor": "white",
            "showbackground": true,
            "ticks": "",
            "zerolinecolor": "white"
           },
           "yaxis": {
            "backgroundcolor": "#E5ECF6",
            "gridcolor": "white",
            "gridwidth": 2,
            "linecolor": "white",
            "showbackground": true,
            "ticks": "",
            "zerolinecolor": "white"
           },
           "zaxis": {
            "backgroundcolor": "#E5ECF6",
            "gridcolor": "white",
            "gridwidth": 2,
            "linecolor": "white",
            "showbackground": true,
            "ticks": "",
            "zerolinecolor": "white"
           }
          },
          "shapedefaults": {
           "line": {
            "color": "#2a3f5f"
           }
          },
          "ternary": {
           "aaxis": {
            "gridcolor": "white",
            "linecolor": "white",
            "ticks": ""
           },
           "baxis": {
            "gridcolor": "white",
            "linecolor": "white",
            "ticks": ""
           },
           "bgcolor": "#E5ECF6",
           "caxis": {
            "gridcolor": "white",
            "linecolor": "white",
            "ticks": ""
           }
          },
          "title": {
           "x": 0.05
          },
          "xaxis": {
           "automargin": true,
           "gridcolor": "white",
           "linecolor": "white",
           "ticks": "",
           "title": {
            "standoff": 15
           },
           "zerolinecolor": "white",
           "zerolinewidth": 2
          },
          "yaxis": {
           "automargin": true,
           "gridcolor": "white",
           "linecolor": "white",
           "ticks": "",
           "title": {
            "standoff": 15
           },
           "zerolinecolor": "white",
           "zerolinewidth": 2
          }
         }
        },
        "xaxis": {
         "anchor": "y",
         "domain": [
          0,
          0.3133333333333333
         ],
         "title": {
          "text": "x"
         }
        },
        "xaxis2": {
         "anchor": "y2",
         "domain": [
          0.3333333333333333,
          0.6466666666666666
         ],
         "matches": "x",
         "title": {
          "text": "x"
         }
        },
        "xaxis3": {
         "anchor": "y3",
         "domain": [
          0.6666666666666666,
          0.98
         ],
         "matches": "x",
         "title": {
          "text": "x"
         }
        },
        "xaxis4": {
         "anchor": "y4",
         "domain": [
          0,
          0.3133333333333333
         ],
         "matches": "x",
         "showticklabels": false
        },
        "xaxis5": {
         "anchor": "y5",
         "domain": [
          0.3333333333333333,
          0.6466666666666666
         ],
         "matches": "x",
         "showticklabels": false
        },
        "xaxis6": {
         "anchor": "y6",
         "domain": [
          0.6666666666666666,
          0.98
         ],
         "matches": "x",
         "showticklabels": false
        },
        "xaxis7": {
         "anchor": "y7",
         "domain": [
          0,
          0.3133333333333333
         ],
         "matches": "x",
         "showticklabels": false
        },
        "xaxis8": {
         "anchor": "y8",
         "domain": [
          0.3333333333333333,
          0.6466666666666666
         ],
         "matches": "x",
         "showticklabels": false
        },
        "xaxis9": {
         "anchor": "y9",
         "domain": [
          0.6666666666666666,
          0.98
         ],
         "matches": "x",
         "showticklabels": false
        },
        "yaxis": {
         "anchor": "x",
         "domain": [
          0,
          0.3133333333333333
         ],
         "title": {
          "text": "y"
         }
        },
        "yaxis2": {
         "anchor": "x2",
         "domain": [
          0,
          0.3133333333333333
         ],
         "matches": "y",
         "showticklabels": false
        },
        "yaxis3": {
         "anchor": "x3",
         "domain": [
          0,
          0.3133333333333333
         ],
         "matches": "y",
         "showticklabels": false
        },
        "yaxis4": {
         "anchor": "x4",
         "domain": [
          0.34333333333333327,
          0.6566666666666665
         ],
         "matches": "y",
         "title": {
          "text": "y"
         }
        },
        "yaxis5": {
         "anchor": "x5",
         "domain": [
          0.34333333333333327,
          0.6566666666666665
         ],
         "matches": "y",
         "showticklabels": false
        },
        "yaxis6": {
         "anchor": "x6",
         "domain": [
          0.34333333333333327,
          0.6566666666666665
         ],
         "matches": "y",
         "showticklabels": false
        },
        "yaxis7": {
         "anchor": "x7",
         "domain": [
          0.6866666666666665,
          0.9999999999999998
         ],
         "matches": "y",
         "title": {
          "text": "y"
         }
        },
        "yaxis8": {
         "anchor": "x8",
         "domain": [
          0.6866666666666665,
          0.9999999999999998
         ],
         "matches": "y",
         "showticklabels": false
        },
        "yaxis9": {
         "anchor": "x9",
         "domain": [
          0.6866666666666665,
          0.9999999999999998
         ],
         "matches": "y",
         "showticklabels": false
        }
       }
      }
     },
     "metadata": {},
     "output_type": "display_data"
    }
   ],
   "source": [
    "lenght_scales = [0.1, 0.5, 1]\n",
    "alphas = [1, 5, 10]\n",
    "param_combinaisons = np.stack(np.meshgrid(lenght_scales, alphas), -1).reshape(-1, 2)\n",
    "\n",
    "signal_length = 10\n",
    "X = np.linspace(0, signal_length, 200).reshape(-1, 1)\n",
    "df_samples = []\n",
    "for i in range(param_combinaisons.shape[0]):\n",
    "    alpha = param_combinaisons[i, 1]\n",
    "    length = param_combinaisons[i, 0]\n",
    "    kernel = alpha * RBF(length_scale=length)\n",
    "    gp = GaussianProcessRegressor(kernel=kernel, random_state=1)\n",
    "    df_samples.append(\n",
    "        pd.DataFrame(dict(\n",
    "            alpha=alpha,\n",
    "            length=length,\n",
    "            x = X.flatten(),\n",
    "            y = gp.sample_y(X, 1).flatten()\n",
    "        ))\n",
    "    )\n",
    "df_samples = pd.concat(df_samples)\n",
    "px.line(df_samples, x='x', y='y', facet_col='alpha', facet_row='length')\n"
   ]
  },
  {
   "attachments": {},
   "cell_type": "markdown",
   "metadata": {},
   "source": [
    "Generate a signal, and set the units on the x-axis in quarter-notes, so that a signal length of 16 contains 4 measures in the context of a 4/4 time signature. As before, I reshape the `X` variable to transform it into a column vector. Indeed, *scikit-learn* expects X inputs as columns because it can accept many inputs, conventionnally stacked as columns in data science."
   ]
  },
  {
   "cell_type": "code",
   "execution_count": 42,
   "metadata": {},
   "outputs": [
    {
     "data": {
      "application/vnd.plotly.v1+json": {
       "config": {
        "plotlyServerURL": "https://plot.ly"
       },
       "data": [
        {
         "mode": "lines",
         "name": "Signal",
         "type": "scatter",
         "x": [
          0,
          0.08040201005025126,
          0.16080402010050251,
          0.24120603015075376,
          0.32160804020100503,
          0.4020100502512563,
          0.4824120603015075,
          0.5628140703517588,
          0.6432160804020101,
          0.7236180904522613,
          0.8040201005025126,
          0.8844221105527639,
          0.964824120603015,
          1.0452261306532664,
          1.1256281407035176,
          1.206030150753769,
          1.2864321608040201,
          1.3668341708542713,
          1.4472361809045227,
          1.5276381909547738,
          1.6080402010050252,
          1.6884422110552764,
          1.7688442211055277,
          1.849246231155779,
          1.92964824120603,
          2.0100502512562812,
          2.090452261306533,
          2.170854271356784,
          2.251256281407035,
          2.3316582914572863,
          2.412060301507538,
          2.492462311557789,
          2.5728643216080402,
          2.6532663316582914,
          2.7336683417085426,
          2.814070351758794,
          2.8944723618090453,
          2.9748743718592965,
          3.0552763819095476,
          3.1356783919597992,
          3.2160804020100504,
          3.2964824120603016,
          3.3768844221105527,
          3.457286432160804,
          3.5376884422110555,
          3.6180904522613067,
          3.698492462311558,
          3.778894472361809,
          3.85929648241206,
          3.9396984924623117,
          4.0201005025125625,
          4.100502512562814,
          4.180904522613066,
          4.261306532663316,
          4.341708542713568,
          4.42211055276382,
          4.50251256281407,
          4.582914572864322,
          4.663316582914573,
          4.743718592964824,
          4.824120603015076,
          4.9045226130653266,
          4.984924623115578,
          5.065326633165829,
          5.1457286432160805,
          5.226130653266332,
          5.306532663316583,
          5.386934673366834,
          5.467336683417085,
          5.547738693467337,
          5.628140703517588,
          5.708542713567839,
          5.788944723618091,
          5.869346733668341,
          5.949748743718593,
          6.030150753768845,
          6.110552763819095,
          6.190954773869347,
          6.2713567839195985,
          6.351758793969849,
          6.432160804020101,
          6.5125628140703515,
          6.592964824120603,
          6.673366834170855,
          6.7537688442211055,
          6.834170854271357,
          6.914572864321608,
          6.994974874371859,
          7.075376884422111,
          7.155778894472362,
          7.236180904522613,
          7.316582914572864,
          7.396984924623116,
          7.477386934673367,
          7.557788944723618,
          7.63819095477387,
          7.71859296482412,
          7.798994974874372,
          7.8793969849246235,
          7.959798994974874,
          8.040201005025125,
          8.120603015075377,
          8.201005025125628,
          8.28140703517588,
          8.361809045226131,
          8.442211055276381,
          8.522613065326633,
          8.603015075376884,
          8.683417085427136,
          8.763819095477388,
          8.84422110552764,
          8.924623115577889,
          9.00502512562814,
          9.085427135678392,
          9.165829145728644,
          9.246231155778895,
          9.326633165829145,
          9.407035175879397,
          9.487437185929648,
          9.5678391959799,
          9.648241206030152,
          9.728643216080402,
          9.809045226130653,
          9.889447236180905,
          9.969849246231156,
          10.050251256281408,
          10.130653266331658,
          10.21105527638191,
          10.291457286432161,
          10.371859296482413,
          10.452261306532664,
          10.532663316582914,
          10.613065326633166,
          10.693467336683417,
          10.773869346733669,
          10.85427135678392,
          10.93467336683417,
          11.015075376884422,
          11.095477386934673,
          11.175879396984925,
          11.256281407035177,
          11.336683417085426,
          11.417085427135678,
          11.49748743718593,
          11.577889447236181,
          11.658291457286433,
          11.738693467336683,
          11.819095477386934,
          11.899497487437186,
          11.979899497487438,
          12.06030150753769,
          12.14070351758794,
          12.22110552763819,
          12.301507537688442,
          12.381909547738694,
          12.462311557788945,
          12.542713567839197,
          12.623115577889447,
          12.703517587939698,
          12.78391959798995,
          12.864321608040202,
          12.944723618090453,
          13.025125628140703,
          13.105527638190955,
          13.185929648241206,
          13.266331658291458,
          13.34673366834171,
          13.42713567839196,
          13.507537688442211,
          13.587939698492463,
          13.668341708542714,
          13.748743718592966,
          13.829145728643216,
          13.909547738693467,
          13.989949748743719,
          14.07035175879397,
          14.150753768844222,
          14.231155778894472,
          14.311557788944723,
          14.391959798994975,
          14.472361809045227,
          14.552763819095478,
          14.633165829145728,
          14.71356783919598,
          14.793969849246231,
          14.874371859296483,
          14.954773869346734,
          15.035175879396984,
          15.115577889447236,
          15.195979899497488,
          15.27638190954774,
          15.35678391959799,
          15.43718592964824,
          15.517587939698492,
          15.597989949748744,
          15.678391959798995,
          15.758793969849247,
          15.839195979899499,
          15.919597989949748,
          16
         ],
         "y": [
          63.868831511704435,
          62.957627579656084,
          61.999657884043195,
          61.09640130517148,
          60.33330392394916,
          59.77199209809036,
          59.446045988713394,
          59.35992450652505,
          59.490683545913406,
          59.792166349867024,
          60.201293548639384,
          60.645922751924786,
          61.05360168053384,
          61.36052027676314,
          61.52000911913451,
          61.509821961557904,
          61.33708805890059,
          61.0393512841843,
          60.680026328726925,
          60.33746759113392,
          60.088737561034854,
          59.99154623272271,
          60.06947399068567,
          60.30542245224949,
          60.64587437560222,
          61.01481681630275,
          61.33264084467833,
          61.53367254618937,
          61.576863882356754,
          61.44724814111994,
          61.149528718203115,
          60.698072513237,
          60.10844004801858,
          59.394255878145614,
          58.57045761645374,
          57.66097832212493,
          56.70694934557749,
          55.77118633280609,
          54.93600586770957,
          54.29367959223605,
          53.93118612855291,
          53.91265313683656,
          54.26362951359652,
          54.96108373668172,
          55.931969886973064,
          57.061562528688135,
          58.210719135249256,
          59.23910817237664,
          60.02965305588954,
          60.508653535774464,
          60.656671407822614,
          60.50744560475159,
          60.13533416055319,
          59.63505380714503,
          59.099720852939576,
          58.603509528062325,
          58.193437774134836,
          57.89146068422917,
          57.704304222663914,
          57.635757815328326,
          57.69543653345013,
          57.89969911102702,
          58.263816734109504,
          58.78833427074833,
          59.445313855247605,
          60.170748353904294,
          60.86757948619273,
          61.420209816452086,
          61.7174122833731,
          61.6775629926773,
          61.26914962799655,
          60.520757912057505,
          59.51777557046256,
          58.38675263462773,
          57.27161935999148,
          56.30772388538707,
          55.599598866528154,
          55.20663104423804,
          55.13822902148055,
          55.35762503654225,
          55.79190407410081,
          56.34550496800919,
          56.91502067316333,
          57.40388787666234,
          57.73597670752998,
          57.86684343763704,
          57.79086040564176,
          57.542144598098936,
          57.18776868449268,
          56.81334485554328,
          56.50334570612502,
          56.32065112372808,
          56.29086180541597,
          56.39621243925458,
          56.581457075569084,
          56.77049909695688,
          56.88904619036316,
          56.88640708786437,
          56.74968984304792,
          56.50611092442692,
          56.213181939951404,
          55.94062532976421,
          55.7504751498572,
          55.6819073057619,
          55.744959665502236,
          55.92356498176028,
          56.184864140256074,
          56.49008067690843,
          56.80285118246851,
          57.09326296683764,
          57.33856565503282,
          57.523131001958134,
          57.64001252864068,
          57.694680357920866,
          57.7092969406712,
          57.72457957954908,
          57.796595961513,
          57.98762708888514,
          58.35264439932043,
          58.924866299029034,
          59.704556846967016,
          60.654462432620406,
          61.70344754322442,
          62.75760381308211,
          63.716120514227065,
          64.48806865667638,
          65.00627608018569,
          65.23556246103337,
          65.17434818025968,
          64.8504294942625,
          64.31295019858285,
          63.623072713182886,
          62.84551900194529,
          62.04238829069507,
          61.26970643857019,
          60.57631203421915,
          60.00404181745645,
          59.58784420154357,
          59.35456767046187,
          59.319776741200705,
          59.48300347207501,
          59.823007423073605,
          60.29532946587483,
          60.83425757259845,
          61.36010543780531,
          61.790856219449424,
          62.0555188980313,
          62.10575252548249,
          61.9227984808262,
          61.51827375102681,
          60.92926137227419,
          60.20962150912694,
          59.42013255329022,
          58.61984910418476,
          57.860223189880834,
          57.1823822084291,
          56.616895714441576,
          56.18463623174607,
          55.89725152555756,
          55.75634342444079,
          55.75153373978718,
          55.85864629249055,
          56.03969761296148,
          56.24589458557181,
          56.42356148268888,
          56.521533813119,
          56.49783791679329,
          56.32385431592249,
          55.98543458351885,
          55.48185799618143,
          54.82429806436612,
          54.03521877112598,
          53.14905636878122,
          52.21324474247249,
          51.28781787023662,
          50.44183182846614,
          49.74583107370393,
          49.261162584986494,
          49.02865247496983,
          49.06019241800847,
          49.33657070225961,
          49.81315530715048,
          50.43228136101958,
          51.138494281068375,
          51.891388057081976,
          52.671498049044594,
          53.47736557132203,
          54.315439673908024,
          55.18735489668409,
          56.080113369204504,
          56.96335820356606,
          57.794894559472326,
          58.532182790522974,
          59.145101619516396,
          59.62483902129966,
          59.98539356327777,
          60.257197569406145,
          60.475484388736774,
          60.66800573163052,
          60.846728104223516
         ]
        }
       ],
       "layout": {
        "template": {
         "data": {
          "bar": [
           {
            "error_x": {
             "color": "#2a3f5f"
            },
            "error_y": {
             "color": "#2a3f5f"
            },
            "marker": {
             "line": {
              "color": "#E5ECF6",
              "width": 0.5
             },
             "pattern": {
              "fillmode": "overlay",
              "size": 10,
              "solidity": 0.2
             }
            },
            "type": "bar"
           }
          ],
          "barpolar": [
           {
            "marker": {
             "line": {
              "color": "#E5ECF6",
              "width": 0.5
             },
             "pattern": {
              "fillmode": "overlay",
              "size": 10,
              "solidity": 0.2
             }
            },
            "type": "barpolar"
           }
          ],
          "carpet": [
           {
            "aaxis": {
             "endlinecolor": "#2a3f5f",
             "gridcolor": "white",
             "linecolor": "white",
             "minorgridcolor": "white",
             "startlinecolor": "#2a3f5f"
            },
            "baxis": {
             "endlinecolor": "#2a3f5f",
             "gridcolor": "white",
             "linecolor": "white",
             "minorgridcolor": "white",
             "startlinecolor": "#2a3f5f"
            },
            "type": "carpet"
           }
          ],
          "choropleth": [
           {
            "colorbar": {
             "outlinewidth": 0,
             "ticks": ""
            },
            "type": "choropleth"
           }
          ],
          "contour": [
           {
            "colorbar": {
             "outlinewidth": 0,
             "ticks": ""
            },
            "colorscale": [
             [
              0,
              "#0d0887"
             ],
             [
              0.1111111111111111,
              "#46039f"
             ],
             [
              0.2222222222222222,
              "#7201a8"
             ],
             [
              0.3333333333333333,
              "#9c179e"
             ],
             [
              0.4444444444444444,
              "#bd3786"
             ],
             [
              0.5555555555555556,
              "#d8576b"
             ],
             [
              0.6666666666666666,
              "#ed7953"
             ],
             [
              0.7777777777777778,
              "#fb9f3a"
             ],
             [
              0.8888888888888888,
              "#fdca26"
             ],
             [
              1,
              "#f0f921"
             ]
            ],
            "type": "contour"
           }
          ],
          "contourcarpet": [
           {
            "colorbar": {
             "outlinewidth": 0,
             "ticks": ""
            },
            "type": "contourcarpet"
           }
          ],
          "heatmap": [
           {
            "colorbar": {
             "outlinewidth": 0,
             "ticks": ""
            },
            "colorscale": [
             [
              0,
              "#0d0887"
             ],
             [
              0.1111111111111111,
              "#46039f"
             ],
             [
              0.2222222222222222,
              "#7201a8"
             ],
             [
              0.3333333333333333,
              "#9c179e"
             ],
             [
              0.4444444444444444,
              "#bd3786"
             ],
             [
              0.5555555555555556,
              "#d8576b"
             ],
             [
              0.6666666666666666,
              "#ed7953"
             ],
             [
              0.7777777777777778,
              "#fb9f3a"
             ],
             [
              0.8888888888888888,
              "#fdca26"
             ],
             [
              1,
              "#f0f921"
             ]
            ],
            "type": "heatmap"
           }
          ],
          "heatmapgl": [
           {
            "colorbar": {
             "outlinewidth": 0,
             "ticks": ""
            },
            "colorscale": [
             [
              0,
              "#0d0887"
             ],
             [
              0.1111111111111111,
              "#46039f"
             ],
             [
              0.2222222222222222,
              "#7201a8"
             ],
             [
              0.3333333333333333,
              "#9c179e"
             ],
             [
              0.4444444444444444,
              "#bd3786"
             ],
             [
              0.5555555555555556,
              "#d8576b"
             ],
             [
              0.6666666666666666,
              "#ed7953"
             ],
             [
              0.7777777777777778,
              "#fb9f3a"
             ],
             [
              0.8888888888888888,
              "#fdca26"
             ],
             [
              1,
              "#f0f921"
             ]
            ],
            "type": "heatmapgl"
           }
          ],
          "histogram": [
           {
            "marker": {
             "pattern": {
              "fillmode": "overlay",
              "size": 10,
              "solidity": 0.2
             }
            },
            "type": "histogram"
           }
          ],
          "histogram2d": [
           {
            "colorbar": {
             "outlinewidth": 0,
             "ticks": ""
            },
            "colorscale": [
             [
              0,
              "#0d0887"
             ],
             [
              0.1111111111111111,
              "#46039f"
             ],
             [
              0.2222222222222222,
              "#7201a8"
             ],
             [
              0.3333333333333333,
              "#9c179e"
             ],
             [
              0.4444444444444444,
              "#bd3786"
             ],
             [
              0.5555555555555556,
              "#d8576b"
             ],
             [
              0.6666666666666666,
              "#ed7953"
             ],
             [
              0.7777777777777778,
              "#fb9f3a"
             ],
             [
              0.8888888888888888,
              "#fdca26"
             ],
             [
              1,
              "#f0f921"
             ]
            ],
            "type": "histogram2d"
           }
          ],
          "histogram2dcontour": [
           {
            "colorbar": {
             "outlinewidth": 0,
             "ticks": ""
            },
            "colorscale": [
             [
              0,
              "#0d0887"
             ],
             [
              0.1111111111111111,
              "#46039f"
             ],
             [
              0.2222222222222222,
              "#7201a8"
             ],
             [
              0.3333333333333333,
              "#9c179e"
             ],
             [
              0.4444444444444444,
              "#bd3786"
             ],
             [
              0.5555555555555556,
              "#d8576b"
             ],
             [
              0.6666666666666666,
              "#ed7953"
             ],
             [
              0.7777777777777778,
              "#fb9f3a"
             ],
             [
              0.8888888888888888,
              "#fdca26"
             ],
             [
              1,
              "#f0f921"
             ]
            ],
            "type": "histogram2dcontour"
           }
          ],
          "mesh3d": [
           {
            "colorbar": {
             "outlinewidth": 0,
             "ticks": ""
            },
            "type": "mesh3d"
           }
          ],
          "parcoords": [
           {
            "line": {
             "colorbar": {
              "outlinewidth": 0,
              "ticks": ""
             }
            },
            "type": "parcoords"
           }
          ],
          "pie": [
           {
            "automargin": true,
            "type": "pie"
           }
          ],
          "scatter": [
           {
            "fillpattern": {
             "fillmode": "overlay",
             "size": 10,
             "solidity": 0.2
            },
            "type": "scatter"
           }
          ],
          "scatter3d": [
           {
            "line": {
             "colorbar": {
              "outlinewidth": 0,
              "ticks": ""
             }
            },
            "marker": {
             "colorbar": {
              "outlinewidth": 0,
              "ticks": ""
             }
            },
            "type": "scatter3d"
           }
          ],
          "scattercarpet": [
           {
            "marker": {
             "colorbar": {
              "outlinewidth": 0,
              "ticks": ""
             }
            },
            "type": "scattercarpet"
           }
          ],
          "scattergeo": [
           {
            "marker": {
             "colorbar": {
              "outlinewidth": 0,
              "ticks": ""
             }
            },
            "type": "scattergeo"
           }
          ],
          "scattergl": [
           {
            "marker": {
             "colorbar": {
              "outlinewidth": 0,
              "ticks": ""
             }
            },
            "type": "scattergl"
           }
          ],
          "scattermapbox": [
           {
            "marker": {
             "colorbar": {
              "outlinewidth": 0,
              "ticks": ""
             }
            },
            "type": "scattermapbox"
           }
          ],
          "scatterpolar": [
           {
            "marker": {
             "colorbar": {
              "outlinewidth": 0,
              "ticks": ""
             }
            },
            "type": "scatterpolar"
           }
          ],
          "scatterpolargl": [
           {
            "marker": {
             "colorbar": {
              "outlinewidth": 0,
              "ticks": ""
             }
            },
            "type": "scatterpolargl"
           }
          ],
          "scatterternary": [
           {
            "marker": {
             "colorbar": {
              "outlinewidth": 0,
              "ticks": ""
             }
            },
            "type": "scatterternary"
           }
          ],
          "surface": [
           {
            "colorbar": {
             "outlinewidth": 0,
             "ticks": ""
            },
            "colorscale": [
             [
              0,
              "#0d0887"
             ],
             [
              0.1111111111111111,
              "#46039f"
             ],
             [
              0.2222222222222222,
              "#7201a8"
             ],
             [
              0.3333333333333333,
              "#9c179e"
             ],
             [
              0.4444444444444444,
              "#bd3786"
             ],
             [
              0.5555555555555556,
              "#d8576b"
             ],
             [
              0.6666666666666666,
              "#ed7953"
             ],
             [
              0.7777777777777778,
              "#fb9f3a"
             ],
             [
              0.8888888888888888,
              "#fdca26"
             ],
             [
              1,
              "#f0f921"
             ]
            ],
            "type": "surface"
           }
          ],
          "table": [
           {
            "cells": {
             "fill": {
              "color": "#EBF0F8"
             },
             "line": {
              "color": "white"
             }
            },
            "header": {
             "fill": {
              "color": "#C8D4E3"
             },
             "line": {
              "color": "white"
             }
            },
            "type": "table"
           }
          ]
         },
         "layout": {
          "annotationdefaults": {
           "arrowcolor": "#2a3f5f",
           "arrowhead": 0,
           "arrowwidth": 1
          },
          "autotypenumbers": "strict",
          "coloraxis": {
           "colorbar": {
            "outlinewidth": 0,
            "ticks": ""
           }
          },
          "colorscale": {
           "diverging": [
            [
             0,
             "#8e0152"
            ],
            [
             0.1,
             "#c51b7d"
            ],
            [
             0.2,
             "#de77ae"
            ],
            [
             0.3,
             "#f1b6da"
            ],
            [
             0.4,
             "#fde0ef"
            ],
            [
             0.5,
             "#f7f7f7"
            ],
            [
             0.6,
             "#e6f5d0"
            ],
            [
             0.7,
             "#b8e186"
            ],
            [
             0.8,
             "#7fbc41"
            ],
            [
             0.9,
             "#4d9221"
            ],
            [
             1,
             "#276419"
            ]
           ],
           "sequential": [
            [
             0,
             "#0d0887"
            ],
            [
             0.1111111111111111,
             "#46039f"
            ],
            [
             0.2222222222222222,
             "#7201a8"
            ],
            [
             0.3333333333333333,
             "#9c179e"
            ],
            [
             0.4444444444444444,
             "#bd3786"
            ],
            [
             0.5555555555555556,
             "#d8576b"
            ],
            [
             0.6666666666666666,
             "#ed7953"
            ],
            [
             0.7777777777777778,
             "#fb9f3a"
            ],
            [
             0.8888888888888888,
             "#fdca26"
            ],
            [
             1,
             "#f0f921"
            ]
           ],
           "sequentialminus": [
            [
             0,
             "#0d0887"
            ],
            [
             0.1111111111111111,
             "#46039f"
            ],
            [
             0.2222222222222222,
             "#7201a8"
            ],
            [
             0.3333333333333333,
             "#9c179e"
            ],
            [
             0.4444444444444444,
             "#bd3786"
            ],
            [
             0.5555555555555556,
             "#d8576b"
            ],
            [
             0.6666666666666666,
             "#ed7953"
            ],
            [
             0.7777777777777778,
             "#fb9f3a"
            ],
            [
             0.8888888888888888,
             "#fdca26"
            ],
            [
             1,
             "#f0f921"
            ]
           ]
          },
          "colorway": [
           "#636efa",
           "#EF553B",
           "#00cc96",
           "#ab63fa",
           "#FFA15A",
           "#19d3f3",
           "#FF6692",
           "#B6E880",
           "#FF97FF",
           "#FECB52"
          ],
          "font": {
           "color": "#2a3f5f"
          },
          "geo": {
           "bgcolor": "white",
           "lakecolor": "white",
           "landcolor": "#E5ECF6",
           "showlakes": true,
           "showland": true,
           "subunitcolor": "white"
          },
          "hoverlabel": {
           "align": "left"
          },
          "hovermode": "closest",
          "mapbox": {
           "style": "light"
          },
          "paper_bgcolor": "white",
          "plot_bgcolor": "#E5ECF6",
          "polar": {
           "angularaxis": {
            "gridcolor": "white",
            "linecolor": "white",
            "ticks": ""
           },
           "bgcolor": "#E5ECF6",
           "radialaxis": {
            "gridcolor": "white",
            "linecolor": "white",
            "ticks": ""
           }
          },
          "scene": {
           "xaxis": {
            "backgroundcolor": "#E5ECF6",
            "gridcolor": "white",
            "gridwidth": 2,
            "linecolor": "white",
            "showbackground": true,
            "ticks": "",
            "zerolinecolor": "white"
           },
           "yaxis": {
            "backgroundcolor": "#E5ECF6",
            "gridcolor": "white",
            "gridwidth": 2,
            "linecolor": "white",
            "showbackground": true,
            "ticks": "",
            "zerolinecolor": "white"
           },
           "zaxis": {
            "backgroundcolor": "#E5ECF6",
            "gridcolor": "white",
            "gridwidth": 2,
            "linecolor": "white",
            "showbackground": true,
            "ticks": "",
            "zerolinecolor": "white"
           }
          },
          "shapedefaults": {
           "line": {
            "color": "#2a3f5f"
           }
          },
          "ternary": {
           "aaxis": {
            "gridcolor": "white",
            "linecolor": "white",
            "ticks": ""
           },
           "baxis": {
            "gridcolor": "white",
            "linecolor": "white",
            "ticks": ""
           },
           "bgcolor": "#E5ECF6",
           "caxis": {
            "gridcolor": "white",
            "linecolor": "white",
            "ticks": ""
           }
          },
          "title": {
           "x": 0.05
          },
          "xaxis": {
           "automargin": true,
           "gridcolor": "white",
           "linecolor": "white",
           "ticks": "",
           "title": {
            "standoff": 15
           },
           "zerolinecolor": "white",
           "zerolinewidth": 2
          },
          "yaxis": {
           "automargin": true,
           "gridcolor": "white",
           "linecolor": "white",
           "ticks": "",
           "title": {
            "standoff": 15
           },
           "zerolinecolor": "white",
           "zerolinewidth": 2
          }
         }
        },
        "xaxis": {
         "title": {
          "text": "Time (quarter notes)"
         }
        },
        "yaxis": {
         "title": {
          "text": "Midi note"
         }
        }
       }
      }
     },
     "metadata": {},
     "output_type": "display_data"
    }
   ],
   "source": [
    "signal_length = 16\n",
    "X = np.linspace(0, signal_length, 200).reshape(-1, 1)\n",
    "gp = GaussianProcessRegressor(kernel = 10.0 * RBF(length_scale=0.5))\n",
    "y_samples = 60 + gp.sample_y(X, 1) # 1 for one signal, + 60 to offset and obtain a midi note\n",
    "(\n",
    "    go.Figure()\n",
    "    .add_trace(go.Scatter(x=X.flatten(), y=y_samples[:, 0].flatten(), mode='lines', name='Signal'))\n",
    "    .update_layout(xaxis=dict(title='Time (quarter notes)'), yaxis=dict(title='Midi note'))\n",
    ")"
   ]
  },
  {
   "cell_type": "code",
   "execution_count": 4,
   "metadata": {},
   "outputs": [
    {
     "ename": "NameError",
     "evalue": "name 'n_measures' is not defined",
     "output_type": "error",
     "traceback": [
      "\u001b[0;31m---------------------------------------------------------------------------\u001b[0m",
      "\u001b[0;31mNameError\u001b[0m                                 Traceback (most recent call last)",
      "Cell \u001b[0;32mIn[4], line 3\u001b[0m\n\u001b[1;32m      1\u001b[0m n_measures_in_durations \u001b[39m=\u001b[39m \u001b[39m2\u001b[39m\n\u001b[1;32m      2\u001b[0m qnlength \u001b[39m=\u001b[39m n_measures_in_durations \u001b[39m*\u001b[39m \u001b[39m4\u001b[39m\n\u001b[0;32m----> 3\u001b[0m n_cycles \u001b[39m=\u001b[39m n_measures \u001b[39m/\u001b[39m n_measures_in_durations\n\u001b[1;32m      4\u001b[0m gp1_durations \u001b[39m=\u001b[39m random_beat(qnlength\u001b[39m=\u001b[39mqnlength, durations\u001b[39m=\u001b[39m[\u001b[39m0.5\u001b[39m, \u001b[39m0.5\u001b[39m, \u001b[39m1\u001b[39m, \u001b[39m2\u001b[39m])\n\u001b[1;32m      5\u001b[0m gp1_durations_iterator \u001b[39m=\u001b[39m itertools\u001b[39m.\u001b[39mcycle(gp1_durations)\n",
      "\u001b[0;31mNameError\u001b[0m: name 'n_measures' is not defined"
     ]
    }
   ],
   "source": [
    "n_measures_in_durations = 2\n",
    "qnlength = n_measures_in_durations * 4\n",
    "n_cycles = n_measures / n_measures_in_durations\n",
    "gp1_durations = random_beat(qnlength=qnlength, durations=[0.5, 0.5, 1, 2])\n",
    "gp1_durations_iterator = itertools.cycle(gp1_durations)\n",
    "gp1_times_qn = []\n",
    "time_i = 0\n",
    "for i in range(int(n_cycles * len(gp1_durations))):\n",
    "    time_i = time_i + next(gp1_durations_iterator)\n",
    "    gp1_times_qn.append(time_i)"
   ]
  },
  {
   "cell_type": "code",
   "execution_count": 63,
   "metadata": {},
   "outputs": [],
   "source": [
    "X_qn = X * 4\n",
    "gp1_intervals = []\n",
    "for t in gp1_times_qn:\n",
    "    gp1_intervals.append(np.interp(t, X_qn.flatten(), y_samples[:, 0]))"
   ]
  },
  {
   "cell_type": "code",
   "execution_count": 64,
   "metadata": {},
   "outputs": [
    {
     "data": {
      "application/vnd.plotly.v1+json": {
       "config": {
        "plotlyServerURL": "https://plot.ly"
       },
       "data": [
        {
         "mode": "lines",
         "name": "Signal",
         "type": "scatter",
         "x": [
          0,
          0.20100502512562815,
          0.4020100502512563,
          0.6030150753768845,
          0.8040201005025126,
          1.0050251256281408,
          1.206030150753769,
          1.407035175879397,
          1.6080402010050252,
          1.8090452261306533,
          2.0100502512562817,
          2.21105527638191,
          2.412060301507538,
          2.613065326633166,
          2.814070351758794,
          3.0150753768844223,
          3.2160804020100504,
          3.4170854271356785,
          3.6180904522613067,
          3.819095477386935,
          4.020100502512563,
          4.2211055276381915,
          4.42211055276382,
          4.623115577889448,
          4.824120603015076,
          5.025125628140704,
          5.226130653266332,
          5.42713567839196,
          5.628140703517588,
          5.8291457286432165,
          6.030150753768845,
          6.231155778894473,
          6.432160804020101,
          6.633165829145729,
          6.834170854271357,
          7.035175879396985,
          7.236180904522613,
          7.437185929648241,
          7.63819095477387,
          7.839195979899498,
          8.040201005025127,
          8.241206030150755,
          8.442211055276383,
          8.643216080402011,
          8.84422110552764,
          9.045226130653267,
          9.246231155778895,
          9.447236180904524,
          9.648241206030152,
          9.84924623115578,
          10.050251256281408,
          10.251256281407036,
          10.452261306532664,
          10.653266331658292,
          10.85427135678392,
          11.055276381909549,
          11.256281407035177,
          11.457286432160805,
          11.658291457286433,
          11.859296482412061,
          12.06030150753769,
          12.261306532663317,
          12.462311557788945,
          12.663316582914574,
          12.864321608040202,
          13.06532663316583,
          13.266331658291458,
          13.467336683417086,
          13.668341708542714,
          13.869346733668342,
          14.07035175879397,
          14.271356783919598,
          14.472361809045227,
          14.673366834170855,
          14.874371859296483,
          15.075376884422111,
          15.27638190954774,
          15.477386934673367,
          15.678391959798995,
          15.879396984924623,
          16.080402010050253,
          16.28140703517588,
          16.48241206030151,
          16.683417085427138,
          16.884422110552766,
          17.085427135678394,
          17.286432160804022,
          17.48743718592965,
          17.68844221105528,
          17.889447236180906,
          18.090452261306535,
          18.291457286432163,
          18.49246231155779,
          18.69346733668342,
          18.894472361809047,
          19.095477386934675,
          19.296482412060303,
          19.49748743718593,
          19.69849246231156,
          19.899497487437188,
          20.100502512562816,
          20.301507537688444,
          20.502512562814072,
          20.7035175879397,
          20.90452261306533,
          21.105527638190956,
          21.306532663316585,
          21.507537688442213,
          21.70854271356784,
          21.90954773869347,
          22.110552763819097,
          22.311557788944725,
          22.512562814070353,
          22.71356783919598,
          22.91457286432161,
          23.115577889447238,
          23.316582914572866,
          23.517587939698494,
          23.718592964824122,
          23.91959798994975,
          24.12060301507538,
          24.321608040201006,
          24.522613065326635,
          24.723618090452263,
          24.92462311557789,
          25.12562814070352,
          25.326633165829147,
          25.527638190954775,
          25.728643216080403,
          25.92964824120603,
          26.13065326633166,
          26.331658291457288,
          26.532663316582916,
          26.733668341708544,
          26.934673366834172,
          27.1356783919598,
          27.33668341708543,
          27.537688442211056,
          27.738693467336685,
          27.939698492462313,
          28.14070351758794,
          28.34170854271357,
          28.542713567839197,
          28.743718592964825,
          28.944723618090453,
          29.14572864321608,
          29.34673366834171,
          29.547738693467338,
          29.748743718592966,
          29.949748743718594,
          30.150753768844222,
          30.35175879396985,
          30.55276381909548,
          30.753768844221106,
          30.954773869346734,
          31.155778894472363,
          31.35678391959799,
          31.55778894472362,
          31.758793969849247,
          31.959798994974875,
          32.16080402010051,
          32.36180904522613,
          32.56281407035176,
          32.76381909547739,
          32.96482412060302,
          33.165829145728644,
          33.366834170854275,
          33.5678391959799,
          33.76884422110553,
          33.969849246231156,
          34.17085427135679,
          34.37185929648241,
          34.572864321608044,
          34.77386934673367,
          34.9748743718593,
          35.175879396984925,
          35.37688442211056,
          35.57788944723618,
          35.77889447236181,
          35.97989949748744,
          36.18090452261307,
          36.381909547738694,
          36.582914572864325,
          36.78391959798995,
          36.98492462311558,
          37.185929648241206,
          37.38693467336684,
          37.58793969849246,
          37.788944723618094,
          37.98994974874372,
          38.19095477386935,
          38.391959798994975,
          38.59296482412061,
          38.79396984924623,
          38.99497487437186,
          39.19597989949749,
          39.39698492462312,
          39.597989949748744,
          39.798994974874375,
          40
         ],
         "y": [
          -0.4202417326787998,
          -0.2717145533620317,
          0.27605184779659975,
          1.214394798575101,
          2.433602642885632,
          3.747538045696934,
          4.945276699167326,
          5.84906066407763,
          6.358010721131941,
          6.464779497892749,
          6.243216528845538,
          5.815109703977236,
          5.310159679719882,
          4.833613590595543,
          4.450341273327575,
          4.185399557009831,
          4.034155157675991,
          3.97356161663428,
          3.9699237703602295,
          3.98354071087034,
          3.9728825335673275,
          3.8995997814992105,
          3.7331096722406416,
          3.452683891339516,
          3.046490715052594,
          2.509202799828972,
          1.8408847116359128,
          1.0495812094979666,
          0.15870647875125907,
          -0.7822155424848236,
          -1.68875521756181,
          -2.443109554206451,
          -2.912962811774067,
          -2.9869627388530104,
          -2.6154437563716746,
          -1.8387668182604422,
          -0.7892029929630792,
          0.33576993704013536,
          1.3181550637180033,
          1.965753876142714,
          2.1470263993180057,
          1.8093620454928785,
          0.9818917540972681,
          -0.23438979545435962,
          -1.6873942279716816,
          -3.2033139555087717,
          -4.618886339995258,
          -5.807306888037543,
          -6.689475100302479,
          -7.229123318571207,
          -7.419233590709741,
          -7.271351480824172,
          -6.815311515774678,
          -6.10744490287734,
          -5.237780771420606,
          -4.326491748382023,
          -3.5063028284088005,
          -2.8955665728342512,
          -2.5713178064210935,
          -2.551568365338446,
          -2.7929294346815285,
          -3.2050832121985633,
          -3.67850730930716,
          -4.1170156470827095,
          -4.463819437770301,
          -4.710870389610646,
          -4.886908556948719,
          -5.028454265328272,
          -5.146419769532283,
          -5.204700862583249,
          -5.123036833828155,
          -4.805406504508362,
          -4.182603908141987,
          -3.2503954027181146,
          -2.086833872608164,
          -0.8420071952533027,
          0.2953012292657289,
          1.142508836496895,
          1.5668166345379133,
          1.5170596591311203,
          1.0369044957407063,
          0.2560490389647077,
          -0.6398178432644299,
          -1.454436711444195,
          -2.030563352448487,
          -2.2889978686901733,
          -2.243376091662226,
          -1.9842775682965261,
          -1.6381627493819975,
          -1.3179454735452694,
          -1.0859977599657618,
          -0.9438956558077367,
          -0.8496375210640623,
          -0.7502254373559539,
          -0.6122555653730681,
          -0.4370040310305195,
          -0.25573807342503757,
          -0.11028769079861606,
          -0.029510935400061843,
          -0.012907163860001368,
          -0.02881243460109721,
          -0.027967912515711568,
          0.033738399734255374,
          0.1740798227887976,
          0.3755238166251322,
          0.5940027184718323,
          0.7822359117965242,
          0.9158230330061354,
          1.0068580236430111,
          1.0951889061832354,
          1.2204764026222157,
          1.3914495190037153,
          1.5725056250333216,
          1.6979667800715739,
          1.7067274716552177,
          1.5768352134016346,
          1.339679572162099,
          1.065964611327176,
          0.8313600615286089,
          0.6791473642985258,
          0.5967595669134222,
          0.5156000422062949,
          0.33396039726313687,
          -0.04501466673821529,
          -0.6728755567738015,
          -1.5261078918965818,
          -2.497138024895172,
          -3.410399781511959,
          -4.060903636819493,
          -4.266396590085809,
          -3.9194696774389564,
          -3.024193961735896,
          -1.704628039807487,
          -0.18053814187610917,
          1.2832822603138017,
          2.438374101069153,
          3.1059573143942787,
          3.207946451247726,
          2.7701558182244725,
          1.9011629271581867,
          0.7565284401060796,
          -0.4993214335421426,
          -1.722436693317595,
          -2.803629338887815,
          -3.668618539981041,
          -4.271266830936568,
          -4.5889800788611455,
          -4.62516398190566,
          -4.416087679512273,
          -4.033863038223536,
          -3.577888864476908,
          -3.15382604919666,
          -2.847371241379656,
          -2.704080497693905,
          -2.723730392006818,
          -2.8702036036365226,
          -3.0905450870328943,
          -3.3339638353720127,
          -3.5642414851892834,
          -3.7645066092601844,
          -3.9372084069911737,
          -4.101835267518016,
          -4.289970323808561,
          -4.535552118851355,
          -4.860102598530587,
          -5.2566897923722635,
          -5.679060245699635,
          -6.04171033592638,
          -6.233499983882725,
          -6.143435023646234,
          -5.6931171453242975,
          -4.866351500512734,
          -3.724440010895407,
          -2.398750123801009,
          -1.0609918636627635,
          0.11800799985398376,
          1.0053224822872142,
          1.5270533487519349,
          1.6714405306381148,
          1.4794169125272025,
          1.0293549628341623,
          0.41973530825877337,
          -0.24867470538372619,
          -0.888635690084324,
          -1.4364727896668739,
          -1.8545144550175954,
          -2.128976093918751,
          -2.2693619481332874,
          -2.3123406686775803,
          -2.324972166412428,
          -2.3961558023734786,
          -2.6085041818396397,
          -2.996108851391489,
          -3.5084577770785037,
          -4.00510017116476,
          -4.293369891381668,
          -4.198207404218276,
          -3.633572954851134,
          -2.6422319784637422,
          -1.3867512016189252
         ]
        },
        {
         "mode": "markers",
         "name": "Notes",
         "type": "scatter",
         "x": [
          1,
          3,
          3.5,
          4.5,
          5.5,
          6,
          6.5,
          7.5,
          8,
          9,
          11,
          11.5,
          12.5,
          13.5,
          14,
          14.5,
          15.5,
          16,
          17,
          19,
          19.5,
          20.5,
          21.5,
          22,
          22.5,
          23.5,
          24,
          25,
          27,
          27.5,
          28.5,
          29.5,
          30,
          30.5,
          31.5,
          32
         ],
         "y": [
          3.71468966062665,
          4.205270185733662,
          3.972061005046234,
          3.624444682141456,
          0.726639119602287,
          -1.5527742663002604,
          -2.9379377871632104,
          0.642765289126968,
          2.1107718946829466,
          -2.862232016812919,
          -4.577096229717637,
          -2.8266637099714567,
          -3.7607276226400743,
          -5.047623659761424,
          -5.151619243892438,
          -4.054425238646207,
          1.1902434637765087,
          1.2289665610968754,
          -2.179163199287454,
          -0.5202485098432317,
          -0.10927798135613485,
          0.03296707083113026,
          0.910813515960774,
          1.1515682795807756,
          1.5611896184064697,
          1.0899146704002336,
          0.6461922453444849,
          -0.9928376824448384,
          1.6586871085592843,
          3.188823488087704,
          -1.4625247006153053,
          -4.616570304932587,
          -3.9198694947868806,
          -2.927815628431621,
          -3.263980945224515,
          -3.799046968806381
         ]
        }
       ],
       "layout": {
        "template": {
         "data": {
          "bar": [
           {
            "error_x": {
             "color": "#2a3f5f"
            },
            "error_y": {
             "color": "#2a3f5f"
            },
            "marker": {
             "line": {
              "color": "#E5ECF6",
              "width": 0.5
             },
             "pattern": {
              "fillmode": "overlay",
              "size": 10,
              "solidity": 0.2
             }
            },
            "type": "bar"
           }
          ],
          "barpolar": [
           {
            "marker": {
             "line": {
              "color": "#E5ECF6",
              "width": 0.5
             },
             "pattern": {
              "fillmode": "overlay",
              "size": 10,
              "solidity": 0.2
             }
            },
            "type": "barpolar"
           }
          ],
          "carpet": [
           {
            "aaxis": {
             "endlinecolor": "#2a3f5f",
             "gridcolor": "white",
             "linecolor": "white",
             "minorgridcolor": "white",
             "startlinecolor": "#2a3f5f"
            },
            "baxis": {
             "endlinecolor": "#2a3f5f",
             "gridcolor": "white",
             "linecolor": "white",
             "minorgridcolor": "white",
             "startlinecolor": "#2a3f5f"
            },
            "type": "carpet"
           }
          ],
          "choropleth": [
           {
            "colorbar": {
             "outlinewidth": 0,
             "ticks": ""
            },
            "type": "choropleth"
           }
          ],
          "contour": [
           {
            "colorbar": {
             "outlinewidth": 0,
             "ticks": ""
            },
            "colorscale": [
             [
              0,
              "#0d0887"
             ],
             [
              0.1111111111111111,
              "#46039f"
             ],
             [
              0.2222222222222222,
              "#7201a8"
             ],
             [
              0.3333333333333333,
              "#9c179e"
             ],
             [
              0.4444444444444444,
              "#bd3786"
             ],
             [
              0.5555555555555556,
              "#d8576b"
             ],
             [
              0.6666666666666666,
              "#ed7953"
             ],
             [
              0.7777777777777778,
              "#fb9f3a"
             ],
             [
              0.8888888888888888,
              "#fdca26"
             ],
             [
              1,
              "#f0f921"
             ]
            ],
            "type": "contour"
           }
          ],
          "contourcarpet": [
           {
            "colorbar": {
             "outlinewidth": 0,
             "ticks": ""
            },
            "type": "contourcarpet"
           }
          ],
          "heatmap": [
           {
            "colorbar": {
             "outlinewidth": 0,
             "ticks": ""
            },
            "colorscale": [
             [
              0,
              "#0d0887"
             ],
             [
              0.1111111111111111,
              "#46039f"
             ],
             [
              0.2222222222222222,
              "#7201a8"
             ],
             [
              0.3333333333333333,
              "#9c179e"
             ],
             [
              0.4444444444444444,
              "#bd3786"
             ],
             [
              0.5555555555555556,
              "#d8576b"
             ],
             [
              0.6666666666666666,
              "#ed7953"
             ],
             [
              0.7777777777777778,
              "#fb9f3a"
             ],
             [
              0.8888888888888888,
              "#fdca26"
             ],
             [
              1,
              "#f0f921"
             ]
            ],
            "type": "heatmap"
           }
          ],
          "heatmapgl": [
           {
            "colorbar": {
             "outlinewidth": 0,
             "ticks": ""
            },
            "colorscale": [
             [
              0,
              "#0d0887"
             ],
             [
              0.1111111111111111,
              "#46039f"
             ],
             [
              0.2222222222222222,
              "#7201a8"
             ],
             [
              0.3333333333333333,
              "#9c179e"
             ],
             [
              0.4444444444444444,
              "#bd3786"
             ],
             [
              0.5555555555555556,
              "#d8576b"
             ],
             [
              0.6666666666666666,
              "#ed7953"
             ],
             [
              0.7777777777777778,
              "#fb9f3a"
             ],
             [
              0.8888888888888888,
              "#fdca26"
             ],
             [
              1,
              "#f0f921"
             ]
            ],
            "type": "heatmapgl"
           }
          ],
          "histogram": [
           {
            "marker": {
             "pattern": {
              "fillmode": "overlay",
              "size": 10,
              "solidity": 0.2
             }
            },
            "type": "histogram"
           }
          ],
          "histogram2d": [
           {
            "colorbar": {
             "outlinewidth": 0,
             "ticks": ""
            },
            "colorscale": [
             [
              0,
              "#0d0887"
             ],
             [
              0.1111111111111111,
              "#46039f"
             ],
             [
              0.2222222222222222,
              "#7201a8"
             ],
             [
              0.3333333333333333,
              "#9c179e"
             ],
             [
              0.4444444444444444,
              "#bd3786"
             ],
             [
              0.5555555555555556,
              "#d8576b"
             ],
             [
              0.6666666666666666,
              "#ed7953"
             ],
             [
              0.7777777777777778,
              "#fb9f3a"
             ],
             [
              0.8888888888888888,
              "#fdca26"
             ],
             [
              1,
              "#f0f921"
             ]
            ],
            "type": "histogram2d"
           }
          ],
          "histogram2dcontour": [
           {
            "colorbar": {
             "outlinewidth": 0,
             "ticks": ""
            },
            "colorscale": [
             [
              0,
              "#0d0887"
             ],
             [
              0.1111111111111111,
              "#46039f"
             ],
             [
              0.2222222222222222,
              "#7201a8"
             ],
             [
              0.3333333333333333,
              "#9c179e"
             ],
             [
              0.4444444444444444,
              "#bd3786"
             ],
             [
              0.5555555555555556,
              "#d8576b"
             ],
             [
              0.6666666666666666,
              "#ed7953"
             ],
             [
              0.7777777777777778,
              "#fb9f3a"
             ],
             [
              0.8888888888888888,
              "#fdca26"
             ],
             [
              1,
              "#f0f921"
             ]
            ],
            "type": "histogram2dcontour"
           }
          ],
          "mesh3d": [
           {
            "colorbar": {
             "outlinewidth": 0,
             "ticks": ""
            },
            "type": "mesh3d"
           }
          ],
          "parcoords": [
           {
            "line": {
             "colorbar": {
              "outlinewidth": 0,
              "ticks": ""
             }
            },
            "type": "parcoords"
           }
          ],
          "pie": [
           {
            "automargin": true,
            "type": "pie"
           }
          ],
          "scatter": [
           {
            "fillpattern": {
             "fillmode": "overlay",
             "size": 10,
             "solidity": 0.2
            },
            "type": "scatter"
           }
          ],
          "scatter3d": [
           {
            "line": {
             "colorbar": {
              "outlinewidth": 0,
              "ticks": ""
             }
            },
            "marker": {
             "colorbar": {
              "outlinewidth": 0,
              "ticks": ""
             }
            },
            "type": "scatter3d"
           }
          ],
          "scattercarpet": [
           {
            "marker": {
             "colorbar": {
              "outlinewidth": 0,
              "ticks": ""
             }
            },
            "type": "scattercarpet"
           }
          ],
          "scattergeo": [
           {
            "marker": {
             "colorbar": {
              "outlinewidth": 0,
              "ticks": ""
             }
            },
            "type": "scattergeo"
           }
          ],
          "scattergl": [
           {
            "marker": {
             "colorbar": {
              "outlinewidth": 0,
              "ticks": ""
             }
            },
            "type": "scattergl"
           }
          ],
          "scattermapbox": [
           {
            "marker": {
             "colorbar": {
              "outlinewidth": 0,
              "ticks": ""
             }
            },
            "type": "scattermapbox"
           }
          ],
          "scatterpolar": [
           {
            "marker": {
             "colorbar": {
              "outlinewidth": 0,
              "ticks": ""
             }
            },
            "type": "scatterpolar"
           }
          ],
          "scatterpolargl": [
           {
            "marker": {
             "colorbar": {
              "outlinewidth": 0,
              "ticks": ""
             }
            },
            "type": "scatterpolargl"
           }
          ],
          "scatterternary": [
           {
            "marker": {
             "colorbar": {
              "outlinewidth": 0,
              "ticks": ""
             }
            },
            "type": "scatterternary"
           }
          ],
          "surface": [
           {
            "colorbar": {
             "outlinewidth": 0,
             "ticks": ""
            },
            "colorscale": [
             [
              0,
              "#0d0887"
             ],
             [
              0.1111111111111111,
              "#46039f"
             ],
             [
              0.2222222222222222,
              "#7201a8"
             ],
             [
              0.3333333333333333,
              "#9c179e"
             ],
             [
              0.4444444444444444,
              "#bd3786"
             ],
             [
              0.5555555555555556,
              "#d8576b"
             ],
             [
              0.6666666666666666,
              "#ed7953"
             ],
             [
              0.7777777777777778,
              "#fb9f3a"
             ],
             [
              0.8888888888888888,
              "#fdca26"
             ],
             [
              1,
              "#f0f921"
             ]
            ],
            "type": "surface"
           }
          ],
          "table": [
           {
            "cells": {
             "fill": {
              "color": "#EBF0F8"
             },
             "line": {
              "color": "white"
             }
            },
            "header": {
             "fill": {
              "color": "#C8D4E3"
             },
             "line": {
              "color": "white"
             }
            },
            "type": "table"
           }
          ]
         },
         "layout": {
          "annotationdefaults": {
           "arrowcolor": "#2a3f5f",
           "arrowhead": 0,
           "arrowwidth": 1
          },
          "autotypenumbers": "strict",
          "coloraxis": {
           "colorbar": {
            "outlinewidth": 0,
            "ticks": ""
           }
          },
          "colorscale": {
           "diverging": [
            [
             0,
             "#8e0152"
            ],
            [
             0.1,
             "#c51b7d"
            ],
            [
             0.2,
             "#de77ae"
            ],
            [
             0.3,
             "#f1b6da"
            ],
            [
             0.4,
             "#fde0ef"
            ],
            [
             0.5,
             "#f7f7f7"
            ],
            [
             0.6,
             "#e6f5d0"
            ],
            [
             0.7,
             "#b8e186"
            ],
            [
             0.8,
             "#7fbc41"
            ],
            [
             0.9,
             "#4d9221"
            ],
            [
             1,
             "#276419"
            ]
           ],
           "sequential": [
            [
             0,
             "#0d0887"
            ],
            [
             0.1111111111111111,
             "#46039f"
            ],
            [
             0.2222222222222222,
             "#7201a8"
            ],
            [
             0.3333333333333333,
             "#9c179e"
            ],
            [
             0.4444444444444444,
             "#bd3786"
            ],
            [
             0.5555555555555556,
             "#d8576b"
            ],
            [
             0.6666666666666666,
             "#ed7953"
            ],
            [
             0.7777777777777778,
             "#fb9f3a"
            ],
            [
             0.8888888888888888,
             "#fdca26"
            ],
            [
             1,
             "#f0f921"
            ]
           ],
           "sequentialminus": [
            [
             0,
             "#0d0887"
            ],
            [
             0.1111111111111111,
             "#46039f"
            ],
            [
             0.2222222222222222,
             "#7201a8"
            ],
            [
             0.3333333333333333,
             "#9c179e"
            ],
            [
             0.4444444444444444,
             "#bd3786"
            ],
            [
             0.5555555555555556,
             "#d8576b"
            ],
            [
             0.6666666666666666,
             "#ed7953"
            ],
            [
             0.7777777777777778,
             "#fb9f3a"
            ],
            [
             0.8888888888888888,
             "#fdca26"
            ],
            [
             1,
             "#f0f921"
            ]
           ]
          },
          "colorway": [
           "#636efa",
           "#EF553B",
           "#00cc96",
           "#ab63fa",
           "#FFA15A",
           "#19d3f3",
           "#FF6692",
           "#B6E880",
           "#FF97FF",
           "#FECB52"
          ],
          "font": {
           "color": "#2a3f5f"
          },
          "geo": {
           "bgcolor": "white",
           "lakecolor": "white",
           "landcolor": "#E5ECF6",
           "showlakes": true,
           "showland": true,
           "subunitcolor": "white"
          },
          "hoverlabel": {
           "align": "left"
          },
          "hovermode": "closest",
          "mapbox": {
           "style": "light"
          },
          "paper_bgcolor": "white",
          "plot_bgcolor": "#E5ECF6",
          "polar": {
           "angularaxis": {
            "gridcolor": "white",
            "linecolor": "white",
            "ticks": ""
           },
           "bgcolor": "#E5ECF6",
           "radialaxis": {
            "gridcolor": "white",
            "linecolor": "white",
            "ticks": ""
           }
          },
          "scene": {
           "xaxis": {
            "backgroundcolor": "#E5ECF6",
            "gridcolor": "white",
            "gridwidth": 2,
            "linecolor": "white",
            "showbackground": true,
            "ticks": "",
            "zerolinecolor": "white"
           },
           "yaxis": {
            "backgroundcolor": "#E5ECF6",
            "gridcolor": "white",
            "gridwidth": 2,
            "linecolor": "white",
            "showbackground": true,
            "ticks": "",
            "zerolinecolor": "white"
           },
           "zaxis": {
            "backgroundcolor": "#E5ECF6",
            "gridcolor": "white",
            "gridwidth": 2,
            "linecolor": "white",
            "showbackground": true,
            "ticks": "",
            "zerolinecolor": "white"
           }
          },
          "shapedefaults": {
           "line": {
            "color": "#2a3f5f"
           }
          },
          "ternary": {
           "aaxis": {
            "gridcolor": "white",
            "linecolor": "white",
            "ticks": ""
           },
           "baxis": {
            "gridcolor": "white",
            "linecolor": "white",
            "ticks": ""
           },
           "bgcolor": "#E5ECF6",
           "caxis": {
            "gridcolor": "white",
            "linecolor": "white",
            "ticks": ""
           }
          },
          "title": {
           "x": 0.05
          },
          "xaxis": {
           "automargin": true,
           "gridcolor": "white",
           "linecolor": "white",
           "ticks": "",
           "title": {
            "standoff": 15
           },
           "zerolinecolor": "white",
           "zerolinewidth": 2
          },
          "yaxis": {
           "automargin": true,
           "gridcolor": "white",
           "linecolor": "white",
           "ticks": "",
           "title": {
            "standoff": 15
           },
           "zerolinecolor": "white",
           "zerolinewidth": 2
          }
         }
        },
        "xaxis": {
         "title": {
          "text": "Time (measures)"
         }
        },
        "yaxis": {
         "title": {
          "text": "Interval"
         }
        }
       }
      }
     },
     "metadata": {},
     "output_type": "display_data"
    }
   ],
   "source": [
    "(\n",
    "    go.Figure()\n",
    "    .add_trace(go.Scatter(x=X_qn.flatten(), y=y_samples[:, 0].flatten(), mode='lines', name='Signal'))\n",
    "    .add_trace(go.Scatter(x=gp1_times_qn, y=gp1_intervals, mode='markers', name='Notes'))\n",
    "    .update_layout(xaxis=dict(title='Time (measures)'), yaxis=dict(title='Interval'))\n",
    ")"
   ]
  },
  {
   "cell_type": "code",
   "execution_count": 71,
   "metadata": {},
   "outputs": [
    {
     "data": {
      "text/html": [
       "\n",
       "                <div id=\"midiPlayerDiv2552\"></div>\n",
       "                <link rel=\"stylesheet\" href=\"//cuthbertLab.github.io/music21j/css/m21.css\"\n",
       "                    type=\"text/css\" />\n",
       "                \n",
       "                <script>\n",
       "                require.config({\n",
       "                    paths: {'music21': '//cuthbertLab.github.io/music21j/src/music21'}\n",
       "                });\n",
       "                require(['music21'], function() {\n",
       "                               mp = new music21.miditools.MidiPlayer();\n",
       "                               mp.addPlayer(\"#midiPlayerDiv2552\");\n",
       "                               mp.base64Load(\"data:audio/midi;base64,TVRoZAAAAAYAAQACBABNVHJrAAAAGgD/UQMHoSAA/1kCAAAA/1gEBAIYCIgA/y8ATVRyawAAAVsA/wMAAOAAQIgAkDJaiACAMgAAkDJaiACAMgAAkDBakACAMAAAkDBahACAMAAAkDBaiACAMAAAkDJaiACAMgAAkDRahACANAAAkDRahACANAAAkDJaiACAMgAAkC9ahACALwAAkDBaiACAMAAAkC1akACALQAAkC9ahACALwAAkDBaiACAMAAAkDBaiACAMAAAkC9ahACALwAAkC9ahACALwAAkDBaiACAMAAAkDBahACAMAAAkDBaiACAMAAAkDBakACAMAAAkDBahACAMAAAkDBaiACAMAAAkDRaiACANAAAkDVahACANQAAkDVahACANQAAkDRaiACANAAAkDBahACAMAAAkDJaiACAMgAAkClakACAKQAAkCtahACAKwAAkC9aiACALwAAkCtaiACAKwAAkCtahACAKwAAkCtahACAKwAAkCtaiACAKwAAkC1ahACALQCIAP8vAA==\");\n",
       "                        });\n",
       "                </script>"
      ],
      "text/plain": [
       "<IPython.core.display.HTML object>"
      ]
     },
     "metadata": {},
     "output_type": "display_data"
    }
   ],
   "source": [
    "gp1_stream = walk_intervals_to_stream(\n",
    "    base_note = note.Note('D3'),\n",
    "    intervals = np.round(gp1_intervals),\n",
    "    durations = gp1_durations,\n",
    "    base_key = key.Key('C')\n",
    ")\n",
    "gp1_stream.show('midi')"
   ]
  },
  {
   "attachments": {},
   "cell_type": "markdown",
   "metadata": {},
   "source": [
    "Generating gaussian signals might look overcomplicated compared to random walks, but they can provide insightful benefits. Aat the beginning of this chapter, I wrote that gaussian processes are used as a machine learning method. That means that they can be fitted to data. This is the point of this book opening a the perspective of data sonification."
   ]
  },
  {
   "attachments": {},
   "cell_type": "markdown",
   "metadata": {},
   "source": [
    "### Fitted gaussian processes\n",
    "\n",
    "Conditionning...\n",
    "\n",
    "When a Gaussian process is fitted on, for instance, temperature, the fundamental question you ask as the modeller is what function the temperature might have followed. A fitted Gaussian process can generate as many of such functions as you require, so you end up with a distribution of functions. \n",
    "\n",
    "The question can be asked similarly for a musical score: what variations be be extracted from a constrained pattern?\n",
    "\n",
    "The `gpr` object was not fitted previously."
   ]
  },
  {
   "cell_type": "code",
   "execution_count": 72,
   "metadata": {},
   "outputs": [],
   "source": [
    "pachelbel_progression = ['C5', 'G4', 'A4', 'E4', 'F4', 'C4', 'F4', 'G4', 'C5'] # including last C5\n",
    "pachelbel_progression_s = stream.Stream()\n",
    "for n in pachelbel_progression:\n",
    "    pachelbel_progression_s.append(note.Note(n, quarterLength=1))"
   ]
  },
  {
   "cell_type": "code",
   "execution_count": 73,
   "metadata": {},
   "outputs": [],
   "source": [
    "pachelbel_progression_midi = [n.pitch.midi for n in pachelbel_progression_s]\n",
    "pachelbel_progression_time = np.arange(0, 9).reshape(-1, 1)"
   ]
  },
  {
   "cell_type": "code",
   "execution_count": 74,
   "metadata": {},
   "outputs": [],
   "source": [
    "pachelbel_progression_midi = np.array(pachelbel_progression_midi)\n",
    "pachelbel_progression_midi_sc = (pachelbel_progression_midi - pachelbel_progression_midi.mean())/pachelbel_progression_midi.std()"
   ]
  },
  {
   "cell_type": "code",
   "execution_count": 75,
   "metadata": {},
   "outputs": [
    {
     "name": "stderr",
     "output_type": "stream",
     "text": [
      "/Users/essi/opt/miniconda3/envs/music/lib/python3.10/site-packages/sklearn/gaussian_process/kernels.py:430: ConvergenceWarning: The optimal value found for dimension 0 of parameter k2__length_scale is close to the specified upper bound 0.5. Increasing the bound and calling fit again may find a better value.\n",
      "  warnings.warn(\n"
     ]
    },
    {
     "data": {
      "text/html": [
       "<style>#sk-container-id-4 {color: black;background-color: white;}#sk-container-id-4 pre{padding: 0;}#sk-container-id-4 div.sk-toggleable {background-color: white;}#sk-container-id-4 label.sk-toggleable__label {cursor: pointer;display: block;width: 100%;margin-bottom: 0;padding: 0.3em;box-sizing: border-box;text-align: center;}#sk-container-id-4 label.sk-toggleable__label-arrow:before {content: \"▸\";float: left;margin-right: 0.25em;color: #696969;}#sk-container-id-4 label.sk-toggleable__label-arrow:hover:before {color: black;}#sk-container-id-4 div.sk-estimator:hover label.sk-toggleable__label-arrow:before {color: black;}#sk-container-id-4 div.sk-toggleable__content {max-height: 0;max-width: 0;overflow: hidden;text-align: left;background-color: #f0f8ff;}#sk-container-id-4 div.sk-toggleable__content pre {margin: 0.2em;color: black;border-radius: 0.25em;background-color: #f0f8ff;}#sk-container-id-4 input.sk-toggleable__control:checked~div.sk-toggleable__content {max-height: 200px;max-width: 100%;overflow: auto;}#sk-container-id-4 input.sk-toggleable__control:checked~label.sk-toggleable__label-arrow:before {content: \"▾\";}#sk-container-id-4 div.sk-estimator input.sk-toggleable__control:checked~label.sk-toggleable__label {background-color: #d4ebff;}#sk-container-id-4 div.sk-label input.sk-toggleable__control:checked~label.sk-toggleable__label {background-color: #d4ebff;}#sk-container-id-4 input.sk-hidden--visually {border: 0;clip: rect(1px 1px 1px 1px);clip: rect(1px, 1px, 1px, 1px);height: 1px;margin: -1px;overflow: hidden;padding: 0;position: absolute;width: 1px;}#sk-container-id-4 div.sk-estimator {font-family: monospace;background-color: #f0f8ff;border: 1px dotted black;border-radius: 0.25em;box-sizing: border-box;margin-bottom: 0.5em;}#sk-container-id-4 div.sk-estimator:hover {background-color: #d4ebff;}#sk-container-id-4 div.sk-parallel-item::after {content: \"\";width: 100%;border-bottom: 1px solid gray;flex-grow: 1;}#sk-container-id-4 div.sk-label:hover label.sk-toggleable__label {background-color: #d4ebff;}#sk-container-id-4 div.sk-serial::before {content: \"\";position: absolute;border-left: 1px solid gray;box-sizing: border-box;top: 0;bottom: 0;left: 50%;z-index: 0;}#sk-container-id-4 div.sk-serial {display: flex;flex-direction: column;align-items: center;background-color: white;padding-right: 0.2em;padding-left: 0.2em;position: relative;}#sk-container-id-4 div.sk-item {position: relative;z-index: 1;}#sk-container-id-4 div.sk-parallel {display: flex;align-items: stretch;justify-content: center;background-color: white;position: relative;}#sk-container-id-4 div.sk-item::before, #sk-container-id-4 div.sk-parallel-item::before {content: \"\";position: absolute;border-left: 1px solid gray;box-sizing: border-box;top: 0;bottom: 0;left: 50%;z-index: -1;}#sk-container-id-4 div.sk-parallel-item {display: flex;flex-direction: column;z-index: 1;position: relative;background-color: white;}#sk-container-id-4 div.sk-parallel-item:first-child::after {align-self: flex-end;width: 50%;}#sk-container-id-4 div.sk-parallel-item:last-child::after {align-self: flex-start;width: 50%;}#sk-container-id-4 div.sk-parallel-item:only-child::after {width: 0;}#sk-container-id-4 div.sk-dashed-wrapped {border: 1px dashed gray;margin: 0 0.4em 0.5em 0.4em;box-sizing: border-box;padding-bottom: 0.4em;background-color: white;}#sk-container-id-4 div.sk-label label {font-family: monospace;font-weight: bold;display: inline-block;line-height: 1.2em;}#sk-container-id-4 div.sk-label-container {text-align: center;}#sk-container-id-4 div.sk-container {/* jupyter's `normalize.less` sets `[hidden] { display: none; }` but bootstrap.min.css set `[hidden] { display: none !important; }` so we also need the `!important` here to be able to override the default hidden behavior on the sphinx rendered scikit-learn.org. See: https://github.com/scikit-learn/scikit-learn/issues/21755 */display: inline-block !important;position: relative;}#sk-container-id-4 div.sk-text-repr-fallback {display: none;}</style><div id=\"sk-container-id-4\" class=\"sk-top-container\"><div class=\"sk-text-repr-fallback\"><pre>GaussianProcessRegressor(kernel=1**2 * RBF(length_scale=0.25), random_state=0)</pre><b>In a Jupyter environment, please rerun this cell to show the HTML representation or trust the notebook. <br />On GitHub, the HTML representation is unable to render, please try loading this page with nbviewer.org.</b></div><div class=\"sk-container\" hidden><div class=\"sk-item\"><div class=\"sk-estimator sk-toggleable\"><input class=\"sk-toggleable__control sk-hidden--visually\" id=\"sk-estimator-id-4\" type=\"checkbox\" checked><label for=\"sk-estimator-id-4\" class=\"sk-toggleable__label sk-toggleable__label-arrow\">GaussianProcessRegressor</label><div class=\"sk-toggleable__content\"><pre>GaussianProcessRegressor(kernel=1**2 * RBF(length_scale=0.25), random_state=0)</pre></div></div></div></div></div>"
      ],
      "text/plain": [
       "GaussianProcessRegressor(kernel=1**2 * RBF(length_scale=0.25), random_state=0)"
      ]
     },
     "execution_count": 75,
     "metadata": {},
     "output_type": "execute_result"
    }
   ],
   "source": [
    "kernel = 1.0 * RBF(length_scale=0.25, length_scale_bounds=(1e-1, 0.5))\n",
    "gp_pac = GaussianProcessRegressor(kernel=kernel, random_state=0)\n",
    "gp_pac.fit(pachelbel_progression_time, pachelbel_progression_midi_sc)"
   ]
  },
  {
   "cell_type": "code",
   "execution_count": 76,
   "metadata": {},
   "outputs": [
    {
     "data": {
      "text/plain": [
       "Text(0, 0.5, 'Note midi')"
      ]
     },
     "execution_count": 76,
     "metadata": {},
     "output_type": "execute_result"
    },
    {
     "data": {
      "image/png": "[encoded data removed]",
      "text/plain": [
       "<Figure size 640x480 with 1 Axes>"
      ]
     },
     "metadata": {
      "image/png": {
       "height": 432,
       "width": 576
      }
     },
     "output_type": "display_data"
    }
   ],
   "source": [
    "n_samples = 50\n",
    "pred_time = np.linspace(0, 8, 300).reshape(-1, 1)\n",
    "y_samples_sc = gp_pac.sample_y(pred_time, n_samples)\n",
    "y_samples = y_samples_sc * pachelbel_progression_midi.std() + pachelbel_progression_midi.mean()\n",
    "\n",
    "for i in range(n_samples):\n",
    "    plt.plot(pred_time, y_samples[:, i], c='#0f0f0f10')\n",
    "plt.plot(pachelbel_progression_time, pachelbel_progression_midi, 'o')\n",
    "plt.xlabel('Temps')\n",
    "plt.ylabel('Note midi')"
   ]
  },
  {
   "attachments": {},
   "cell_type": "markdown",
   "metadata": {},
   "source": [
    "Each line in this fit is a possible variation of Pachelbel's canon."
   ]
  },
  {
   "cell_type": "code",
   "execution_count": 77,
   "metadata": {},
   "outputs": [],
   "source": [
    "def gp_to_stream(qnLength, duration_, gp_xy, base_key, round_direction='up'):\n",
    "    time = np.concatenate([[0], np.cumsum(duration_)])\n",
    "    midi = np.interp(time, gp_xy[:, 0], gp_xy[:, 1])\n",
    "    duration_ = [duration.Duration(d) for d in duration_]\n",
    "    note_ = [note.Note(n.round(0)) for n in midi]\n",
    "    stream_ = stream.Stream()\n",
    "    for n,d in zip(note_, duration_):\n",
    "        n = match_key(n, base_key, round_direction=round_direction)\n",
    "        n.duration = d\n",
    "        stream_.append(n)\n",
    "    return(stream_)"
   ]
  },
  {
   "cell_type": "code",
   "execution_count": 78,
   "metadata": {},
   "outputs": [],
   "source": [
    "track0 = stream.Stream()\n",
    "for n in pachelbel_progression[:8]:\n",
    "    track0.append(note.Note(n, quarterLength=1))\n",
    "track0 = track0.transpose('P-8')"
   ]
  },
  {
   "cell_type": "code",
   "execution_count": null,
   "metadata": {},
   "outputs": [],
   "source": []
  },
  {
   "cell_type": "code",
   "execution_count": 79,
   "metadata": {},
   "outputs": [],
   "source": [
    "gp_xy0 = np.hstack([pred_time, y_samples[:, 0].reshape(-1, 1)])\n",
    "\n",
    "pattern1 = [0.5, 0.5, 1, 0.5, 0.5, 1, 0.25, 0.25, 0.5, 1, 2]\n",
    "pattern2 = [1, 1, 1, 0.25, 0.25, 0.5, 0.5, 0.5, 0.25, 0.75, 1, 1]\n",
    "pattern3 = [0.5, 0.25, 0.25, 0.125, 0.125, 0.25, 0.5, 1, 1, 0.5, 0.5, 0.75, 0.25, 1, 1]\n",
    "pattern4 = copy.copy(pattern2)\n",
    "random.shuffle(pattern2)\n",
    "pattern5 = [0.5, 0.25, 0.25, 1] * 4\n",
    "pattern6 = [0.5]*16\n",
    "\n",
    "pac_durations = [pattern1, pattern2, pattern3, pattern4, pattern5, pattern6]\n",
    "\n",
    "gp_streams = [track0]\n",
    "\n",
    "for d in pac_durations:\n",
    "    gp_s = gp_to_stream(\n",
    "        qnLength=8,\n",
    "        duration_=d,\n",
    "        gp_xy=np.hstack([pred_time, y_samples[:, random.choice(range(n_samples))].reshape(-1, 1)]),\n",
    "        base_key=key.Key('C'),\n",
    "        round_direction=None\n",
    "    )\n",
    "    gp_streams.append(gp_s)"
   ]
  },
  {
   "cell_type": "code",
   "execution_count": 80,
   "metadata": {},
   "outputs": [],
   "source": [
    "for i,s in enumerate(gp_streams):\n",
    "    s.write('midi', 'track'+str(i)+'.midi')\n"
   ]
  },
  {
   "cell_type": "markdown",
   "metadata": {},
   "source": [
    "# More complex walks with Gaussian processes"
   ]
  },
  {
   "cell_type": "code",
   "execution_count": null,
   "metadata": {},
   "outputs": [],
   "source": [
    "import pretty_midi\n",
    "import djalgo as dj\n",
    "import numpy as np\n",
    "import matplotlib.pyplot as plt\n",
    "from sklearn.gaussian_process import GaussianProcessRegressor\n",
    "from sklearn.gaussian_process.kernels import Matern, ExpSineSquared"
   ]
  },
  {
   "cell_type": "code",
   "execution_count": null,
   "metadata": {},
   "outputs": [],
   "source": [
    "# Charger le fichier MIDI\n",
    "midi_data = pretty_midi.PrettyMIDI('data/movies/TV_Themes_-_Addams_Family.mid')\n",
    "\n",
    "# Obtenir les changements de tempo\n",
    "tempo_changes_times, tempos = midi_data.get_tempo_changes()\n",
    "bpm = tempos.mean()\n",
    "bps = bpm / 60\n",
    "instrument = midi_data.instruments[0]\n",
    "\n",
    "pitches = []\n",
    "note_start_beats = []\n",
    "note_end_beats = []\n",
    "note_durations = []\n",
    "\n",
    "for note in instrument.notes:\n",
    "    pitches.append(note.pitch)\n",
    "    start_beat = note.start * bps\n",
    "    end_beat = note.end * bps\n",
    "    note_start_beats.append(start_beat)\n",
    "    note_end_beats.append(end_beat)\n",
    "    note_durations.append(end_beat - start_beat)\n",
    "    "
   ]
  },
  {
   "cell_type": "code",
   "execution_count": null,
   "metadata": {},
   "outputs": [],
   "source": [
    "XY = np.column_stack([note_start_beats, pitches, note_durations])"
   ]
  },
  {
   "cell_type": "code",
   "execution_count": null,
   "metadata": {},
   "outputs": [],
   "source": [
    "num_samples = np.round(0.3 * XY.shape[0]).astype(int)\n",
    "row_indices = np.random.choice(XY.shape[0], size=num_samples, replace=False)\n",
    "XYsub = XY[row_indices, :]"
   ]
  },
  {
   "cell_type": "markdown",
   "metadata": {},
   "source": [
    "## Model pitches"
   ]
  },
  {
   "cell_type": "code",
   "execution_count": null,
   "metadata": {},
   "outputs": [
    {
     "data": {
      "text/plain": [
       "Text(0, 0.5, 'Pitch (MIDI note number)')"
      ]
     },
     "metadata": {},
     "output_type": "display_data"
    },
    {
     "data": {
      "image/png": "[encoded data removed]",
      "text/plain": [
       "<Figure size 640x480 with 1 Axes>"
      ]
     },
     "metadata": {},
     "output_type": "display_data"
    }
   ],
   "source": [
    "plt.scatter(XY[:, 0], XY[:, 1], color='cyan')\n",
    "plt.scatter(XYsub[:, 0], XYsub[:, 1], marker='o', edgecolors='black', facecolors='none')\n",
    "plt.xlabel('Time (beats)')\n",
    "plt.ylabel('Pitch (MIDI note number)')"
   ]
  },
  {
   "cell_type": "code",
   "execution_count": null,
   "metadata": {},
   "outputs": [
    {
     "data": {
      "text/html": [
       "<style>#sk-container-id-1 {\n",
       "  /* Definition of color scheme common for light and dark mode */\n",
       "  --sklearn-color-text: black;\n",
       "  --sklearn-color-line: gray;\n",
       "  /* Definition of color scheme for unfitted estimators */\n",
       "  --sklearn-color-unfitted-level-0: #fff5e6;\n",
       "  --sklearn-color-unfitted-level-1: #f6e4d2;\n",
       "  --sklearn-color-unfitted-level-2: #ffe0b3;\n",
       "  --sklearn-color-unfitted-level-3: chocolate;\n",
       "  /* Definition of color scheme for fitted estimators */\n",
       "  --sklearn-color-fitted-level-0: #f0f8ff;\n",
       "  --sklearn-color-fitted-level-1: #d4ebff;\n",
       "  --sklearn-color-fitted-level-2: #b3dbfd;\n",
       "  --sklearn-color-fitted-level-3: cornflowerblue;\n",
       "\n",
       "  /* Specific color for light theme */\n",
       "  --sklearn-color-text-on-default-background: var(--sg-text-color, var(--theme-code-foreground, var(--jp-content-font-color1, black)));\n",
       "  --sklearn-color-background: var(--sg-background-color, var(--theme-background, var(--jp-layout-color0, white)));\n",
       "  --sklearn-color-border-box: var(--sg-text-color, var(--theme-code-foreground, var(--jp-content-font-color1, black)));\n",
       "  --sklearn-color-icon: #696969;\n",
       "\n",
       "  @media (prefers-color-scheme: dark) {\n",
       "    /* Redefinition of color scheme for dark theme */\n",
       "    --sklearn-color-text-on-default-background: var(--sg-text-color, var(--theme-code-foreground, var(--jp-content-font-color1, white)));\n",
       "    --sklearn-color-background: var(--sg-background-color, var(--theme-background, var(--jp-layout-color0, #111)));\n",
       "    --sklearn-color-border-box: var(--sg-text-color, var(--theme-code-foreground, var(--jp-content-font-color1, white)));\n",
       "    --sklearn-color-icon: #878787;\n",
       "  }\n",
       "}\n",
       "\n",
       "#sk-container-id-1 {\n",
       "  color: var(--sklearn-color-text);\n",
       "}\n",
       "\n",
       "#sk-container-id-1 pre {\n",
       "  padding: 0;\n",
       "}\n",
       "\n",
       "#sk-container-id-1 input.sk-hidden--visually {\n",
       "  border: 0;\n",
       "  clip: rect(1px 1px 1px 1px);\n",
       "  clip: rect(1px, 1px, 1px, 1px);\n",
       "  height: 1px;\n",
       "  margin: -1px;\n",
       "  overflow: hidden;\n",
       "  padding: 0;\n",
       "  position: absolute;\n",
       "  width: 1px;\n",
       "}\n",
       "\n",
       "#sk-container-id-1 div.sk-dashed-wrapped {\n",
       "  border: 1px dashed var(--sklearn-color-line);\n",
       "  margin: 0 0.4em 0.5em 0.4em;\n",
       "  box-sizing: border-box;\n",
       "  padding-bottom: 0.4em;\n",
       "  background-color: var(--sklearn-color-background);\n",
       "}\n",
       "\n",
       "#sk-container-id-1 div.sk-container {\n",
       "  /* jupyter's `normalize.less` sets `[hidden] { display: none; }`\n",
       "     but bootstrap.min.css set `[hidden] { display: none !important; }`\n",
       "     so we also need the `!important` here to be able to override the\n",
       "     default hidden behavior on the sphinx rendered scikit-learn.org.\n",
       "     See: https://github.com/scikit-learn/scikit-learn/issues/21755 */\n",
       "  display: inline-block !important;\n",
       "  position: relative;\n",
       "}\n",
       "\n",
       "#sk-container-id-1 div.sk-text-repr-fallback {\n",
       "  display: none;\n",
       "}\n",
       "\n",
       "div.sk-parallel-item,\n",
       "div.sk-serial,\n",
       "div.sk-item {\n",
       "  /* draw centered vertical line to link estimators */\n",
       "  background-image: linear-gradient(var(--sklearn-color-text-on-default-background), var(--sklearn-color-text-on-default-background));\n",
       "  background-size: 2px 100%;\n",
       "  background-repeat: no-repeat;\n",
       "  background-position: center center;\n",
       "}\n",
       "\n",
       "/* Parallel-specific style estimator block */\n",
       "\n",
       "#sk-container-id-1 div.sk-parallel-item::after {\n",
       "  content: \"\";\n",
       "  width: 100%;\n",
       "  border-bottom: 2px solid var(--sklearn-color-text-on-default-background);\n",
       "  flex-grow: 1;\n",
       "}\n",
       "\n",
       "#sk-container-id-1 div.sk-parallel {\n",
       "  display: flex;\n",
       "  align-items: stretch;\n",
       "  justify-content: center;\n",
       "  background-color: var(--sklearn-color-background);\n",
       "  position: relative;\n",
       "}\n",
       "\n",
       "#sk-container-id-1 div.sk-parallel-item {\n",
       "  display: flex;\n",
       "  flex-direction: column;\n",
       "}\n",
       "\n",
       "#sk-container-id-1 div.sk-parallel-item:first-child::after {\n",
       "  align-self: flex-end;\n",
       "  width: 50%;\n",
       "}\n",
       "\n",
       "#sk-container-id-1 div.sk-parallel-item:last-child::after {\n",
       "  align-self: flex-start;\n",
       "  width: 50%;\n",
       "}\n",
       "\n",
       "#sk-container-id-1 div.sk-parallel-item:only-child::after {\n",
       "  width: 0;\n",
       "}\n",
       "\n",
       "/* Serial-specific style estimator block */\n",
       "\n",
       "#sk-container-id-1 div.sk-serial {\n",
       "  display: flex;\n",
       "  flex-direction: column;\n",
       "  align-items: center;\n",
       "  background-color: var(--sklearn-color-background);\n",
       "  padding-right: 1em;\n",
       "  padding-left: 1em;\n",
       "}\n",
       "\n",
       "\n",
       "/* Toggleable style: style used for estimator/Pipeline/ColumnTransformer box that is\n",
       "clickable and can be expanded/collapsed.\n",
       "- Pipeline and ColumnTransformer use this feature and define the default style\n",
       "- Estimators will overwrite some part of the style using the `sk-estimator` class\n",
       "*/\n",
       "\n",
       "/* Pipeline and ColumnTransformer style (default) */\n",
       "\n",
       "#sk-container-id-1 div.sk-toggleable {\n",
       "  /* Default theme specific background. It is overwritten whether we have a\n",
       "  specific estimator or a Pipeline/ColumnTransformer */\n",
       "  background-color: var(--sklearn-color-background);\n",
       "}\n",
       "\n",
       "/* Toggleable label */\n",
       "#sk-container-id-1 label.sk-toggleable__label {\n",
       "  cursor: pointer;\n",
       "  display: block;\n",
       "  width: 100%;\n",
       "  margin-bottom: 0;\n",
       "  padding: 0.5em;\n",
       "  box-sizing: border-box;\n",
       "  text-align: center;\n",
       "}\n",
       "\n",
       "#sk-container-id-1 label.sk-toggleable__label-arrow:before {\n",
       "  /* Arrow on the left of the label */\n",
       "  content: \"▸\";\n",
       "  float: left;\n",
       "  margin-right: 0.25em;\n",
       "  color: var(--sklearn-color-icon);\n",
       "}\n",
       "\n",
       "#sk-container-id-1 label.sk-toggleable__label-arrow:hover:before {\n",
       "  color: var(--sklearn-color-text);\n",
       "}\n",
       "\n",
       "/* Toggleable content - dropdown */\n",
       "\n",
       "#sk-container-id-1 div.sk-toggleable__content {\n",
       "  max-height: 0;\n",
       "  max-width: 0;\n",
       "  overflow: hidden;\n",
       "  text-align: left;\n",
       "  /* unfitted */\n",
       "  background-color: var(--sklearn-color-unfitted-level-0);\n",
       "}\n",
       "\n",
       "#sk-container-id-1 div.sk-toggleable__content.fitted {\n",
       "  /* fitted */\n",
       "  background-color: var(--sklearn-color-fitted-level-0);\n",
       "}\n",
       "\n",
       "#sk-container-id-1 div.sk-toggleable__content pre {\n",
       "  margin: 0.2em;\n",
       "  border-radius: 0.25em;\n",
       "  color: var(--sklearn-color-text);\n",
       "  /* unfitted */\n",
       "  background-color: var(--sklearn-color-unfitted-level-0);\n",
       "}\n",
       "\n",
       "#sk-container-id-1 div.sk-toggleable__content.fitted pre {\n",
       "  /* unfitted */\n",
       "  background-color: var(--sklearn-color-fitted-level-0);\n",
       "}\n",
       "\n",
       "#sk-container-id-1 input.sk-toggleable__control:checked~div.sk-toggleable__content {\n",
       "  /* Expand drop-down */\n",
       "  max-height: 200px;\n",
       "  max-width: 100%;\n",
       "  overflow: auto;\n",
       "}\n",
       "\n",
       "#sk-container-id-1 input.sk-toggleable__control:checked~label.sk-toggleable__label-arrow:before {\n",
       "  content: \"▾\";\n",
       "}\n",
       "\n",
       "/* Pipeline/ColumnTransformer-specific style */\n",
       "\n",
       "#sk-container-id-1 div.sk-label input.sk-toggleable__control:checked~label.sk-toggleable__label {\n",
       "  color: var(--sklearn-color-text);\n",
       "  background-color: var(--sklearn-color-unfitted-level-2);\n",
       "}\n",
       "\n",
       "#sk-container-id-1 div.sk-label.fitted input.sk-toggleable__control:checked~label.sk-toggleable__label {\n",
       "  background-color: var(--sklearn-color-fitted-level-2);\n",
       "}\n",
       "\n",
       "/* Estimator-specific style */\n",
       "\n",
       "/* Colorize estimator box */\n",
       "#sk-container-id-1 div.sk-estimator input.sk-toggleable__control:checked~label.sk-toggleable__label {\n",
       "  /* unfitted */\n",
       "  background-color: var(--sklearn-color-unfitted-level-2);\n",
       "}\n",
       "\n",
       "#sk-container-id-1 div.sk-estimator.fitted input.sk-toggleable__control:checked~label.sk-toggleable__label {\n",
       "  /* fitted */\n",
       "  background-color: var(--sklearn-color-fitted-level-2);\n",
       "}\n",
       "\n",
       "#sk-container-id-1 div.sk-label label.sk-toggleable__label,\n",
       "#sk-container-id-1 div.sk-label label {\n",
       "  /* The background is the default theme color */\n",
       "  color: var(--sklearn-color-text-on-default-background);\n",
       "}\n",
       "\n",
       "/* On hover, darken the color of the background */\n",
       "#sk-container-id-1 div.sk-label:hover label.sk-toggleable__label {\n",
       "  color: var(--sklearn-color-text);\n",
       "  background-color: var(--sklearn-color-unfitted-level-2);\n",
       "}\n",
       "\n",
       "/* Label box, darken color on hover, fitted */\n",
       "#sk-container-id-1 div.sk-label.fitted:hover label.sk-toggleable__label.fitted {\n",
       "  color: var(--sklearn-color-text);\n",
       "  background-color: var(--sklearn-color-fitted-level-2);\n",
       "}\n",
       "\n",
       "/* Estimator label */\n",
       "\n",
       "#sk-container-id-1 div.sk-label label {\n",
       "  font-family: monospace;\n",
       "  font-weight: bold;\n",
       "  display: inline-block;\n",
       "  line-height: 1.2em;\n",
       "}\n",
       "\n",
       "#sk-container-id-1 div.sk-label-container {\n",
       "  text-align: center;\n",
       "}\n",
       "\n",
       "/* Estimator-specific */\n",
       "#sk-container-id-1 div.sk-estimator {\n",
       "  font-family: monospace;\n",
       "  border: 1px dotted var(--sklearn-color-border-box);\n",
       "  border-radius: 0.25em;\n",
       "  box-sizing: border-box;\n",
       "  margin-bottom: 0.5em;\n",
       "  /* unfitted */\n",
       "  background-color: var(--sklearn-color-unfitted-level-0);\n",
       "}\n",
       "\n",
       "#sk-container-id-1 div.sk-estimator.fitted {\n",
       "  /* fitted */\n",
       "  background-color: var(--sklearn-color-fitted-level-0);\n",
       "}\n",
       "\n",
       "/* on hover */\n",
       "#sk-container-id-1 div.sk-estimator:hover {\n",
       "  /* unfitted */\n",
       "  background-color: var(--sklearn-color-unfitted-level-2);\n",
       "}\n",
       "\n",
       "#sk-container-id-1 div.sk-estimator.fitted:hover {\n",
       "  /* fitted */\n",
       "  background-color: var(--sklearn-color-fitted-level-2);\n",
       "}\n",
       "\n",
       "/* Specification for estimator info (e.g. \"i\" and \"?\") */\n",
       "\n",
       "/* Common style for \"i\" and \"?\" */\n",
       "\n",
       ".sk-estimator-doc-link,\n",
       "a:link.sk-estimator-doc-link,\n",
       "a:visited.sk-estimator-doc-link {\n",
       "  float: right;\n",
       "  font-size: smaller;\n",
       "  line-height: 1em;\n",
       "  font-family: monospace;\n",
       "  background-color: var(--sklearn-color-background);\n",
       "  border-radius: 1em;\n",
       "  height: 1em;\n",
       "  width: 1em;\n",
       "  text-decoration: none !important;\n",
       "  margin-left: 1ex;\n",
       "  /* unfitted */\n",
       "  border: var(--sklearn-color-unfitted-level-1) 1pt solid;\n",
       "  color: var(--sklearn-color-unfitted-level-1);\n",
       "}\n",
       "\n",
       ".sk-estimator-doc-link.fitted,\n",
       "a:link.sk-estimator-doc-link.fitted,\n",
       "a:visited.sk-estimator-doc-link.fitted {\n",
       "  /* fitted */\n",
       "  border: var(--sklearn-color-fitted-level-1) 1pt solid;\n",
       "  color: var(--sklearn-color-fitted-level-1);\n",
       "}\n",
       "\n",
       "/* On hover */\n",
       "div.sk-estimator:hover .sk-estimator-doc-link:hover,\n",
       ".sk-estimator-doc-link:hover,\n",
       "div.sk-label-container:hover .sk-estimator-doc-link:hover,\n",
       ".sk-estimator-doc-link:hover {\n",
       "  /* unfitted */\n",
       "  background-color: var(--sklearn-color-unfitted-level-3);\n",
       "  color: var(--sklearn-color-background);\n",
       "  text-decoration: none;\n",
       "}\n",
       "\n",
       "div.sk-estimator.fitted:hover .sk-estimator-doc-link.fitted:hover,\n",
       ".sk-estimator-doc-link.fitted:hover,\n",
       "div.sk-label-container:hover .sk-estimator-doc-link.fitted:hover,\n",
       ".sk-estimator-doc-link.fitted:hover {\n",
       "  /* fitted */\n",
       "  background-color: var(--sklearn-color-fitted-level-3);\n",
       "  color: var(--sklearn-color-background);\n",
       "  text-decoration: none;\n",
       "}\n",
       "\n",
       "/* Span, style for the box shown on hovering the info icon */\n",
       ".sk-estimator-doc-link span {\n",
       "  display: none;\n",
       "  z-index: 9999;\n",
       "  position: relative;\n",
       "  font-weight: normal;\n",
       "  right: .2ex;\n",
       "  padding: .5ex;\n",
       "  margin: .5ex;\n",
       "  width: min-content;\n",
       "  min-width: 20ex;\n",
       "  max-width: 50ex;\n",
       "  color: var(--sklearn-color-text);\n",
       "  box-shadow: 2pt 2pt 4pt #999;\n",
       "  /* unfitted */\n",
       "  background: var(--sklearn-color-unfitted-level-0);\n",
       "  border: .5pt solid var(--sklearn-color-unfitted-level-3);\n",
       "}\n",
       "\n",
       ".sk-estimator-doc-link.fitted span {\n",
       "  /* fitted */\n",
       "  background: var(--sklearn-color-fitted-level-0);\n",
       "  border: var(--sklearn-color-fitted-level-3);\n",
       "}\n",
       "\n",
       ".sk-estimator-doc-link:hover span {\n",
       "  display: block;\n",
       "}\n",
       "\n",
       "/* \"?\"-specific style due to the `<a>` HTML tag */\n",
       "\n",
       "#sk-container-id-1 a.estimator_doc_link {\n",
       "  float: right;\n",
       "  font-size: 1rem;\n",
       "  line-height: 1em;\n",
       "  font-family: monospace;\n",
       "  background-color: var(--sklearn-color-background);\n",
       "  border-radius: 1rem;\n",
       "  height: 1rem;\n",
       "  width: 1rem;\n",
       "  text-decoration: none;\n",
       "  /* unfitted */\n",
       "  color: var(--sklearn-color-unfitted-level-1);\n",
       "  border: var(--sklearn-color-unfitted-level-1) 1pt solid;\n",
       "}\n",
       "\n",
       "#sk-container-id-1 a.estimator_doc_link.fitted {\n",
       "  /* fitted */\n",
       "  border: var(--sklearn-color-fitted-level-1) 1pt solid;\n",
       "  color: var(--sklearn-color-fitted-level-1);\n",
       "}\n",
       "\n",
       "/* On hover */\n",
       "#sk-container-id-1 a.estimator_doc_link:hover {\n",
       "  /* unfitted */\n",
       "  background-color: var(--sklearn-color-unfitted-level-3);\n",
       "  color: var(--sklearn-color-background);\n",
       "  text-decoration: none;\n",
       "}\n",
       "\n",
       "#sk-container-id-1 a.estimator_doc_link.fitted:hover {\n",
       "  /* fitted */\n",
       "  background-color: var(--sklearn-color-fitted-level-3);\n",
       "}\n",
       "</style><div id=\"sk-container-id-1\" class=\"sk-top-container\"><div class=\"sk-text-repr-fallback\"><pre>GaussianProcessRegressor(alpha=0.5,\n",
       "                         kernel=Matern(length_scale=0.1, nu=1.5) * ExpSineSquared(length_scale=1, periodicity=12) + ExpSineSquared(length_scale=1, periodicity=60),\n",
       "                         normalize_y=True, random_state=123)</pre><b>In a Jupyter environment, please rerun this cell to show the HTML representation or trust the notebook. <br />On GitHub, the HTML representation is unable to render, please try loading this page with nbviewer.org.</b></div><div class=\"sk-container\" hidden><div class=\"sk-item\"><div class=\"sk-estimator fitted sk-toggleable\"><input class=\"sk-toggleable__control sk-hidden--visually\" id=\"sk-estimator-id-1\" type=\"checkbox\" checked><label for=\"sk-estimator-id-1\" class=\"sk-toggleable__label fitted sk-toggleable__label-arrow fitted\">&nbsp;&nbsp;GaussianProcessRegressor<a class=\"sk-estimator-doc-link fitted\" rel=\"noreferrer\" target=\"_blank\" href=\"https://scikit-learn.org/1.4/modules/generated/sklearn.gaussian_process.GaussianProcessRegressor.html\">?<span>Documentation for GaussianProcessRegressor</span></a><span class=\"sk-estimator-doc-link fitted\">i<span>Fitted</span></span></label><div class=\"sk-toggleable__content fitted\"><pre>GaussianProcessRegressor(alpha=0.5,\n",
       "                         kernel=Matern(length_scale=0.1, nu=1.5) * ExpSineSquared(length_scale=1, periodicity=12) + ExpSineSquared(length_scale=1, periodicity=60),\n",
       "                         normalize_y=True, random_state=123)</pre></div> </div></div></div></div>"
      ],
      "text/plain": [
       "GaussianProcessRegressor(alpha=0.5,\n",
       "                         kernel=Matern(length_scale=0.1, nu=1.5) * ExpSineSquared(length_scale=1, periodicity=12) + ExpSineSquared(length_scale=1, periodicity=60),\n",
       "                         normalize_y=True, random_state=123)"
      ]
     },
     "metadata": {},
     "output_type": "display_data"
    }
   ],
   "source": [
    "pitch_kernel = (\n",
    "    Matern(length_scale=0.1, length_scale_bounds=(0.01, 200))\n",
    "    * (ExpSineSquared(periodicity=12) + ExpSineSquared(periodicity=60))\n",
    ")\n",
    "pitch_gp = GaussianProcessRegressor(\n",
    "    kernel=pitch_kernel,\n",
    "    random_state=123,\n",
    "    alpha=0.5,\n",
    "    normalize_y=True\n",
    ")\n",
    "pitch_gp.fit(XYsub[:, 0].reshape(-1, 1), XYsub[:, 1])"
   ]
  },
  {
   "cell_type": "code",
   "execution_count": null,
   "metadata": {},
   "outputs": [
    {
     "data": {
      "text/plain": [
       "<matplotlib.collections.PathCollection at 0x13c835150>"
      ]
     },
     "metadata": {},
     "output_type": "display_data"
    },
    {
     "data": {
      "image/png": "[encoded data removed]",
      "text/plain": [
       "<Figure size 640x480 with 1 Axes>"
      ]
     },
     "metadata": {},
     "output_type": "display_data"
    }
   ],
   "source": [
    "beat_to_predict = np.arange(0, 100, 0.2).reshape(-1, 1)\n",
    "pitch_pred = pitch_gp.sample_y(beat_to_predict, n_samples=5)\n",
    "plt.plot(beat_to_predict, pitch_pred, alpha=0.25)\n",
    "plt.scatter(XYsub[:, 0], XYsub[:, 1], marker='o', edgecolors='black', facecolors='cyan')"
   ]
  },
  {
   "cell_type": "markdown",
   "metadata": {},
   "source": [
    "## Model durations"
   ]
  },
  {
   "cell_type": "code",
   "execution_count": null,
   "metadata": {},
   "outputs": [
    {
     "data": {
      "text/plain": [
       "Text(0, 0.5, 'Duration (beats)')"
      ]
     },
     "metadata": {},
     "output_type": "display_data"
    },
    {
     "data": {
      "image/png": "[encoded data removed]",
      "text/plain": [
       "<Figure size 640x480 with 1 Axes>"
      ]
     },
     "metadata": {},
     "output_type": "display_data"
    }
   ],
   "source": [
    "plt.scatter(XY[:, 0], XY[:, 2], color='cyan')\n",
    "plt.scatter(XYsub[:, 0], XYsub[:, 2], marker='o', edgecolors='black', facecolors='none')\n",
    "plt.xlabel('Time (beats)')\n",
    "plt.ylabel('Duration (beats)')"
   ]
  },
  {
   "cell_type": "code",
   "execution_count": null,
   "metadata": {},
   "outputs": [
    {
     "data": {
      "text/plain": [
       "<matplotlib.collections.PathCollection at 0x13d4f6cd0>"
      ]
     },
     "metadata": {},
     "output_type": "display_data"
    },
    {
     "data": {
      "image/png": "[encoded data removed]",
      "text/plain": [
       "<Figure size 640x480 with 1 Axes>"
      ]
     },
     "metadata": {},
     "output_type": "display_data"
    }
   ],
   "source": [
    "duration_kernel = Matern(length_scale=50, length_scale_bounds=(10, 100)) * ExpSineSquared(periodicity=35)\n",
    "duration_gp = GaussianProcessRegressor(kernel=duration_kernel, random_state=123, alpha=0.25, normalize_y=True)\n",
    "duration_gp.fit(XY[:, 0].reshape(-1, 1), XY[:, 2])\n",
    "duration_pred = duration_gp.sample_y(beat_to_predict, n_samples=5)\n",
    "plt.plot(beat_to_predict, duration_pred, alpha=0.25)\n",
    "plt.scatter(XYsub[:, 0], XYsub[:, 2], marker='o', edgecolors='black', facecolors='cyan')"
   ]
  },
  {
   "cell_type": "markdown",
   "metadata": {},
   "source": [
    "# Predict\n",
    "\n",
    "We modeled pitches and durations through time with Gaussian processes. The resulting signals is are continuous over time. We thus have to choose the start time, i.e. *where* to obtain predictions. A natural option is to select the start times of our data. Another one would be... well anything else, from writing our own beat to generate is randomly with `djalgo.rhythm.Rhythm.random()`. Let's take the original starting times."
   ]
  },
  {
   "cell_type": "code",
   "execution_count": null,
   "metadata": {},
   "outputs": [],
   "source": [
    "beat_to_predict = XY[:, 0].reshape(-1, 1)\n",
    "pitch_pred = pitch_gp.sample_y(beat_to_predict, n_samples=2)\n",
    "duration_pred = duration_gp.sample_y(beat_to_predict, n_samples=2)"
   ]
  },
  {
   "cell_type": "markdown",
   "metadata": {},
   "source": [
    "I generated two samples, which will be recorded as two instruments."
   ]
  },
  {
   "cell_type": "code",
   "execution_count": null,
   "metadata": {},
   "outputs": [],
   "source": [
    "instrument0_array = np.column_stack([\n",
    "    beat_to_predict, pitch_pred[:, 0], duration_pred[:, 0]\n",
    "])\n",
    "instrument1_array = np.column_stack([\n",
    "    beat_to_predict, pitch_pred[:, 1], duration_pred[:, 1]\n",
    "])"
   ]
  },
  {
   "cell_type": "markdown",
   "metadata": {},
   "source": [
    "Pitches can be altered to comply to a given scale."
   ]
  },
  {
   "cell_type": "code",
   "execution_count": null,
   "metadata": {},
   "outputs": [],
   "source": [
    "full_Dminor = dj.signal.Scale(tonic='D', scale_type='minor').generate()\n",
    "instrument0_array[:, 1] = [dj.utils.round_to_list(p, full_Dminor) for p in instrument0_array[:, 1]]\n",
    "instrument1_array[:, 1] = [dj.utils.round_to_list(p, full_Dminor) for p in instrument1_array[:, 1]]"
   ]
  },
  {
   "cell_type": "markdown",
   "metadata": {},
   "source": [
    "As well as durations"
   ]
  },
  {
   "cell_type": "code",
   "execution_count": null,
   "metadata": {},
   "outputs": [],
   "source": [
    "allowed_durations = [1/4, 1/3, 1/2, 3/4, 1]\n",
    "instrument0_array[:, 2] = [dj.utils.round_to_list(d, allowed_durations) for d in instrument0_array[:, 2]]\n",
    "instrument1_array[:, 2] = [dj.utils.round_to_list(d, allowed_durations) for d in instrument1_array[:, 2]]"
   ]
  },
  {
   "cell_type": "code",
   "execution_count": null,
   "metadata": {},
   "outputs": [],
   "source": [
    "midi_tracks = pretty_midi.PrettyMIDI()\n",
    "midi_tracks.instruments.append(pretty_midi.Instrument(program=0))\n",
    "midi_tracks.instruments.append(pretty_midi.Instrument(program=0))\n",
    "\n",
    "for i in range(instrument0_array.shape[0]):\n",
    "    note0 = pretty_midi.Note(\n",
    "        velocity=100,\n",
    "        pitch=int(instrument0_array[i, 1]),\n",
    "        start=instrument0_array[i, 0],\n",
    "        end=instrument0_array[i, 0] + instrument0_array[i, 2]\n",
    "    )\n",
    "    midi_tracks.instruments[0].notes.append(note0)\n",
    "    note1 = pretty_midi.Note(\n",
    "        velocity=100,\n",
    "        pitch=int(instrument1_array[i, 1]),\n",
    "        start=instrument1_array[i, 0],\n",
    "        end=instrument1_array[i, 0] + instrument1_array[i, 2]\n",
    "    )\n",
    "    midi_tracks.instruments[1].notes.append(note1)\n",
    "midi_tracks.write('gp_midi.mid')"
   ]
  },
  {
   "cell_type": "markdown",
   "metadata": {},
   "source": [
    "## Data sonification\n",
    "\n",
    "Range, models"
   ]
  },
  {
   "cell_type": "markdown",
   "metadata": {},
   "source": []
  }
 ],
 "metadata": {
  "kernelspec": {
   "display_name": "musicbook",
   "language": "python",
   "name": "musicbook"
  },
  "language_info": {
   "codemirror_mode": {
    "name": "ipython",
    "version": 3
   },
   "file_extension": ".py",
   "mimetype": "text/x-python",
   "name": "python",
   "nbconvert_exporter": "python",
   "pygments_lexer": "ipython3",
   "version": "3.11.9"
  },
  "orig_nbformat": 4,
  "vscode": {
   "interpreter": {
    "hash": "22c1fdf23b544c5c6875eb367892c5e35fbf88d803b528cbf2f0c08d0f8dde5a"
   }
  }
 },
 "nbformat": 4,
 "nbformat_minor": 2
}
